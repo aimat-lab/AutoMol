{
 "cells": [
  {
   "cell_type": "markdown",
   "metadata": {},
   "source": [
    "This is a minimal example of using AutoMol:\n",
    "- Training dataset: QM9\n",
    "- Training features: rdkit features, fingerprints (PCA to 50 dimensions for MLP)\n",
    "- Feature to learn: HOMO energy\n",
    "- Models: RandomForest, GradientBoosting, GaussianProcess, MLP neural network\n",
    "- Problem: regression\n",
    "- Dataset location: local\n",
    "- No CV\n",
    "- No custom features"
   ]
  },
  {
   "cell_type": "code",
   "execution_count": 1,
   "metadata": {},
   "outputs": [],
   "source": [
    "if'automol'in globals(): import importlib; importlib.reload(automol)"
   ]
  },
  {
   "cell_type": "code",
   "execution_count": 2,
   "metadata": {},
   "outputs": [],
   "source": [
    "from automol.pipeline import Pipeline"
   ]
  },
  {
   "cell_type": "code",
   "execution_count": 3,
   "metadata": {},
   "outputs": [
    {
     "name": "stderr",
     "output_type": "stream",
     "text": [
      "/home/erik/miniconda2/envs/automol/lib/python3.8/site-packages/ipykernel/ipkernel.py:283: DeprecationWarning: `should_run_async` will not call `transform_cell` automatically in the future. Please pass the result to `transformed_cell` argument and any exception that happen during thetransform in `preprocessing_exc_tuple` in IPython 7.17 and above.\n",
      "  and should_run_async(code)\n"
     ]
    },
    {
     "name": "stdout",
     "output_type": "stream",
     "text": [
      "amount: 200\n",
      "dataset_class: QM9\n",
      "dataset_location: data/dsgdb9nsd\n",
      "dataset_split_test_size: 0.1\n",
      "features:\n",
      "- fingerprint\n",
      "- rdkit\n",
      "label: homo\n",
      "mlflow_experiment: qm9_dataset_automol_demo\n",
      "models_filter:\n",
      "- git_uri: sklearn\n",
      "  model_names:\n",
      "  - RandomForestRegressor\n",
      "  - GradientBoostingRegressor\n",
      "  - GaussianProcessRegressor\n",
      "  - MLPRegressor\n",
      "  whitelist: 1\n",
      "pca_preprocessing:\n",
      "  feature: fingerprint\n",
      "  model_name: MLPRegressor\n",
      "  n_components: 50\n",
      "problem: regression\n",
      "train_test_splits: 1\n",
      "\n"
     ]
    }
   ],
   "source": [
    "config_yaml = 'qm9_dataset_example_3.yaml'\n",
    "pipeline = Pipeline(config_yaml)\n",
    "pipeline.print_spec()"
   ]
  },
  {
   "cell_type": "code",
   "execution_count": 4,
   "metadata": {},
   "outputs": [
    {
     "name": "stdout",
     "output_type": "stream",
     "text": [
      "Got the feature homo from the current dataset.\n",
      "Checking if the feature fingerprint can be generated.\n",
      "Got the generated feature fingerprint.\n",
      "Got the feature fingerprint from the current dataset.\n",
      "Running model MLPRegressor with feature fingerprint (PCA to 50 dimensions).\n",
      "Running model RandomForestRegressor with feature fingerprint.\n"
     ]
    },
    {
     "name": "stderr",
     "output_type": "stream",
     "text": [
      "2021/03/17 00:02:56 WARNING mlflow.models.model: Logging model metadata to the tracking server has failed, possibly due older server version. The model artifacts have been logged successfully under sftp://lsdf/kit/iti/projects/aimat-mlflow/artifacts/24/1b09e4ee0b60493bb73649f20cbd7335/artifacts. In addition to exporting model artifacts, MLflow clients 1.7.0 and above attempt to record model metadata to the  tracking store. If logging to a mlflow server via REST, consider  upgrading the server version to MLflow 1.7.0 or above.\n"
     ]
    },
    {
     "name": "stdout",
     "output_type": "stream",
     "text": [
      "Running model GaussianProcessRegressor with feature fingerprint.\n"
     ]
    },
    {
     "name": "stderr",
     "output_type": "stream",
     "text": [
      "2021/03/17 00:03:05 WARNING mlflow.models.model: Logging model metadata to the tracking server has failed, possibly due older server version. The model artifacts have been logged successfully under sftp://lsdf/kit/iti/projects/aimat-mlflow/artifacts/24/cdcfe2c2b3ff41e3abb7f1e5d6a6a1b1/artifacts. In addition to exporting model artifacts, MLflow clients 1.7.0 and above attempt to record model metadata to the  tracking store. If logging to a mlflow server via REST, consider  upgrading the server version to MLflow 1.7.0 or above.\n"
     ]
    },
    {
     "name": "stdout",
     "output_type": "stream",
     "text": [
      "Running model GradientBoostingRegressor with feature fingerprint.\n"
     ]
    },
    {
     "name": "stderr",
     "output_type": "stream",
     "text": [
      "2021/03/17 00:03:15 WARNING mlflow.models.model: Logging model metadata to the tracking server has failed, possibly due older server version. The model artifacts have been logged successfully under sftp://lsdf/kit/iti/projects/aimat-mlflow/artifacts/24/e134367920a0408f9e66c18dd3d98836/artifacts. In addition to exporting model artifacts, MLflow clients 1.7.0 and above attempt to record model metadata to the  tracking store. If logging to a mlflow server via REST, consider  upgrading the server version to MLflow 1.7.0 or above.\n"
     ]
    },
    {
     "name": "stdout",
     "output_type": "stream",
     "text": [
      "Checking if the feature rdkit can be generated.\n",
      "Got the generated feature rdkit.\n",
      "Running model MLPRegressor with feature rdkit.\n"
     ]
    },
    {
     "name": "stderr",
     "output_type": "stream",
     "text": [
      "/home/erik/miniconda2/envs/automol/lib/python3.8/site-packages/sklearn/neural_network/_multilayer_perceptron.py:582: ConvergenceWarning: Stochastic Optimizer: Maximum iterations (200) reached and the optimization hasn't converged yet.\n",
      "  warnings.warn(\n",
      "2021/03/17 00:03:26 WARNING mlflow.models.model: Logging model metadata to the tracking server has failed, possibly due older server version. The model artifacts have been logged successfully under sftp://lsdf/kit/iti/projects/aimat-mlflow/artifacts/24/1f31207a02504ac4aa8910518d556622/artifacts. In addition to exporting model artifacts, MLflow clients 1.7.0 and above attempt to record model metadata to the  tracking store. If logging to a mlflow server via REST, consider  upgrading the server version to MLflow 1.7.0 or above.\n"
     ]
    },
    {
     "name": "stdout",
     "output_type": "stream",
     "text": [
      "Running model RandomForestRegressor with feature rdkit.\n"
     ]
    },
    {
     "name": "stderr",
     "output_type": "stream",
     "text": [
      "2021/03/17 00:03:36 WARNING mlflow.models.model: Logging model metadata to the tracking server has failed, possibly due older server version. The model artifacts have been logged successfully under sftp://lsdf/kit/iti/projects/aimat-mlflow/artifacts/24/0fa797c72fdb4f238f8e4c17b0d7a83a/artifacts. In addition to exporting model artifacts, MLflow clients 1.7.0 and above attempt to record model metadata to the  tracking store. If logging to a mlflow server via REST, consider  upgrading the server version to MLflow 1.7.0 or above.\n"
     ]
    },
    {
     "name": "stdout",
     "output_type": "stream",
     "text": [
      "Running model GaussianProcessRegressor with feature rdkit.\n"
     ]
    },
    {
     "name": "stderr",
     "output_type": "stream",
     "text": [
      "2021/03/17 00:03:43 WARNING mlflow.models.model: Logging model metadata to the tracking server has failed, possibly due older server version. The model artifacts have been logged successfully under sftp://lsdf/kit/iti/projects/aimat-mlflow/artifacts/24/dde46c71aa6f46ae8008a180db4b5a78/artifacts. In addition to exporting model artifacts, MLflow clients 1.7.0 and above attempt to record model metadata to the  tracking store. If logging to a mlflow server via REST, consider  upgrading the server version to MLflow 1.7.0 or above.\n"
     ]
    },
    {
     "name": "stdout",
     "output_type": "stream",
     "text": [
      "Running model GradientBoostingRegressor with feature rdkit.\n"
     ]
    },
    {
     "name": "stderr",
     "output_type": "stream",
     "text": [
      "2021/03/17 00:03:50 WARNING mlflow.models.model: Logging model metadata to the tracking server has failed, possibly due older server version. The model artifacts have been logged successfully under sftp://lsdf/kit/iti/projects/aimat-mlflow/artifacts/24/9b8db9832e374f53a6c63874b43cef08/artifacts. In addition to exporting model artifacts, MLflow clients 1.7.0 and above attempt to record model metadata to the  tracking store. If logging to a mlflow server via REST, consider  upgrading the server version to MLflow 1.7.0 or above.\n"
     ]
    }
   ],
   "source": [
    "pipeline.train()"
   ]
  },
  {
   "cell_type": "code",
   "execution_count": 5,
   "metadata": {},
   "outputs": [
    {
     "name": "stderr",
     "output_type": "stream",
     "text": [
      "/home/erik/miniconda2/envs/automol/lib/python3.8/site-packages/ipykernel/ipkernel.py:283: DeprecationWarning: `should_run_async` will not call `transform_cell` automatically in the future. Please pass the result to `transformed_cell` argument and any exception that happen during thetransform in `preprocessing_exc_tuple` in IPython 7.17 and above.\n",
      "  and should_run_async(code)\n"
     ]
    },
    {
     "data": {
      "text/html": [
       "<div>\n",
       "<style scoped>\n",
       "    .dataframe tbody tr th:only-of-type {\n",
       "        vertical-align: middle;\n",
       "    }\n",
       "\n",
       "    .dataframe tbody tr th {\n",
       "        vertical-align: top;\n",
       "    }\n",
       "\n",
       "    .dataframe thead th {\n",
       "        text-align: right;\n",
       "    }\n",
       "</style>\n",
       "<table border=\"1\" class=\"dataframe\">\n",
       "  <thead>\n",
       "    <tr style=\"text-align: right;\">\n",
       "      <th></th>\n",
       "      <th>model</th>\n",
       "      <th>feature</th>\n",
       "      <th>split_index</th>\n",
       "      <th>training_mae</th>\n",
       "      <th>training_mse</th>\n",
       "      <th>training_r2_score</th>\n",
       "      <th>test_mae</th>\n",
       "      <th>test_mse</th>\n",
       "      <th>test_r2_score</th>\n",
       "      <th>training_rmse</th>\n",
       "      <th>training_score</th>\n",
       "    </tr>\n",
       "  </thead>\n",
       "  <tbody>\n",
       "    <tr>\n",
       "      <th>0</th>\n",
       "      <td>MLPRegressor</td>\n",
       "      <td>fingerprint</td>\n",
       "      <td>0</td>\n",
       "      <td>3.765713e-02</td>\n",
       "      <td>3.122447e-03</td>\n",
       "      <td>-4.943815</td>\n",
       "      <td>0.439100</td>\n",
       "      <td>0.346840</td>\n",
       "      <td>-601.538868</td>\n",
       "      <td>5.587886e-02</td>\n",
       "      <td>-4.943815</td>\n",
       "    </tr>\n",
       "    <tr>\n",
       "      <th>1</th>\n",
       "      <td>RandomForestRegressor</td>\n",
       "      <td>fingerprint</td>\n",
       "      <td>0</td>\n",
       "      <td>4.903111e-03</td>\n",
       "      <td>5.305714e-05</td>\n",
       "      <td>0.899002</td>\n",
       "      <td>0.015051</td>\n",
       "      <td>0.000575</td>\n",
       "      <td>0.000795</td>\n",
       "      <td>7.284033e-03</td>\n",
       "      <td>0.899002</td>\n",
       "    </tr>\n",
       "    <tr>\n",
       "      <th>2</th>\n",
       "      <td>GaussianProcessRegressor</td>\n",
       "      <td>fingerprint</td>\n",
       "      <td>0</td>\n",
       "      <td>2.389623e-11</td>\n",
       "      <td>5.762828e-22</td>\n",
       "      <td>1.000000</td>\n",
       "      <td>0.234240</td>\n",
       "      <td>0.055444</td>\n",
       "      <td>-95.318763</td>\n",
       "      <td>2.400589e-11</td>\n",
       "      <td>1.000000</td>\n",
       "    </tr>\n",
       "    <tr>\n",
       "      <th>3</th>\n",
       "      <td>GradientBoostingRegressor</td>\n",
       "      <td>fingerprint</td>\n",
       "      <td>0</td>\n",
       "      <td>2.449391e-03</td>\n",
       "      <td>1.542052e-05</td>\n",
       "      <td>0.970646</td>\n",
       "      <td>0.017042</td>\n",
       "      <td>0.000832</td>\n",
       "      <td>-0.445278</td>\n",
       "      <td>3.926896e-03</td>\n",
       "      <td>0.970646</td>\n",
       "    </tr>\n",
       "    <tr>\n",
       "      <th>4</th>\n",
       "      <td>MLPRegressor</td>\n",
       "      <td>rdkit</td>\n",
       "      <td>0</td>\n",
       "      <td>1.467772e-01</td>\n",
       "      <td>4.110980e-02</td>\n",
       "      <td>-72.079946</td>\n",
       "      <td>0.505249</td>\n",
       "      <td>0.423343</td>\n",
       "      <td>-1738.824132</td>\n",
       "      <td>2.027555e-01</td>\n",
       "      <td>-72.079946</td>\n",
       "    </tr>\n",
       "    <tr>\n",
       "      <th>5</th>\n",
       "      <td>RandomForestRegressor</td>\n",
       "      <td>rdkit</td>\n",
       "      <td>0</td>\n",
       "      <td>5.080011e-03</td>\n",
       "      <td>5.280016e-05</td>\n",
       "      <td>0.906138</td>\n",
       "      <td>0.011459</td>\n",
       "      <td>0.000204</td>\n",
       "      <td>0.162346</td>\n",
       "      <td>7.266372e-03</td>\n",
       "      <td>0.906138</td>\n",
       "    </tr>\n",
       "    <tr>\n",
       "      <th>6</th>\n",
       "      <td>GaussianProcessRegressor</td>\n",
       "      <td>rdkit</td>\n",
       "      <td>0</td>\n",
       "      <td>2.391587e-11</td>\n",
       "      <td>5.775941e-22</td>\n",
       "      <td>1.000000</td>\n",
       "      <td>0.233390</td>\n",
       "      <td>0.054714</td>\n",
       "      <td>-223.860740</td>\n",
       "      <td>2.403319e-11</td>\n",
       "      <td>1.000000</td>\n",
       "    </tr>\n",
       "    <tr>\n",
       "      <th>7</th>\n",
       "      <td>GradientBoostingRegressor</td>\n",
       "      <td>rdkit</td>\n",
       "      <td>0</td>\n",
       "      <td>1.498092e-03</td>\n",
       "      <td>3.335171e-06</td>\n",
       "      <td>0.994071</td>\n",
       "      <td>0.011907</td>\n",
       "      <td>0.000245</td>\n",
       "      <td>-0.007618</td>\n",
       "      <td>1.826245e-03</td>\n",
       "      <td>0.994071</td>\n",
       "    </tr>\n",
       "  </tbody>\n",
       "</table>\n",
       "</div>"
      ],
      "text/plain": [
       "                       model      feature split_index  training_mae  \\\n",
       "0               MLPRegressor  fingerprint           0  3.765713e-02   \n",
       "1      RandomForestRegressor  fingerprint           0  4.903111e-03   \n",
       "2   GaussianProcessRegressor  fingerprint           0  2.389623e-11   \n",
       "3  GradientBoostingRegressor  fingerprint           0  2.449391e-03   \n",
       "4               MLPRegressor        rdkit           0  1.467772e-01   \n",
       "5      RandomForestRegressor        rdkit           0  5.080011e-03   \n",
       "6   GaussianProcessRegressor        rdkit           0  2.391587e-11   \n",
       "7  GradientBoostingRegressor        rdkit           0  1.498092e-03   \n",
       "\n",
       "   training_mse  training_r2_score  test_mae  test_mse  test_r2_score  \\\n",
       "0  3.122447e-03          -4.943815  0.439100  0.346840    -601.538868   \n",
       "1  5.305714e-05           0.899002  0.015051  0.000575       0.000795   \n",
       "2  5.762828e-22           1.000000  0.234240  0.055444     -95.318763   \n",
       "3  1.542052e-05           0.970646  0.017042  0.000832      -0.445278   \n",
       "4  4.110980e-02         -72.079946  0.505249  0.423343   -1738.824132   \n",
       "5  5.280016e-05           0.906138  0.011459  0.000204       0.162346   \n",
       "6  5.775941e-22           1.000000  0.233390  0.054714    -223.860740   \n",
       "7  3.335171e-06           0.994071  0.011907  0.000245      -0.007618   \n",
       "\n",
       "   training_rmse  training_score  \n",
       "0   5.587886e-02       -4.943815  \n",
       "1   7.284033e-03        0.899002  \n",
       "2   2.400589e-11        1.000000  \n",
       "3   3.926896e-03        0.970646  \n",
       "4   2.027555e-01      -72.079946  \n",
       "5   7.266372e-03        0.906138  \n",
       "6   2.403319e-11        1.000000  \n",
       "7   1.826245e-03        0.994071  "
      ]
     },
     "execution_count": 5,
     "metadata": {},
     "output_type": "execute_result"
    }
   ],
   "source": [
    "pipeline.get_statistics()"
   ]
  }
 ],
 "metadata": {
  "kernelspec": {
   "display_name": "automol",
   "language": "python",
   "name": "automol"
  },
  "language_info": {
   "codemirror_mode": {
    "name": "ipython",
    "version": 3
   },
   "file_extension": ".py",
   "mimetype": "text/x-python",
   "name": "python",
   "nbconvert_exporter": "python",
   "pygments_lexer": "ipython3",
   "version": "3.8.5"
  }
 },
 "nbformat": 4,
 "nbformat_minor": 4
}
