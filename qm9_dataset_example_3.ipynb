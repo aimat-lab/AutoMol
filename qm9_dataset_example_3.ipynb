{
 "cells": [
  {
   "cell_type": "markdown",
   "metadata": {},
   "source": [
    "This is a minimal example of using AutoMol:\n",
    "- Training dataset: QM9\n",
    "- Training features: rdkit features, fingerprints (PCA to 50 dimensions for MLP)\n",
    "- Feature to learn: HOMO energy\n",
    "- Models: RandomForest, GradientBoosting, GaussianProcess, MLP neural network\n",
    "- Problem: regression\n",
    "- Dataset location: local\n",
    "- No CV\n",
    "- No custom features"
   ]
  },
  {
   "cell_type": "code",
   "execution_count": 1,
   "metadata": {},
   "outputs": [],
   "source": [
    "if'automol'in globals(): import importlib; importlib.reload(automol)"
   ]
  },
  {
   "cell_type": "code",
   "execution_count": 2,
   "metadata": {},
   "outputs": [],
   "source": [
    "from automol.pipeline import Pipeline"
   ]
  },
  {
   "cell_type": "code",
   "execution_count": 3,
   "metadata": {},
   "outputs": [
    {
     "name": "stdout",
     "output_type": "stream",
     "text": [
      "amount: 50\n",
      "dataset_class: QM9\n",
      "dataset_location: data/dsgdb9nsd\n",
      "features:\n",
      "- fingerprint\n",
      "- rdkit\n",
      "label: homo\n",
      "mlflow_experiment: qm9_dataset_automol_demo\n",
      "models_filter:\n",
      "- git_uri: sklearn\n",
      "  model_names:\n",
      "  - RandomForestRegressor\n",
      "  - GradientBoostingRegressor\n",
      "  - GaussianProcessRegressor\n",
      "  - MLPRegressor\n",
      "  whitelist: 1\n",
      "pca_preprocessing:\n",
      "  feature: rdkit\n",
      "  model_name: MLPRegressor\n",
      "  n_components: 50\n",
      "problem: regression\n",
      "train_valid_test_split:\n",
      "- 0.6\n",
      "- 0.2\n",
      "- 0.2\n",
      "\n"
     ]
    },
    {
     "name": "stderr",
     "output_type": "stream",
     "text": [
      "/home/erik/miniconda2/envs/automol/lib/python3.8/site-packages/ipykernel/ipkernel.py:283: DeprecationWarning: `should_run_async` will not call `transform_cell` automatically in the future. Please pass the result to `transformed_cell` argument and any exception that happen during thetransform in `preprocessing_exc_tuple` in IPython 7.17 and above.\n",
      "  and should_run_async(code)\n"
     ]
    }
   ],
   "source": [
    "config_yaml = 'qm9_dataset_example_3.yaml'\n",
    "pipeline = Pipeline(config_yaml)\n",
    "pipeline.print_spec()"
   ]
  },
  {
   "cell_type": "code",
   "execution_count": 4,
   "metadata": {},
   "outputs": [
    {
     "name": "stdout",
     "output_type": "stream",
     "text": [
      "Got the feature homo from the current dataset.\n",
      "Checking if the feature fingerprint can be generated.\n",
      "Got the generated feature fingerprint.\n",
      "Running model GradientBoostingRegressor with feature fingerprint.\n"
     ]
    },
    {
     "name": "stderr",
     "output_type": "stream",
     "text": [
      "2021/03/15 10:28:54 WARNING mlflow.models.model: Logging model metadata to the tracking server has failed, possibly due older server version. The model artifacts have been logged successfully under sftp://lsdf/kit/iti/projects/aimat-mlflow/artifacts/24/4e2dce0f54864944983d573c8386b478/artifacts. In addition to exporting model artifacts, MLflow clients 1.7.0 and above attempt to record model metadata to the  tracking store. If logging to a mlflow server via REST, consider  upgrading the server version to MLflow 1.7.0 or above.\n"
     ]
    },
    {
     "name": "stdout",
     "output_type": "stream",
     "text": [
      "Running model RandomForestRegressor(n_estimators=42) with feature fingerprint.\n"
     ]
    },
    {
     "name": "stderr",
     "output_type": "stream",
     "text": [
      "2021/03/15 10:29:02 WARNING mlflow.models.model: Logging model metadata to the tracking server has failed, possibly due older server version. The model artifacts have been logged successfully under sftp://lsdf/kit/iti/projects/aimat-mlflow/artifacts/24/f3ad25a7c3b74d2d8c0e3cfd8fbe32f8/artifacts. In addition to exporting model artifacts, MLflow clients 1.7.0 and above attempt to record model metadata to the  tracking store. If logging to a mlflow server via REST, consider  upgrading the server version to MLflow 1.7.0 or above.\n"
     ]
    },
    {
     "name": "stdout",
     "output_type": "stream",
     "text": [
      "Running model MLPRegressor with feature fingerprint.\n"
     ]
    },
    {
     "name": "stderr",
     "output_type": "stream",
     "text": [
      "2021/03/15 10:29:13 WARNING mlflow.models.model: Logging model metadata to the tracking server has failed, possibly due older server version. The model artifacts have been logged successfully under sftp://lsdf/kit/iti/projects/aimat-mlflow/artifacts/24/54db3621485c49949dd275d824180187/artifacts. In addition to exporting model artifacts, MLflow clients 1.7.0 and above attempt to record model metadata to the  tracking store. If logging to a mlflow server via REST, consider  upgrading the server version to MLflow 1.7.0 or above.\n"
     ]
    },
    {
     "name": "stdout",
     "output_type": "stream",
     "text": [
      "Running model GaussianProcessRegressor with feature fingerprint.\n"
     ]
    },
    {
     "name": "stderr",
     "output_type": "stream",
     "text": [
      "2021/03/15 10:29:25 WARNING mlflow.models.model: Logging model metadata to the tracking server has failed, possibly due older server version. The model artifacts have been logged successfully under sftp://lsdf/kit/iti/projects/aimat-mlflow/artifacts/24/d46f97322da340f49a529a2c48a00d74/artifacts. In addition to exporting model artifacts, MLflow clients 1.7.0 and above attempt to record model metadata to the  tracking store. If logging to a mlflow server via REST, consider  upgrading the server version to MLflow 1.7.0 or above.\n"
     ]
    },
    {
     "name": "stdout",
     "output_type": "stream",
     "text": [
      "Checking if the feature rdkit can be generated.\n",
      "Got the generated feature rdkit.\n",
      "Running model GradientBoostingRegressor with feature rdkit.\n"
     ]
    },
    {
     "name": "stderr",
     "output_type": "stream",
     "text": [
      "2021/03/15 10:29:33 WARNING mlflow.models.model: Logging model metadata to the tracking server has failed, possibly due older server version. The model artifacts have been logged successfully under sftp://lsdf/kit/iti/projects/aimat-mlflow/artifacts/24/991ae24607b64d7ab3ab83dde255532f/artifacts. In addition to exporting model artifacts, MLflow clients 1.7.0 and above attempt to record model metadata to the  tracking store. If logging to a mlflow server via REST, consider  upgrading the server version to MLflow 1.7.0 or above.\n"
     ]
    },
    {
     "name": "stdout",
     "output_type": "stream",
     "text": [
      "Running model RandomForestRegressor(n_estimators=42) with feature rdkit.\n"
     ]
    },
    {
     "name": "stderr",
     "output_type": "stream",
     "text": [
      "2021/03/15 10:29:39 WARNING mlflow.models.model: Logging model metadata to the tracking server has failed, possibly due older server version. The model artifacts have been logged successfully under sftp://lsdf/kit/iti/projects/aimat-mlflow/artifacts/24/75629c01b50745a49efc44a68cb519ec/artifacts. In addition to exporting model artifacts, MLflow clients 1.7.0 and above attempt to record model metadata to the  tracking store. If logging to a mlflow server via REST, consider  upgrading the server version to MLflow 1.7.0 or above.\n"
     ]
    },
    {
     "name": "stdout",
     "output_type": "stream",
     "text": [
      "Running model MLPRegressor with feature rdkit (PCA to 50 dimensions).\n",
      "Got the feature rdkit from the current dataset.\n"
     ]
    },
    {
     "name": "stderr",
     "output_type": "stream",
     "text": [
      "2021/03/15 10:29:43 WARNING mlflow.sklearn: PCA.score failed. The 'training_score' metric will not be recorded. Scoring error: 'y'\n",
      "2021/03/15 10:29:43 WARNING mlflow.sklearn: Failed to infer model signature: could not sample data to infer model signature: 'y'\n"
     ]
    },
    {
     "name": "stdout",
     "output_type": "stream",
     "text": [
      "Running model GaussianProcessRegressor with feature rdkit.\n"
     ]
    },
    {
     "name": "stderr",
     "output_type": "stream",
     "text": [
      "2021/03/15 10:29:55 WARNING mlflow.models.model: Logging model metadata to the tracking server has failed, possibly due older server version. The model artifacts have been logged successfully under sftp://lsdf/kit/iti/projects/aimat-mlflow/artifacts/24/5d6f1c7f745c46db9087513e1217298d/artifacts. In addition to exporting model artifacts, MLflow clients 1.7.0 and above attempt to record model metadata to the  tracking store. If logging to a mlflow server via REST, consider  upgrading the server version to MLflow 1.7.0 or above.\n"
     ]
    }
   ],
   "source": [
    "pipeline.train()"
   ]
  },
  {
   "cell_type": "code",
   "execution_count": 5,
   "metadata": {},
   "outputs": [
    {
     "name": "stderr",
     "output_type": "stream",
     "text": [
      "/home/erik/miniconda2/envs/automol/lib/python3.8/site-packages/ipykernel/ipkernel.py:283: DeprecationWarning: `should_run_async` will not call `transform_cell` automatically in the future. Please pass the result to `transformed_cell` argument and any exception that happen during thetransform in `preprocessing_exc_tuple` in IPython 7.17 and above.\n",
      "  and should_run_async(code)\n"
     ]
    },
    {
     "data": {
      "text/html": [
       "<div>\n",
       "<style scoped>\n",
       "    .dataframe tbody tr th:only-of-type {\n",
       "        vertical-align: middle;\n",
       "    }\n",
       "\n",
       "    .dataframe tbody tr th {\n",
       "        vertical-align: top;\n",
       "    }\n",
       "\n",
       "    .dataframe thead th {\n",
       "        text-align: right;\n",
       "    }\n",
       "</style>\n",
       "<table border=\"1\" class=\"dataframe\">\n",
       "  <thead>\n",
       "    <tr style=\"text-align: right;\">\n",
       "      <th></th>\n",
       "      <th>model</th>\n",
       "      <th>feature</th>\n",
       "      <th>training_mae</th>\n",
       "      <th>training_mse</th>\n",
       "      <th>training_r2_score</th>\n",
       "      <th>test_mae</th>\n",
       "      <th>test_mse</th>\n",
       "      <th>test_r2_score</th>\n",
       "      <th>training_rmse</th>\n",
       "      <th>training_score</th>\n",
       "    </tr>\n",
       "  </thead>\n",
       "  <tbody>\n",
       "    <tr>\n",
       "      <th>0</th>\n",
       "      <td>GradientBoostingRegressor</td>\n",
       "      <td>fingerprint</td>\n",
       "      <td>6.954709e-05</td>\n",
       "      <td>6.552799e-09</td>\n",
       "      <td>0.999987</td>\n",
       "      <td>0.013687</td>\n",
       "      <td>0.000538</td>\n",
       "      <td>0.089727</td>\n",
       "      <td>8.094936e-05</td>\n",
       "      <td>0.999987</td>\n",
       "    </tr>\n",
       "    <tr>\n",
       "      <th>5</th>\n",
       "      <td>RandomForestRegressor(n_estimators=42)</td>\n",
       "      <td>rdkit</td>\n",
       "      <td>7.368651e-03</td>\n",
       "      <td>8.892964e-05</td>\n",
       "      <td>0.839812</td>\n",
       "      <td>0.018555</td>\n",
       "      <td>0.000506</td>\n",
       "      <td>0.053477</td>\n",
       "      <td>9.430251e-03</td>\n",
       "      <td>0.839812</td>\n",
       "    </tr>\n",
       "    <tr>\n",
       "      <th>1</th>\n",
       "      <td>RandomForestRegressor(n_estimators=42)</td>\n",
       "      <td>fingerprint</td>\n",
       "      <td>6.686984e-03</td>\n",
       "      <td>7.045642e-05</td>\n",
       "      <td>0.890106</td>\n",
       "      <td>0.020780</td>\n",
       "      <td>0.000651</td>\n",
       "      <td>-0.592146</td>\n",
       "      <td>8.393832e-03</td>\n",
       "      <td>0.890106</td>\n",
       "    </tr>\n",
       "    <tr>\n",
       "      <th>4</th>\n",
       "      <td>GradientBoostingRegressor</td>\n",
       "      <td>rdkit</td>\n",
       "      <td>3.579453e-06</td>\n",
       "      <td>1.976998e-11</td>\n",
       "      <td>1.000000</td>\n",
       "      <td>0.025739</td>\n",
       "      <td>0.001068</td>\n",
       "      <td>-0.143850</td>\n",
       "      <td>4.446345e-06</td>\n",
       "      <td>1.000000</td>\n",
       "    </tr>\n",
       "    <tr>\n",
       "      <th>2</th>\n",
       "      <td>MLPRegressor</td>\n",
       "      <td>fingerprint</td>\n",
       "      <td>9.904159e-03</td>\n",
       "      <td>1.742512e-04</td>\n",
       "      <td>0.706814</td>\n",
       "      <td>0.149064</td>\n",
       "      <td>0.037506</td>\n",
       "      <td>-82.997676</td>\n",
       "      <td>1.320042e-02</td>\n",
       "      <td>0.706814</td>\n",
       "    </tr>\n",
       "    <tr>\n",
       "      <th>7</th>\n",
       "      <td>GaussianProcessRegressor</td>\n",
       "      <td>rdkit</td>\n",
       "      <td>2.331067e-11</td>\n",
       "      <td>5.488977e-22</td>\n",
       "      <td>1.000000</td>\n",
       "      <td>0.234175</td>\n",
       "      <td>0.055387</td>\n",
       "      <td>-99.939755</td>\n",
       "      <td>2.342857e-11</td>\n",
       "      <td>1.000000</td>\n",
       "    </tr>\n",
       "    <tr>\n",
       "      <th>3</th>\n",
       "      <td>GaussianProcessRegressor</td>\n",
       "      <td>fingerprint</td>\n",
       "      <td>2.301301e-11</td>\n",
       "      <td>5.352059e-22</td>\n",
       "      <td>1.000000</td>\n",
       "      <td>0.238640</td>\n",
       "      <td>0.057440</td>\n",
       "      <td>-115.892753</td>\n",
       "      <td>2.313452e-11</td>\n",
       "      <td>1.000000</td>\n",
       "    </tr>\n",
       "    <tr>\n",
       "      <th>6</th>\n",
       "      <td>MLPRegressor</td>\n",
       "      <td>rdkit</td>\n",
       "      <td>1.619870e+00</td>\n",
       "      <td>4.594691e+00</td>\n",
       "      <td>-9299.533976</td>\n",
       "      <td>3.794588</td>\n",
       "      <td>21.554111</td>\n",
       "      <td>-36451.350498</td>\n",
       "      <td>2.143523e+00</td>\n",
       "      <td>-9299.533976</td>\n",
       "    </tr>\n",
       "  </tbody>\n",
       "</table>\n",
       "</div>"
      ],
      "text/plain": [
       "                                    model      feature  training_mae  \\\n",
       "0               GradientBoostingRegressor  fingerprint  6.954709e-05   \n",
       "5  RandomForestRegressor(n_estimators=42)        rdkit  7.368651e-03   \n",
       "1  RandomForestRegressor(n_estimators=42)  fingerprint  6.686984e-03   \n",
       "4               GradientBoostingRegressor        rdkit  3.579453e-06   \n",
       "2                            MLPRegressor  fingerprint  9.904159e-03   \n",
       "7                GaussianProcessRegressor        rdkit  2.331067e-11   \n",
       "3                GaussianProcessRegressor  fingerprint  2.301301e-11   \n",
       "6                            MLPRegressor        rdkit  1.619870e+00   \n",
       "\n",
       "   training_mse  training_r2_score  test_mae   test_mse  test_r2_score  \\\n",
       "0  6.552799e-09           0.999987  0.013687   0.000538       0.089727   \n",
       "5  8.892964e-05           0.839812  0.018555   0.000506       0.053477   \n",
       "1  7.045642e-05           0.890106  0.020780   0.000651      -0.592146   \n",
       "4  1.976998e-11           1.000000  0.025739   0.001068      -0.143850   \n",
       "2  1.742512e-04           0.706814  0.149064   0.037506     -82.997676   \n",
       "7  5.488977e-22           1.000000  0.234175   0.055387     -99.939755   \n",
       "3  5.352059e-22           1.000000  0.238640   0.057440    -115.892753   \n",
       "6  4.594691e+00       -9299.533976  3.794588  21.554111  -36451.350498   \n",
       "\n",
       "   training_rmse  training_score  \n",
       "0   8.094936e-05        0.999987  \n",
       "5   9.430251e-03        0.839812  \n",
       "1   8.393832e-03        0.890106  \n",
       "4   4.446345e-06        1.000000  \n",
       "2   1.320042e-02        0.706814  \n",
       "7   2.342857e-11        1.000000  \n",
       "3   2.313452e-11        1.000000  \n",
       "6   2.143523e+00    -9299.533976  "
      ]
     },
     "execution_count": 5,
     "metadata": {},
     "output_type": "execute_result"
    }
   ],
   "source": [
    "pipeline.get_statistics().sort_values(by='test_mae', ascending=True)"
   ]
  }
 ],
 "metadata": {
  "kernelspec": {
   "display_name": "automol",
   "language": "python",
   "name": "automol"
  },
  "language_info": {
   "codemirror_mode": {
    "name": "ipython",
    "version": 3
   },
   "file_extension": ".py",
   "mimetype": "text/x-python",
   "name": "python",
   "nbconvert_exporter": "python",
   "pygments_lexer": "ipython3",
   "version": "3.8.5"
  }
 },
 "nbformat": 4,
 "nbformat_minor": 4
}
