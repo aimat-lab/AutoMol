{
 "cells": [
  {
   "cell_type": "markdown",
   "metadata": {},
   "source": [
    "This is a minimal example of using AutoMol:\n",
    "- Training dataset: QM9\n",
    "- Training features: rdkit features, fingerprints (PCA to 50 dimensions for MLP)\n",
    "- Feature to learn: HOMO energy\n",
    "- Models: RandomForest, GradientBoosting, GaussianProcess, MLP neural network\n",
    "- Problem: regression\n",
    "- Dataset location: local\n",
    "- No CV\n",
    "- No custom features"
   ]
  },
  {
   "cell_type": "code",
   "execution_count": 1,
   "metadata": {},
   "outputs": [],
   "source": [
    "if'automol'in globals(): import importlib; importlib.reload(automol)"
   ]
  },
  {
   "cell_type": "code",
   "execution_count": 2,
   "metadata": {},
   "outputs": [],
   "source": [
    "from automol.pipeline import Pipeline"
   ]
  },
  {
   "cell_type": "code",
   "execution_count": 4,
   "metadata": {},
   "outputs": [
    {
     "name": "stdout",
     "output_type": "stream",
     "text": [
      "amount: 50\n",
      "dataset_class: QM9\n",
      "dataset_location: data/dsgdb9nsd\n",
      "dataset_split_test_size: 0.1\n",
      "features:\n",
      "- fingerprint\n",
      "- rdkit\n",
      "label: homo\n",
      "mlflow_experiment: qm9_dataset_automol_demo\n",
      "models_filter:\n",
      "- git_uri: sklearn\n",
      "  model_names:\n",
      "  - RandomForestRegressor\n",
      "  - GradientBoostingRegressor\n",
      "  - GaussianProcessRegressor\n",
      "  - MLPRegressor\n",
      "  whitelist: 1\n",
      "pca_preprocessing:\n",
      "  feature: rdkit\n",
      "  model_name: MLPRegressor\n",
      "  n_components: 50\n",
      "problem: regression\n",
      "\n"
     ]
    }
   ],
   "source": [
    "config_yaml = 'qm9_dataset_example_3.yaml'\n",
    "pipeline = Pipeline(config_yaml)\n",
    "pipeline.print_spec()"
   ]
  },
  {
   "cell_type": "code",
   "execution_count": 5,
   "metadata": {},
   "outputs": [
    {
     "name": "stdout",
     "output_type": "stream",
     "text": [
      "Got the feature homo from the current dataset.\n",
      "Checking if the feature fingerprint can be generated.\n",
      "Got the generated feature fingerprint.\n",
      "Running model GaussianProcessRegressor with feature fingerprint.\n"
     ]
    },
    {
     "name": "stderr",
     "output_type": "stream",
     "text": [
      "2021/03/16 04:41:50 WARNING mlflow.models.model: Logging model metadata to the tracking server has failed, possibly due older server version. The model artifacts have been logged successfully under sftp://lsdf/kit/iti/projects/aimat-mlflow/artifacts/24/cc4f664d6aa1439abb6d57d66360fd57/artifacts. In addition to exporting model artifacts, MLflow clients 1.7.0 and above attempt to record model metadata to the  tracking store. If logging to a mlflow server via REST, consider  upgrading the server version to MLflow 1.7.0 or above.\n"
     ]
    },
    {
     "name": "stdout",
     "output_type": "stream",
     "text": [
      "Running model GradientBoostingRegressor with feature fingerprint.\n"
     ]
    },
    {
     "name": "stderr",
     "output_type": "stream",
     "text": [
      "2021/03/16 04:41:58 WARNING mlflow.models.model: Logging model metadata to the tracking server has failed, possibly due older server version. The model artifacts have been logged successfully under sftp://lsdf/kit/iti/projects/aimat-mlflow/artifacts/24/709f8daade8d4ff386ab5e00abe4c30b/artifacts. In addition to exporting model artifacts, MLflow clients 1.7.0 and above attempt to record model metadata to the  tracking store. If logging to a mlflow server via REST, consider  upgrading the server version to MLflow 1.7.0 or above.\n"
     ]
    },
    {
     "name": "stdout",
     "output_type": "stream",
     "text": [
      "Running model MLPRegressor with feature fingerprint.\n"
     ]
    },
    {
     "name": "stderr",
     "output_type": "stream",
     "text": [
      "2021/03/16 04:42:08 WARNING mlflow.models.model: Logging model metadata to the tracking server has failed, possibly due older server version. The model artifacts have been logged successfully under sftp://lsdf/kit/iti/projects/aimat-mlflow/artifacts/24/ced13d8961f14fee95a4607e5e0ef5cb/artifacts. In addition to exporting model artifacts, MLflow clients 1.7.0 and above attempt to record model metadata to the  tracking store. If logging to a mlflow server via REST, consider  upgrading the server version to MLflow 1.7.0 or above.\n"
     ]
    },
    {
     "name": "stdout",
     "output_type": "stream",
     "text": [
      "Running model RandomForestRegressor with feature fingerprint.\n"
     ]
    },
    {
     "name": "stderr",
     "output_type": "stream",
     "text": [
      "2021/03/16 04:42:23 WARNING mlflow.models.model: Logging model metadata to the tracking server has failed, possibly due older server version. The model artifacts have been logged successfully under sftp://lsdf/kit/iti/projects/aimat-mlflow/artifacts/24/548e3e1e1d014aceafa63d51e72acbe2/artifacts. In addition to exporting model artifacts, MLflow clients 1.7.0 and above attempt to record model metadata to the  tracking store. If logging to a mlflow server via REST, consider  upgrading the server version to MLflow 1.7.0 or above.\n",
      "2021/03/16 04:42:25 WARNING mlflow.models.model: Logging model metadata to the tracking server has failed, possibly due older server version. The model artifacts have been logged successfully under sftp://lsdf/kit/iti/projects/aimat-mlflow/artifacts/24/548e3e1e1d014aceafa63d51e72acbe2/artifacts. In addition to exporting model artifacts, MLflow clients 1.7.0 and above attempt to record model metadata to the  tracking store. If logging to a mlflow server via REST, consider  upgrading the server version to MLflow 1.7.0 or above.\n"
     ]
    },
    {
     "name": "stdout",
     "output_type": "stream",
     "text": [
      "Checking if the feature rdkit can be generated.\n",
      "Got the generated feature rdkit.\n",
      "Got the feature rdkit from the current dataset.\n"
     ]
    },
    {
     "name": "stderr",
     "output_type": "stream",
     "text": [
      "2021/03/16 04:42:32 WARNING mlflow.sklearn: PCA.score failed. The 'training_score' metric will not be recorded. Scoring error: 'y'\n",
      "2021/03/16 04:42:32 WARNING mlflow.sklearn: Failed to infer model signature: could not sample data to infer model signature: 'y'\n"
     ]
    },
    {
     "name": "stdout",
     "output_type": "stream",
     "text": [
      "Running model GaussianProcessRegressor with feature rdkit.\n"
     ]
    },
    {
     "name": "stderr",
     "output_type": "stream",
     "text": [
      "2021/03/16 04:42:37 WARNING mlflow.models.model: Logging model metadata to the tracking server has failed, possibly due older server version. The model artifacts have been logged successfully under sftp://lsdf/kit/iti/projects/aimat-mlflow/artifacts/24/2d124595c2154ad6a2287834b3c3ac48/artifacts. In addition to exporting model artifacts, MLflow clients 1.7.0 and above attempt to record model metadata to the  tracking store. If logging to a mlflow server via REST, consider  upgrading the server version to MLflow 1.7.0 or above.\n"
     ]
    },
    {
     "name": "stdout",
     "output_type": "stream",
     "text": [
      "Running model GradientBoostingRegressor with feature rdkit.\n"
     ]
    },
    {
     "name": "stderr",
     "output_type": "stream",
     "text": [
      "2021/03/16 04:42:44 WARNING mlflow.models.model: Logging model metadata to the tracking server has failed, possibly due older server version. The model artifacts have been logged successfully under sftp://lsdf/kit/iti/projects/aimat-mlflow/artifacts/24/b4e5646308d64286adc7c38a20971f83/artifacts. In addition to exporting model artifacts, MLflow clients 1.7.0 and above attempt to record model metadata to the  tracking store. If logging to a mlflow server via REST, consider  upgrading the server version to MLflow 1.7.0 or above.\n"
     ]
    },
    {
     "name": "stdout",
     "output_type": "stream",
     "text": [
      "Running model MLPRegressor with feature rdkit (PCA to 50 dimensions).\n",
      "Running model RandomForestRegressor(max_depth=3) with feature rdkit.\n"
     ]
    },
    {
     "name": "stderr",
     "output_type": "stream",
     "text": [
      "2021/03/16 04:42:56 WARNING mlflow.models.model: Logging model metadata to the tracking server has failed, possibly due older server version. The model artifacts have been logged successfully under sftp://lsdf/kit/iti/projects/aimat-mlflow/artifacts/24/f30961a8fe5a4339a7917888b4ff983f/artifacts. In addition to exporting model artifacts, MLflow clients 1.7.0 and above attempt to record model metadata to the  tracking store. If logging to a mlflow server via REST, consider  upgrading the server version to MLflow 1.7.0 or above.\n"
     ]
    }
   ],
   "source": [
    "pipeline.train()"
   ]
  },
  {
   "cell_type": "code",
   "execution_count": 10,
   "metadata": {},
   "outputs": [
    {
     "data": {
      "text/html": [
       "<style  type=\"text/css\" >\n",
       "#T_1f098ad4_860a_11eb_b5ef_448500b54488row0_col5,#T_1f098ad4_860a_11eb_b5ef_448500b54488row0_col6,#T_1f098ad4_860a_11eb_b5ef_448500b54488row6_col2,#T_1f098ad4_860a_11eb_b5ef_448500b54488row6_col3{\n",
       "            background-color:  yellow;\n",
       "        }</style><table id=\"T_1f098ad4_860a_11eb_b5ef_448500b54488\" ><thead>    <tr>        <th class=\"blank level0\" ></th>        <th class=\"col_heading level0 col0\" >model</th>        <th class=\"col_heading level0 col1\" >feature</th>        <th class=\"col_heading level0 col2\" >training_mae</th>        <th class=\"col_heading level0 col3\" >training_mse</th>        <th class=\"col_heading level0 col4\" >training_r2_score</th>        <th class=\"col_heading level0 col5\" >test_mae</th>        <th class=\"col_heading level0 col6\" >test_mse</th>        <th class=\"col_heading level0 col7\" >test_r2_score</th>        <th class=\"col_heading level0 col8\" >training_rmse</th>        <th class=\"col_heading level0 col9\" >training_score</th>        <th class=\"col_heading level0 col10\" >best_cv_score</th>    </tr></thead><tbody>\n",
       "                <tr>\n",
       "                        <th id=\"T_1f098ad4_860a_11eb_b5ef_448500b54488level0_row0\" class=\"row_heading level0 row0\" >3</th>\n",
       "                        <td id=\"T_1f098ad4_860a_11eb_b5ef_448500b54488row0_col0\" class=\"data row0 col0\" >RandomForestRegressor</td>\n",
       "                        <td id=\"T_1f098ad4_860a_11eb_b5ef_448500b54488row0_col1\" class=\"data row0 col1\" >fingerprint</td>\n",
       "                        <td id=\"T_1f098ad4_860a_11eb_b5ef_448500b54488row0_col2\" class=\"data row0 col2\" >0.009295</td>\n",
       "                        <td id=\"T_1f098ad4_860a_11eb_b5ef_448500b54488row0_col3\" class=\"data row0 col3\" >0.000113</td>\n",
       "                        <td id=\"T_1f098ad4_860a_11eb_b5ef_448500b54488row0_col4\" class=\"data row0 col4\" >0.809990</td>\n",
       "                        <td id=\"T_1f098ad4_860a_11eb_b5ef_448500b54488row0_col5\" class=\"data row0 col5\" >0.008575</td>\n",
       "                        <td id=\"T_1f098ad4_860a_11eb_b5ef_448500b54488row0_col6\" class=\"data row0 col6\" >0.000104</td>\n",
       "                        <td id=\"T_1f098ad4_860a_11eb_b5ef_448500b54488row0_col7\" class=\"data row0 col7\" >0.010463</td>\n",
       "                        <td id=\"T_1f098ad4_860a_11eb_b5ef_448500b54488row0_col8\" class=\"data row0 col8\" >0.010619</td>\n",
       "                        <td id=\"T_1f098ad4_860a_11eb_b5ef_448500b54488row0_col9\" class=\"data row0 col9\" >0.809990</td>\n",
       "                        <td id=\"T_1f098ad4_860a_11eb_b5ef_448500b54488row0_col10\" class=\"data row0 col10\" >0.171034</td>\n",
       "            </tr>\n",
       "            <tr>\n",
       "                        <th id=\"T_1f098ad4_860a_11eb_b5ef_448500b54488level0_row1\" class=\"row_heading level0 row1\" >1</th>\n",
       "                        <td id=\"T_1f098ad4_860a_11eb_b5ef_448500b54488row1_col0\" class=\"data row1 col0\" >GradientBoostingRegressor</td>\n",
       "                        <td id=\"T_1f098ad4_860a_11eb_b5ef_448500b54488row1_col1\" class=\"data row1 col1\" >fingerprint</td>\n",
       "                        <td id=\"T_1f098ad4_860a_11eb_b5ef_448500b54488row1_col2\" class=\"data row1 col2\" >0.000229</td>\n",
       "                        <td id=\"T_1f098ad4_860a_11eb_b5ef_448500b54488row1_col3\" class=\"data row1 col3\" >0.000000</td>\n",
       "                        <td id=\"T_1f098ad4_860a_11eb_b5ef_448500b54488row1_col4\" class=\"data row1 col4\" >0.999874</td>\n",
       "                        <td id=\"T_1f098ad4_860a_11eb_b5ef_448500b54488row1_col5\" class=\"data row1 col5\" >0.011162</td>\n",
       "                        <td id=\"T_1f098ad4_860a_11eb_b5ef_448500b54488row1_col6\" class=\"data row1 col6\" >0.000139</td>\n",
       "                        <td id=\"T_1f098ad4_860a_11eb_b5ef_448500b54488row1_col7\" class=\"data row1 col7\" >-0.320845</td>\n",
       "                        <td id=\"T_1f098ad4_860a_11eb_b5ef_448500b54488row1_col8\" class=\"data row1 col8\" >0.000274</td>\n",
       "                        <td id=\"T_1f098ad4_860a_11eb_b5ef_448500b54488row1_col9\" class=\"data row1 col9\" >0.999874</td>\n",
       "                        <td id=\"T_1f098ad4_860a_11eb_b5ef_448500b54488row1_col10\" class=\"data row1 col10\" >nan</td>\n",
       "            </tr>\n",
       "            <tr>\n",
       "                        <th id=\"T_1f098ad4_860a_11eb_b5ef_448500b54488level0_row2\" class=\"row_heading level0 row2\" >7</th>\n",
       "                        <td id=\"T_1f098ad4_860a_11eb_b5ef_448500b54488row2_col0\" class=\"data row2 col0\" >RandomForestRegressor(max_depth=3)</td>\n",
       "                        <td id=\"T_1f098ad4_860a_11eb_b5ef_448500b54488row2_col1\" class=\"data row2 col1\" >rdkit</td>\n",
       "                        <td id=\"T_1f098ad4_860a_11eb_b5ef_448500b54488row2_col2\" class=\"data row2 col2\" >0.009212</td>\n",
       "                        <td id=\"T_1f098ad4_860a_11eb_b5ef_448500b54488row2_col3\" class=\"data row2 col3\" >0.000124</td>\n",
       "                        <td id=\"T_1f098ad4_860a_11eb_b5ef_448500b54488row2_col4\" class=\"data row2 col4\" >0.777068</td>\n",
       "                        <td id=\"T_1f098ad4_860a_11eb_b5ef_448500b54488row2_col5\" class=\"data row2 col5\" >0.012526</td>\n",
       "                        <td id=\"T_1f098ad4_860a_11eb_b5ef_448500b54488row2_col6\" class=\"data row2 col6\" >0.000194</td>\n",
       "                        <td id=\"T_1f098ad4_860a_11eb_b5ef_448500b54488row2_col7\" class=\"data row2 col7\" >0.622973</td>\n",
       "                        <td id=\"T_1f098ad4_860a_11eb_b5ef_448500b54488row2_col8\" class=\"data row2 col8\" >0.011118</td>\n",
       "                        <td id=\"T_1f098ad4_860a_11eb_b5ef_448500b54488row2_col9\" class=\"data row2 col9\" >0.777068</td>\n",
       "                        <td id=\"T_1f098ad4_860a_11eb_b5ef_448500b54488row2_col10\" class=\"data row2 col10\" >nan</td>\n",
       "            </tr>\n",
       "            <tr>\n",
       "                        <th id=\"T_1f098ad4_860a_11eb_b5ef_448500b54488level0_row3\" class=\"row_heading level0 row3\" >5</th>\n",
       "                        <td id=\"T_1f098ad4_860a_11eb_b5ef_448500b54488row3_col0\" class=\"data row3 col0\" >GradientBoostingRegressor</td>\n",
       "                        <td id=\"T_1f098ad4_860a_11eb_b5ef_448500b54488row3_col1\" class=\"data row3 col1\" >rdkit</td>\n",
       "                        <td id=\"T_1f098ad4_860a_11eb_b5ef_448500b54488row3_col2\" class=\"data row3 col2\" >0.000075</td>\n",
       "                        <td id=\"T_1f098ad4_860a_11eb_b5ef_448500b54488row3_col3\" class=\"data row3 col3\" >0.000000</td>\n",
       "                        <td id=\"T_1f098ad4_860a_11eb_b5ef_448500b54488row3_col4\" class=\"data row3 col4\" >0.999986</td>\n",
       "                        <td id=\"T_1f098ad4_860a_11eb_b5ef_448500b54488row3_col5\" class=\"data row3 col5\" >0.016000</td>\n",
       "                        <td id=\"T_1f098ad4_860a_11eb_b5ef_448500b54488row3_col6\" class=\"data row3 col6\" >0.000302</td>\n",
       "                        <td id=\"T_1f098ad4_860a_11eb_b5ef_448500b54488row3_col7\" class=\"data row3 col7\" >0.411685</td>\n",
       "                        <td id=\"T_1f098ad4_860a_11eb_b5ef_448500b54488row3_col8\" class=\"data row3 col8\" >0.000089</td>\n",
       "                        <td id=\"T_1f098ad4_860a_11eb_b5ef_448500b54488row3_col9\" class=\"data row3 col9\" >0.999986</td>\n",
       "                        <td id=\"T_1f098ad4_860a_11eb_b5ef_448500b54488row3_col10\" class=\"data row3 col10\" >nan</td>\n",
       "            </tr>\n",
       "            <tr>\n",
       "                        <th id=\"T_1f098ad4_860a_11eb_b5ef_448500b54488level0_row4\" class=\"row_heading level0 row4\" >2</th>\n",
       "                        <td id=\"T_1f098ad4_860a_11eb_b5ef_448500b54488row4_col0\" class=\"data row4 col0\" >MLPRegressor</td>\n",
       "                        <td id=\"T_1f098ad4_860a_11eb_b5ef_448500b54488row4_col1\" class=\"data row4 col1\" >fingerprint</td>\n",
       "                        <td id=\"T_1f098ad4_860a_11eb_b5ef_448500b54488row4_col2\" class=\"data row4 col2\" >0.010704</td>\n",
       "                        <td id=\"T_1f098ad4_860a_11eb_b5ef_448500b54488row4_col3\" class=\"data row4 col3\" >0.000212</td>\n",
       "                        <td id=\"T_1f098ad4_860a_11eb_b5ef_448500b54488row4_col4\" class=\"data row4 col4\" >0.642314</td>\n",
       "                        <td id=\"T_1f098ad4_860a_11eb_b5ef_448500b54488row4_col5\" class=\"data row4 col5\" >0.163719</td>\n",
       "                        <td id=\"T_1f098ad4_860a_11eb_b5ef_448500b54488row4_col6\" class=\"data row4 col6\" >0.027596</td>\n",
       "                        <td id=\"T_1f098ad4_860a_11eb_b5ef_448500b54488row4_col7\" class=\"data row4 col7\" >-260.519901</td>\n",
       "                        <td id=\"T_1f098ad4_860a_11eb_b5ef_448500b54488row4_col8\" class=\"data row4 col8\" >0.014570</td>\n",
       "                        <td id=\"T_1f098ad4_860a_11eb_b5ef_448500b54488row4_col9\" class=\"data row4 col9\" >0.642314</td>\n",
       "                        <td id=\"T_1f098ad4_860a_11eb_b5ef_448500b54488row4_col10\" class=\"data row4 col10\" >nan</td>\n",
       "            </tr>\n",
       "            <tr>\n",
       "                        <th id=\"T_1f098ad4_860a_11eb_b5ef_448500b54488level0_row5\" class=\"row_heading level0 row5\" >4</th>\n",
       "                        <td id=\"T_1f098ad4_860a_11eb_b5ef_448500b54488row5_col0\" class=\"data row5 col0\" >GaussianProcessRegressor</td>\n",
       "                        <td id=\"T_1f098ad4_860a_11eb_b5ef_448500b54488row5_col1\" class=\"data row5 col1\" >rdkit</td>\n",
       "                        <td id=\"T_1f098ad4_860a_11eb_b5ef_448500b54488row5_col2\" class=\"data row5 col2\" >0.000000</td>\n",
       "                        <td id=\"T_1f098ad4_860a_11eb_b5ef_448500b54488row5_col3\" class=\"data row5 col3\" >0.000000</td>\n",
       "                        <td id=\"T_1f098ad4_860a_11eb_b5ef_448500b54488row5_col4\" class=\"data row5 col4\" >1.000000</td>\n",
       "                        <td id=\"T_1f098ad4_860a_11eb_b5ef_448500b54488row5_col5\" class=\"data row5 col5\" >0.233500</td>\n",
       "                        <td id=\"T_1f098ad4_860a_11eb_b5ef_448500b54488row5_col6\" class=\"data row5 col6\" >0.055036</td>\n",
       "                        <td id=\"T_1f098ad4_860a_11eb_b5ef_448500b54488row5_col7\" class=\"data row5 col7\" >-106.133884</td>\n",
       "                        <td id=\"T_1f098ad4_860a_11eb_b5ef_448500b54488row5_col8\" class=\"data row5 col8\" >0.000000</td>\n",
       "                        <td id=\"T_1f098ad4_860a_11eb_b5ef_448500b54488row5_col9\" class=\"data row5 col9\" >1.000000</td>\n",
       "                        <td id=\"T_1f098ad4_860a_11eb_b5ef_448500b54488row5_col10\" class=\"data row5 col10\" >nan</td>\n",
       "            </tr>\n",
       "            <tr>\n",
       "                        <th id=\"T_1f098ad4_860a_11eb_b5ef_448500b54488level0_row6\" class=\"row_heading level0 row6\" >0</th>\n",
       "                        <td id=\"T_1f098ad4_860a_11eb_b5ef_448500b54488row6_col0\" class=\"data row6 col0\" >GaussianProcessRegressor</td>\n",
       "                        <td id=\"T_1f098ad4_860a_11eb_b5ef_448500b54488row6_col1\" class=\"data row6 col1\" >fingerprint</td>\n",
       "                        <td id=\"T_1f098ad4_860a_11eb_b5ef_448500b54488row6_col2\" class=\"data row6 col2\" >0.000000</td>\n",
       "                        <td id=\"T_1f098ad4_860a_11eb_b5ef_448500b54488row6_col3\" class=\"data row6 col3\" >0.000000</td>\n",
       "                        <td id=\"T_1f098ad4_860a_11eb_b5ef_448500b54488row6_col4\" class=\"data row6 col4\" >1.000000</td>\n",
       "                        <td id=\"T_1f098ad4_860a_11eb_b5ef_448500b54488row6_col5\" class=\"data row6 col5\" >0.240680</td>\n",
       "                        <td id=\"T_1f098ad4_860a_11eb_b5ef_448500b54488row6_col6\" class=\"data row6 col6\" >0.058032</td>\n",
       "                        <td id=\"T_1f098ad4_860a_11eb_b5ef_448500b54488row6_col7\" class=\"data row6 col7\" >-548.957393</td>\n",
       "                        <td id=\"T_1f098ad4_860a_11eb_b5ef_448500b54488row6_col8\" class=\"data row6 col8\" >0.000000</td>\n",
       "                        <td id=\"T_1f098ad4_860a_11eb_b5ef_448500b54488row6_col9\" class=\"data row6 col9\" >1.000000</td>\n",
       "                        <td id=\"T_1f098ad4_860a_11eb_b5ef_448500b54488row6_col10\" class=\"data row6 col10\" >nan</td>\n",
       "            </tr>\n",
       "            <tr>\n",
       "                        <th id=\"T_1f098ad4_860a_11eb_b5ef_448500b54488level0_row7\" class=\"row_heading level0 row7\" >6</th>\n",
       "                        <td id=\"T_1f098ad4_860a_11eb_b5ef_448500b54488row7_col0\" class=\"data row7 col0\" >MLPRegressor</td>\n",
       "                        <td id=\"T_1f098ad4_860a_11eb_b5ef_448500b54488row7_col1\" class=\"data row7 col1\" >rdkit</td>\n",
       "                        <td id=\"T_1f098ad4_860a_11eb_b5ef_448500b54488row7_col2\" class=\"data row7 col2\" >2.163408</td>\n",
       "                        <td id=\"T_1f098ad4_860a_11eb_b5ef_448500b54488row7_col3\" class=\"data row7 col3\" >7.515038</td>\n",
       "                        <td id=\"T_1f098ad4_860a_11eb_b5ef_448500b54488row7_col4\" class=\"data row7 col4\" >-13552.890777</td>\n",
       "                        <td id=\"T_1f098ad4_860a_11eb_b5ef_448500b54488row7_col5\" class=\"data row7 col5\" >2.847118</td>\n",
       "                        <td id=\"T_1f098ad4_860a_11eb_b5ef_448500b54488row7_col6\" class=\"data row7 col6\" >12.192142</td>\n",
       "                        <td id=\"T_1f098ad4_860a_11eb_b5ef_448500b54488row7_col7\" class=\"data row7 col7\" >-23732.418242</td>\n",
       "                        <td id=\"T_1f098ad4_860a_11eb_b5ef_448500b54488row7_col8\" class=\"data row7 col8\" >2.741357</td>\n",
       "                        <td id=\"T_1f098ad4_860a_11eb_b5ef_448500b54488row7_col9\" class=\"data row7 col9\" >-13552.890777</td>\n",
       "                        <td id=\"T_1f098ad4_860a_11eb_b5ef_448500b54488row7_col10\" class=\"data row7 col10\" >nan</td>\n",
       "            </tr>\n",
       "    </tbody></table>"
      ],
      "text/plain": [
       "<pandas.io.formats.style.Styler at 0x7fe2f886dfa0>"
      ]
     },
     "execution_count": 10,
     "metadata": {},
     "output_type": "execute_result"
    }
   ],
   "source": [
    "import pandas as pd\n",
    "def highlight_min(s):\n",
    "    is_min = s == s.min()\n",
    "    return ['background-color: yellow' if v else '' for v in is_min]\n",
    "s = pipeline.get_statistics().sort_values(by='test_mae', ascending=True)\n",
    "s.style.apply(highlight_min, subset=pd.IndexSlice[s.columns[[2,3,5,6]]])"
   ]
  }
 ],
 "metadata": {
  "kernelspec": {
   "display_name": "automol",
   "language": "python",
   "name": "automol"
  },
  "language_info": {
   "codemirror_mode": {
    "name": "ipython",
    "version": 3
   },
   "file_extension": ".py",
   "mimetype": "text/x-python",
   "name": "python",
   "nbconvert_exporter": "python",
   "pygments_lexer": "ipython3",
   "version": "3.8.5"
  }
 },
 "nbformat": 4,
 "nbformat_minor": 4
}
