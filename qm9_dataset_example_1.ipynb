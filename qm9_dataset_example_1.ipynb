{
 "cells": [
  {
   "cell_type": "markdown",
   "metadata": {},
   "source": [
    "This is a minimal example of using AutoMol:\n",
    "- Training dataset: QM9\n",
    "- Training features: fingerprints\n",
    "- Feature to learn: HOMO energy\n",
    "- Models: RandomForest, GradientBoosting, GaussianProcess\n",
    "- Problem: regression\n",
    "- Dataset location: local\n",
    "- No CV\n",
    "- No custom features"
   ]
  },
  {
   "cell_type": "code",
   "execution_count": 1,
   "metadata": {},
   "outputs": [],
   "source": [
    "if'automol'in globals(): import importlib; importlib.reload(automol)"
   ]
  },
  {
   "cell_type": "code",
   "execution_count": 2,
   "metadata": {},
   "outputs": [],
   "source": [
    "from automol.pipeline import Pipeline\n",
    "import warnings\n",
    "warnings.filterwarnings('ignore')"
   ]
  },
  {
   "cell_type": "code",
   "execution_count": 3,
   "metadata": {
    "scrolled": false
   },
   "outputs": [
    {
     "name": "stdout",
     "output_type": "stream",
     "text": [
      "amount: 50\n",
      "dataset_class: QM9\n",
      "dataset_location: data/dsgdb9nsd\n",
      "features:\n",
      "- fingerprint\n",
      "label: homo\n",
      "mlflow_experiment: qm9_dataset_automol_demo\n",
      "models_filter:\n",
      "- git_uri: sklearn\n",
      "  model_names:\n",
      "  - RandomForestRegressor\n",
      "  - GradientBoostingRegressor\n",
      "  - GaussianProcessRegressor\n",
      "  whitelist: 1\n",
      "problem: regression\n",
      "train_valid_test_split:\n",
      "- 0.6\n",
      "- 0.2\n",
      "- 0.2\n",
      "\n"
     ]
    }
   ],
   "source": [
    "config_yaml = 'qm9_dataset_example_1.yaml'\n",
    "pipeline = Pipeline(config_yaml)\n",
    "pipeline.print_spec()"
   ]
  },
  {
   "cell_type": "code",
   "execution_count": 4,
   "metadata": {},
   "outputs": [
    {
     "data": {
      "text/html": [
       "<div>\n",
       "<style scoped>\n",
       "    .dataframe tbody tr th:only-of-type {\n",
       "        vertical-align: middle;\n",
       "    }\n",
       "\n",
       "    .dataframe tbody tr th {\n",
       "        vertical-align: top;\n",
       "    }\n",
       "\n",
       "    .dataframe thead th {\n",
       "        text-align: right;\n",
       "    }\n",
       "</style>\n",
       "<table border=\"1\" class=\"dataframe\">\n",
       "  <thead>\n",
       "    <tr style=\"text-align: right;\">\n",
       "      <th></th>\n",
       "      <th>atom_count</th>\n",
       "      <th>tag</th>\n",
       "      <th>index</th>\n",
       "      <th>A</th>\n",
       "      <th>B</th>\n",
       "      <th>C</th>\n",
       "      <th>mu</th>\n",
       "      <th>alpha</th>\n",
       "      <th>homo</th>\n",
       "      <th>lumo</th>\n",
       "      <th>gap</th>\n",
       "      <th>r2</th>\n",
       "      <th>zpve</th>\n",
       "      <th>U0</th>\n",
       "      <th>U</th>\n",
       "      <th>H</th>\n",
       "      <th>G</th>\n",
       "      <th>Cv</th>\n",
       "      <th>smiles</th>\n",
       "    </tr>\n",
       "  </thead>\n",
       "  <tbody>\n",
       "    <tr>\n",
       "      <th>0</th>\n",
       "      <td>15</td>\n",
       "      <td>gdb</td>\n",
       "      <td>14121</td>\n",
       "      <td>3.91449</td>\n",
       "      <td>1.79985</td>\n",
       "      <td>1.41790</td>\n",
       "      <td>13.1766</td>\n",
       "      <td>62.61</td>\n",
       "      <td>-0.1795</td>\n",
       "      <td>-0.0181</td>\n",
       "      <td>0.1614</td>\n",
       "      <td>863.1813</td>\n",
       "      <td>0.119887</td>\n",
       "      <td>-399.730154</td>\n",
       "      <td>-399.723043</td>\n",
       "      <td>-399.722099</td>\n",
       "      <td>-399.761907</td>\n",
       "      <td>26.270</td>\n",
       "      <td>O=C([O-])C12C[NH2+]C1C2</td>\n",
       "    </tr>\n",
       "    <tr>\n",
       "      <th>1</th>\n",
       "      <td>17</td>\n",
       "      <td>gdb</td>\n",
       "      <td>13705</td>\n",
       "      <td>4.81548</td>\n",
       "      <td>0.90942</td>\n",
       "      <td>0.82326</td>\n",
       "      <td>1.1138</td>\n",
       "      <td>75.57</td>\n",
       "      <td>-0.2284</td>\n",
       "      <td>0.0198</td>\n",
       "      <td>0.2482</td>\n",
       "      <td>1389.7180</td>\n",
       "      <td>0.140560</td>\n",
       "      <td>-363.790600</td>\n",
       "      <td>-363.781507</td>\n",
       "      <td>-363.780563</td>\n",
       "      <td>-363.825674</td>\n",
       "      <td>31.569</td>\n",
       "      <td>CN1CC1C#CCO</td>\n",
       "    </tr>\n",
       "    <tr>\n",
       "      <th>2</th>\n",
       "      <td>18</td>\n",
       "      <td>gdb</td>\n",
       "      <td>116490</td>\n",
       "      <td>3.26951</td>\n",
       "      <td>1.17310</td>\n",
       "      <td>0.90400</td>\n",
       "      <td>2.7214</td>\n",
       "      <td>70.12</td>\n",
       "      <td>-0.2521</td>\n",
       "      <td>0.0006</td>\n",
       "      <td>0.2527</td>\n",
       "      <td>1252.1453</td>\n",
       "      <td>0.149171</td>\n",
       "      <td>-476.214616</td>\n",
       "      <td>-476.206383</td>\n",
       "      <td>-476.205439</td>\n",
       "      <td>-476.247895</td>\n",
       "      <td>30.624</td>\n",
       "      <td>OCC1COCOC=N1</td>\n",
       "    </tr>\n",
       "    <tr>\n",
       "      <th>3</th>\n",
       "      <td>18</td>\n",
       "      <td>gdb</td>\n",
       "      <td>122041</td>\n",
       "      <td>2.50456</td>\n",
       "      <td>0.79795</td>\n",
       "      <td>0.62985</td>\n",
       "      <td>2.5469</td>\n",
       "      <td>74.87</td>\n",
       "      <td>-0.2701</td>\n",
       "      <td>-0.0538</td>\n",
       "      <td>0.2163</td>\n",
       "      <td>1728.5074</td>\n",
       "      <td>0.144557</td>\n",
       "      <td>-439.091046</td>\n",
       "      <td>-439.080594</td>\n",
       "      <td>-439.079650</td>\n",
       "      <td>-439.128388</td>\n",
       "      <td>34.573</td>\n",
       "      <td>COCCC(C#N)C=O</td>\n",
       "    </tr>\n",
       "    <tr>\n",
       "      <th>4</th>\n",
       "      <td>20</td>\n",
       "      <td>gdb</td>\n",
       "      <td>39411</td>\n",
       "      <td>2.43973</td>\n",
       "      <td>1.91496</td>\n",
       "      <td>1.35048</td>\n",
       "      <td>1.1240</td>\n",
       "      <td>78.08</td>\n",
       "      <td>-0.2201</td>\n",
       "      <td>0.0819</td>\n",
       "      <td>0.3020</td>\n",
       "      <td>1008.5466</td>\n",
       "      <td>0.173811</td>\n",
       "      <td>-403.102910</td>\n",
       "      <td>-403.095468</td>\n",
       "      <td>-403.094524</td>\n",
       "      <td>-403.134592</td>\n",
       "      <td>29.984</td>\n",
       "      <td>C1CC2OC2C2CN2C1</td>\n",
       "    </tr>\n",
       "  </tbody>\n",
       "</table>\n",
       "</div>"
      ],
      "text/plain": [
       "   atom_count  tag   index        A        B        C       mu  alpha    homo  \\\n",
       "0          15  gdb   14121  3.91449  1.79985  1.41790  13.1766  62.61 -0.1795   \n",
       "1          17  gdb   13705  4.81548  0.90942  0.82326   1.1138  75.57 -0.2284   \n",
       "2          18  gdb  116490  3.26951  1.17310  0.90400   2.7214  70.12 -0.2521   \n",
       "3          18  gdb  122041  2.50456  0.79795  0.62985   2.5469  74.87 -0.2701   \n",
       "4          20  gdb   39411  2.43973  1.91496  1.35048   1.1240  78.08 -0.2201   \n",
       "\n",
       "     lumo     gap         r2      zpve          U0           U           H  \\\n",
       "0 -0.0181  0.1614   863.1813  0.119887 -399.730154 -399.723043 -399.722099   \n",
       "1  0.0198  0.2482  1389.7180  0.140560 -363.790600 -363.781507 -363.780563   \n",
       "2  0.0006  0.2527  1252.1453  0.149171 -476.214616 -476.206383 -476.205439   \n",
       "3 -0.0538  0.2163  1728.5074  0.144557 -439.091046 -439.080594 -439.079650   \n",
       "4  0.0819  0.3020  1008.5466  0.173811 -403.102910 -403.095468 -403.094524   \n",
       "\n",
       "            G      Cv                   smiles  \n",
       "0 -399.761907  26.270  O=C([O-])C12C[NH2+]C1C2  \n",
       "1 -363.825674  31.569              CN1CC1C#CCO  \n",
       "2 -476.247895  30.624             OCC1COCOC=N1  \n",
       "3 -439.128388  34.573            COCCC(C#N)C=O  \n",
       "4 -403.134592  29.984          C1CC2OC2C2CN2C1  "
      ]
     },
     "execution_count": 4,
     "metadata": {},
     "output_type": "execute_result"
    }
   ],
   "source": [
    "pipeline.data_set[0:5]"
   ]
  },
  {
   "cell_type": "code",
   "execution_count": 5,
   "metadata": {},
   "outputs": [
    {
     "name": "stdout",
     "output_type": "stream",
     "text": [
      "Got the feature homo from the current dataset.\n",
      "Checking if the feature fingerprint can be generated.\n",
      "Got the generated feature fingerprint.\n",
      "Running model RandomForestRegressor(n_estimators=42) with feature fingerprint.\n"
     ]
    },
    {
     "name": "stderr",
     "output_type": "stream",
     "text": [
      "2021/03/15 10:27:02 WARNING mlflow.models.model: Logging model metadata to the tracking server has failed, possibly due older server version. The model artifacts have been logged successfully under sftp://lsdf/kit/iti/projects/aimat-mlflow/artifacts/24/a5c2a84055d047c7a108f4a60aeffa31/artifacts. In addition to exporting model artifacts, MLflow clients 1.7.0 and above attempt to record model metadata to the  tracking store. If logging to a mlflow server via REST, consider  upgrading the server version to MLflow 1.7.0 or above.\n"
     ]
    },
    {
     "name": "stdout",
     "output_type": "stream",
     "text": [
      "Running model GradientBoostingRegressor with feature fingerprint.\n"
     ]
    },
    {
     "name": "stderr",
     "output_type": "stream",
     "text": [
      "2021/03/15 10:27:09 WARNING mlflow.models.model: Logging model metadata to the tracking server has failed, possibly due older server version. The model artifacts have been logged successfully under sftp://lsdf/kit/iti/projects/aimat-mlflow/artifacts/24/d27819a757c2430eb7cc96a02e7132f8/artifacts. In addition to exporting model artifacts, MLflow clients 1.7.0 and above attempt to record model metadata to the  tracking store. If logging to a mlflow server via REST, consider  upgrading the server version to MLflow 1.7.0 or above.\n"
     ]
    },
    {
     "name": "stdout",
     "output_type": "stream",
     "text": [
      "Running model GaussianProcessRegressor with feature fingerprint.\n"
     ]
    },
    {
     "name": "stderr",
     "output_type": "stream",
     "text": [
      "2021/03/15 10:27:16 WARNING mlflow.models.model: Logging model metadata to the tracking server has failed, possibly due older server version. The model artifacts have been logged successfully under sftp://lsdf/kit/iti/projects/aimat-mlflow/artifacts/24/49bc307172b2493aac25cead3fe668c9/artifacts. In addition to exporting model artifacts, MLflow clients 1.7.0 and above attempt to record model metadata to the  tracking store. If logging to a mlflow server via REST, consider  upgrading the server version to MLflow 1.7.0 or above.\n"
     ]
    }
   ],
   "source": [
    "pipeline.train()"
   ]
  },
  {
   "cell_type": "code",
   "execution_count": 6,
   "metadata": {
    "scrolled": true
   },
   "outputs": [
    {
     "data": {
      "text/html": [
       "<div>\n",
       "<style scoped>\n",
       "    .dataframe tbody tr th:only-of-type {\n",
       "        vertical-align: middle;\n",
       "    }\n",
       "\n",
       "    .dataframe tbody tr th {\n",
       "        vertical-align: top;\n",
       "    }\n",
       "\n",
       "    .dataframe thead th {\n",
       "        text-align: right;\n",
       "    }\n",
       "</style>\n",
       "<table border=\"1\" class=\"dataframe\">\n",
       "  <thead>\n",
       "    <tr style=\"text-align: right;\">\n",
       "      <th></th>\n",
       "      <th>model</th>\n",
       "      <th>feature</th>\n",
       "      <th>training_mae</th>\n",
       "      <th>training_mse</th>\n",
       "      <th>training_r2_score</th>\n",
       "      <th>test_mae</th>\n",
       "      <th>test_mse</th>\n",
       "      <th>test_r2_score</th>\n",
       "      <th>training_rmse</th>\n",
       "      <th>training_score</th>\n",
       "    </tr>\n",
       "  </thead>\n",
       "  <tbody>\n",
       "    <tr>\n",
       "      <th>0</th>\n",
       "      <td>RandomForestRegressor(n_estimators=42)</td>\n",
       "      <td>fingerprint</td>\n",
       "      <td>5.905079e-03</td>\n",
       "      <td>5.942573e-05</td>\n",
       "      <td>0.876879</td>\n",
       "      <td>0.017238</td>\n",
       "      <td>0.000479</td>\n",
       "      <td>0.250166</td>\n",
       "      <td>7.708809e-03</td>\n",
       "      <td>0.876879</td>\n",
       "    </tr>\n",
       "    <tr>\n",
       "      <th>1</th>\n",
       "      <td>GradientBoostingRegressor</td>\n",
       "      <td>fingerprint</td>\n",
       "      <td>7.897346e-05</td>\n",
       "      <td>8.576134e-09</td>\n",
       "      <td>0.999986</td>\n",
       "      <td>0.017606</td>\n",
       "      <td>0.000610</td>\n",
       "      <td>-0.444410</td>\n",
       "      <td>9.260742e-05</td>\n",
       "      <td>0.999986</td>\n",
       "    </tr>\n",
       "    <tr>\n",
       "      <th>2</th>\n",
       "      <td>GaussianProcessRegressor</td>\n",
       "      <td>fingerprint</td>\n",
       "      <td>2.321767e-11</td>\n",
       "      <td>5.450004e-22</td>\n",
       "      <td>1.000000</td>\n",
       "      <td>0.235570</td>\n",
       "      <td>0.055971</td>\n",
       "      <td>-116.082932</td>\n",
       "      <td>2.334524e-11</td>\n",
       "      <td>1.000000</td>\n",
       "    </tr>\n",
       "  </tbody>\n",
       "</table>\n",
       "</div>"
      ],
      "text/plain": [
       "                                    model      feature  training_mae  \\\n",
       "0  RandomForestRegressor(n_estimators=42)  fingerprint  5.905079e-03   \n",
       "1               GradientBoostingRegressor  fingerprint  7.897346e-05   \n",
       "2                GaussianProcessRegressor  fingerprint  2.321767e-11   \n",
       "\n",
       "   training_mse  training_r2_score  test_mae  test_mse  test_r2_score  \\\n",
       "0  5.942573e-05           0.876879  0.017238  0.000479       0.250166   \n",
       "1  8.576134e-09           0.999986  0.017606  0.000610      -0.444410   \n",
       "2  5.450004e-22           1.000000  0.235570  0.055971    -116.082932   \n",
       "\n",
       "   training_rmse  training_score  \n",
       "0   7.708809e-03        0.876879  \n",
       "1   9.260742e-05        0.999986  \n",
       "2   2.334524e-11        1.000000  "
      ]
     },
     "execution_count": 6,
     "metadata": {},
     "output_type": "execute_result"
    }
   ],
   "source": [
    "pipeline.get_statistics().sort_values(by='test_mae', ascending=True)"
   ]
  }
 ],
 "metadata": {
  "kernelspec": {
   "display_name": "automol",
   "language": "python",
   "name": "automol"
  },
  "language_info": {
   "codemirror_mode": {
    "name": "ipython",
    "version": 3
   },
   "file_extension": ".py",
   "mimetype": "text/x-python",
   "name": "python",
   "nbconvert_exporter": "python",
   "pygments_lexer": "ipython3",
   "version": "3.8.5"
  }
 },
 "nbformat": 4,
 "nbformat_minor": 4
}
