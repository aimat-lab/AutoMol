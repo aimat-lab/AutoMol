{
 "cells": [
  {
   "cell_type": "markdown",
   "metadata": {},
   "source": [
    "This is a minimal example of using AutoMol:\n",
    "- Training dataset: QM9\n",
    "- Training features: fingerprints\n",
    "- Feature to learn: HOMO energy\n",
    "- Models: RandomForest, GradientBoosting, GaussianProcess\n",
    "- Problem: regression\n",
    "- Dataset location: local\n",
    "- No CV\n",
    "- No custom features"
   ]
  },
  {
   "cell_type": "code",
   "execution_count": 1,
   "metadata": {},
   "outputs": [],
   "source": [
    "if'automol'in globals(): import importlib; importlib.reload(automol)"
   ]
  },
  {
   "cell_type": "code",
   "execution_count": 2,
   "metadata": {},
   "outputs": [],
   "source": [
    "from automol.pipeline import Pipeline"
   ]
  },
  {
   "cell_type": "code",
   "execution_count": 4,
   "metadata": {},
   "outputs": [
    {
     "name": "stdout",
     "output_type": "stream",
     "text": [
      "amount: 50\n",
      "dataset_class: QM9\n",
      "dataset_location: data/dsgdb9nsd\n",
      "features:\n",
      "- fingerprint\n",
      "labels:\n",
      "- homo\n",
      "models_filter:\n",
      "- entry_point: train\n",
      "  git_uri: sklearn\n",
      "  model_names:\n",
      "  - RandomForestRegressor\n",
      "  - GradientBoostingRegressor\n",
      "  - GaussianProcessRegressor\n",
      "  whitelist: 1\n",
      "problem: regression\n",
      "train_valid_test_split:\n",
      "- 0.6\n",
      "- 0.2\n",
      "- 0.2\n",
      "\n"
     ]
    }
   ],
   "source": [
    "config_yaml = 'qm9_dataset_example_1.yaml'\n",
    "pipeline = Pipeline(config_yaml)\n",
    "pipeline.print_spec()"
   ]
  },
  {
   "cell_type": "code",
   "execution_count": 5,
   "metadata": {},
   "outputs": [
    {
     "name": "stdout",
     "output_type": "stream",
     "text": [
      "Features possible_feature_generators: [<automol.features.feature_generators.MoleculeFeatureGenerator object at 0x7ffa3a07edc0>, <automol.features.feature_generators.FingerprintFeatureGenerator object at 0x7ffa3a07ecd0>, <automol.features.feature_generators.RDkitFeatureGenerator object at 0x7ffa3a07ef40>, <automol.features.feature_generators.CoulombMatricesFeatureGenerator object at 0x7ffa3a08b0a0>]\n",
      "Checking if the feature fingerprint can be generated.\n",
      "Got the generated feature fingerprint.\n",
      "Got the feature homo from the current dataset.\n"
     ]
    },
    {
     "name": "stderr",
     "output_type": "stream",
     "text": [
      "2021/03/14 23:06:06 WARNING mlflow.models.model: Logging model metadata to the tracking server has failed, possibly due older server version. The model artifacts have been logged successfully under sftp://lsdf/kit/iti/projects/aimat-mlflow/artifacts/7/45269f55b260456aaa9cdd4819190a52/artifacts. In addition to exporting model artifacts, MLflow clients 1.7.0 and above attempt to record model metadata to the  tracking store. If logging to a mlflow server via REST, consider  upgrading the server version to MLflow 1.7.0 or above.\n"
     ]
    },
    {
     "name": "stdout",
     "output_type": "stream",
     "text": [
      "Got the feature fingerprint from the current dataset.\n",
      "Got the feature homo from the current dataset.\n"
     ]
    },
    {
     "name": "stderr",
     "output_type": "stream",
     "text": [
      "2021/03/14 23:06:11 WARNING mlflow.models.model: Logging model metadata to the tracking server has failed, possibly due older server version. The model artifacts have been logged successfully under sftp://lsdf/kit/iti/projects/aimat-mlflow/artifacts/7/a68965d03a0e4ff5a4c2b7f6230f0588/artifacts. In addition to exporting model artifacts, MLflow clients 1.7.0 and above attempt to record model metadata to the  tracking store. If logging to a mlflow server via REST, consider  upgrading the server version to MLflow 1.7.0 or above.\n"
     ]
    },
    {
     "name": "stdout",
     "output_type": "stream",
     "text": [
      "Got the feature fingerprint from the current dataset.\n",
      "Got the feature homo from the current dataset.\n"
     ]
    },
    {
     "name": "stderr",
     "output_type": "stream",
     "text": [
      "2021/03/14 23:06:17 WARNING mlflow.models.model: Logging model metadata to the tracking server has failed, possibly due older server version. The model artifacts have been logged successfully under sftp://lsdf/kit/iti/projects/aimat-mlflow/artifacts/7/51a55e8bb6884767ba324907eec8c320/artifacts. In addition to exporting model artifacts, MLflow clients 1.7.0 and above attempt to record model metadata to the  tracking store. If logging to a mlflow server via REST, consider  upgrading the server version to MLflow 1.7.0 or above.\n"
     ]
    }
   ],
   "source": [
    "pipeline.train()"
   ]
  }
 ],
 "metadata": {
  "kernelspec": {
   "display_name": "automol",
   "language": "python",
   "name": "automol"
  },
  "language_info": {
   "codemirror_mode": {
    "name": "ipython",
    "version": 3
   },
   "file_extension": ".py",
   "mimetype": "text/x-python",
   "name": "python",
   "nbconvert_exporter": "python",
   "pygments_lexer": "ipython3",
   "version": "3.8.5"
  }
 },
 "nbformat": 4,
 "nbformat_minor": 4
}
