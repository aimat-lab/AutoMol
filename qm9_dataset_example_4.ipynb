{
 "cells": [
  {
   "cell_type": "markdown",
   "metadata": {},
   "source": [
    "This is a minimal example of using AutoMol:\n",
    "- Training dataset: QM9\n",
    "- Training features: rdkit features, fingerprints (PCA to 50 dimensions for MLP)\n",
    "- Feature to learn: HOMO energy\n",
    "- Models: RandomForest, GradientBoosting, GaussianProcess, MLP neural network\n",
    "- Problem: regression\n",
    "- Dataset location: LSDF\n",
    "- No CV\n",
    "- No custom features"
   ]
  },
  {
   "cell_type": "code",
   "execution_count": 1,
   "metadata": {},
   "outputs": [],
   "source": [
    "if'automol'in globals(): import importlib; importlib.reload(automol)"
   ]
  },
  {
   "cell_type": "code",
   "execution_count": 2,
   "metadata": {},
   "outputs": [],
   "source": [
    "from automol.pipeline import Pipeline"
   ]
  },
  {
   "cell_type": "code",
   "execution_count": 3,
   "metadata": {},
   "outputs": [
    {
     "name": "stderr",
     "output_type": "stream",
     "text": [
      "/home/erik/miniconda2/envs/automol/lib/python3.8/site-packages/ipykernel/ipkernel.py:283: DeprecationWarning: `should_run_async` will not call `transform_cell` automatically in the future. Please pass the result to `transformed_cell` argument and any exception that happen during thetransform in `preprocessing_exc_tuple` in IPython 7.17 and above.\n",
      "  and should_run_async(code)\n"
     ]
    },
    {
     "name": "stdout",
     "output_type": "stream",
     "text": [
      "amount: 50\n",
      "dataset_class: QM9\n",
      "dataset_location: lsdf:///lsdf/kit/iti/projects/aimat/datasets/dsgdb9nsd\n",
      "features:\n",
      "- fingerprint\n",
      "- rdkit\n",
      "label: homo\n",
      "mlflow_experiment: qm9_dataset_automol_demo\n",
      "models_filter:\n",
      "- git_uri: sklearn\n",
      "  model_names:\n",
      "  - RandomForestRegressor\n",
      "  - GradientBoostingRegressor\n",
      "  - GaussianProcessRegressor\n",
      "  - MLPRegressor\n",
      "  whitelist: 1\n",
      "pca_preprocessing:\n",
      "  feature: rdkit\n",
      "  model_name: MLPRegressor\n",
      "  n_components: 50\n",
      "problem: regression\n",
      "train_valid_test_split:\n",
      "- 0.6\n",
      "- 0.2\n",
      "- 0.2\n",
      "\n"
     ]
    }
   ],
   "source": [
    "config_yaml = 'qm9_dataset_example_4.yaml'\n",
    "pipeline = Pipeline(config_yaml)\n",
    "pipeline.print_spec()"
   ]
  },
  {
   "cell_type": "code",
   "execution_count": 4,
   "metadata": {},
   "outputs": [
    {
     "name": "stdout",
     "output_type": "stream",
     "text": [
      "Got the feature homo from the current dataset.\n",
      "Checking if the feature fingerprint can be generated.\n",
      "Got the generated feature fingerprint.\n",
      "Running model GaussianProcessRegressor with feature fingerprint.\n"
     ]
    },
    {
     "name": "stderr",
     "output_type": "stream",
     "text": [
      "2021/03/15 10:40:16 WARNING mlflow.models.model: Logging model metadata to the tracking server has failed, possibly due older server version. The model artifacts have been logged successfully under sftp://lsdf/kit/iti/projects/aimat-mlflow/artifacts/24/19066c4f49f94c46ba802745910a884d/artifacts. In addition to exporting model artifacts, MLflow clients 1.7.0 and above attempt to record model metadata to the  tracking store. If logging to a mlflow server via REST, consider  upgrading the server version to MLflow 1.7.0 or above.\n"
     ]
    },
    {
     "name": "stdout",
     "output_type": "stream",
     "text": [
      "Running model GradientBoostingRegressor with feature fingerprint.\n"
     ]
    },
    {
     "name": "stderr",
     "output_type": "stream",
     "text": [
      "2021/03/15 10:40:24 WARNING mlflow.models.model: Logging model metadata to the tracking server has failed, possibly due older server version. The model artifacts have been logged successfully under sftp://lsdf/kit/iti/projects/aimat-mlflow/artifacts/24/c2a35b368a53413783c4bf5d8ddc49df/artifacts. In addition to exporting model artifacts, MLflow clients 1.7.0 and above attempt to record model metadata to the  tracking store. If logging to a mlflow server via REST, consider  upgrading the server version to MLflow 1.7.0 or above.\n"
     ]
    },
    {
     "name": "stdout",
     "output_type": "stream",
     "text": [
      "Running model MLPRegressor with feature fingerprint.\n"
     ]
    },
    {
     "name": "stderr",
     "output_type": "stream",
     "text": [
      "2021/03/15 10:40:36 WARNING mlflow.models.model: Logging model metadata to the tracking server has failed, possibly due older server version. The model artifacts have been logged successfully under sftp://lsdf/kit/iti/projects/aimat-mlflow/artifacts/24/e70aec2fdb124314bd9aaa811abc28e5/artifacts. In addition to exporting model artifacts, MLflow clients 1.7.0 and above attempt to record model metadata to the  tracking store. If logging to a mlflow server via REST, consider  upgrading the server version to MLflow 1.7.0 or above.\n"
     ]
    },
    {
     "name": "stdout",
     "output_type": "stream",
     "text": [
      "Running model RandomForestRegressor(n_estimators=42) with feature fingerprint.\n"
     ]
    },
    {
     "name": "stderr",
     "output_type": "stream",
     "text": [
      "2021/03/15 10:40:48 WARNING mlflow.models.model: Logging model metadata to the tracking server has failed, possibly due older server version. The model artifacts have been logged successfully under sftp://lsdf/kit/iti/projects/aimat-mlflow/artifacts/24/369798fd4a2a4f189f7d3b9467f0e21e/artifacts. In addition to exporting model artifacts, MLflow clients 1.7.0 and above attempt to record model metadata to the  tracking store. If logging to a mlflow server via REST, consider  upgrading the server version to MLflow 1.7.0 or above.\n"
     ]
    },
    {
     "name": "stdout",
     "output_type": "stream",
     "text": [
      "Checking if the feature rdkit can be generated.\n",
      "Got the generated feature rdkit.\n",
      "Running model GaussianProcessRegressor with feature rdkit.\n"
     ]
    },
    {
     "name": "stderr",
     "output_type": "stream",
     "text": [
      "2021/03/15 10:40:56 WARNING mlflow.models.model: Logging model metadata to the tracking server has failed, possibly due older server version. The model artifacts have been logged successfully under sftp://lsdf/kit/iti/projects/aimat-mlflow/artifacts/24/7329122577de4912b6cea152c4aec623/artifacts. In addition to exporting model artifacts, MLflow clients 1.7.0 and above attempt to record model metadata to the  tracking store. If logging to a mlflow server via REST, consider  upgrading the server version to MLflow 1.7.0 or above.\n"
     ]
    },
    {
     "name": "stdout",
     "output_type": "stream",
     "text": [
      "Running model GradientBoostingRegressor with feature rdkit.\n"
     ]
    },
    {
     "name": "stderr",
     "output_type": "stream",
     "text": [
      "2021/03/15 10:41:03 WARNING mlflow.models.model: Logging model metadata to the tracking server has failed, possibly due older server version. The model artifacts have been logged successfully under sftp://lsdf/kit/iti/projects/aimat-mlflow/artifacts/24/48666227648c4f78906fb98c24b4c925/artifacts. In addition to exporting model artifacts, MLflow clients 1.7.0 and above attempt to record model metadata to the  tracking store. If logging to a mlflow server via REST, consider  upgrading the server version to MLflow 1.7.0 or above.\n"
     ]
    },
    {
     "name": "stdout",
     "output_type": "stream",
     "text": [
      "Running model MLPRegressor with feature rdkit (PCA to 50 dimensions).\n",
      "Got the feature rdkit from the current dataset.\n"
     ]
    },
    {
     "name": "stderr",
     "output_type": "stream",
     "text": [
      "2021/03/15 10:41:07 WARNING mlflow.sklearn: PCA.score failed. The 'training_score' metric will not be recorded. Scoring error: 'y'\n",
      "2021/03/15 10:41:07 WARNING mlflow.sklearn: Failed to infer model signature: could not sample data to infer model signature: 'y'\n"
     ]
    },
    {
     "name": "stdout",
     "output_type": "stream",
     "text": [
      "Running model RandomForestRegressor(n_estimators=42) with feature rdkit.\n"
     ]
    },
    {
     "name": "stderr",
     "output_type": "stream",
     "text": [
      "2021/03/15 10:41:19 WARNING mlflow.models.model: Logging model metadata to the tracking server has failed, possibly due older server version. The model artifacts have been logged successfully under sftp://lsdf/kit/iti/projects/aimat-mlflow/artifacts/24/22e586126a7d44b28d467c3b448d75e5/artifacts. In addition to exporting model artifacts, MLflow clients 1.7.0 and above attempt to record model metadata to the  tracking store. If logging to a mlflow server via REST, consider  upgrading the server version to MLflow 1.7.0 or above.\n"
     ]
    }
   ],
   "source": [
    "pipeline.train()"
   ]
  },
  {
   "cell_type": "code",
   "execution_count": 5,
   "metadata": {},
   "outputs": [
    {
     "name": "stderr",
     "output_type": "stream",
     "text": [
      "/home/erik/miniconda2/envs/automol/lib/python3.8/site-packages/ipykernel/ipkernel.py:283: DeprecationWarning: `should_run_async` will not call `transform_cell` automatically in the future. Please pass the result to `transformed_cell` argument and any exception that happen during thetransform in `preprocessing_exc_tuple` in IPython 7.17 and above.\n",
      "  and should_run_async(code)\n"
     ]
    },
    {
     "data": {
      "text/html": [
       "<div>\n",
       "<style scoped>\n",
       "    .dataframe tbody tr th:only-of-type {\n",
       "        vertical-align: middle;\n",
       "    }\n",
       "\n",
       "    .dataframe tbody tr th {\n",
       "        vertical-align: top;\n",
       "    }\n",
       "\n",
       "    .dataframe thead th {\n",
       "        text-align: right;\n",
       "    }\n",
       "</style>\n",
       "<table border=\"1\" class=\"dataframe\">\n",
       "  <thead>\n",
       "    <tr style=\"text-align: right;\">\n",
       "      <th></th>\n",
       "      <th>model</th>\n",
       "      <th>feature</th>\n",
       "      <th>training_mae</th>\n",
       "      <th>training_mse</th>\n",
       "      <th>training_r2_score</th>\n",
       "      <th>test_mae</th>\n",
       "      <th>test_mse</th>\n",
       "      <th>test_r2_score</th>\n",
       "      <th>training_rmse</th>\n",
       "      <th>training_score</th>\n",
       "    </tr>\n",
       "  </thead>\n",
       "  <tbody>\n",
       "    <tr>\n",
       "      <th>5</th>\n",
       "      <td>GradientBoostingRegressor</td>\n",
       "      <td>rdkit</td>\n",
       "      <td>4.072944e-06</td>\n",
       "      <td>2.523260e-11</td>\n",
       "      <td>1.000000</td>\n",
       "      <td>0.013094</td>\n",
       "      <td>0.000270</td>\n",
       "      <td>0.591307</td>\n",
       "      <td>5.023206e-06</td>\n",
       "      <td>1.000000</td>\n",
       "    </tr>\n",
       "    <tr>\n",
       "      <th>7</th>\n",
       "      <td>RandomForestRegressor(n_estimators=42)</td>\n",
       "      <td>rdkit</td>\n",
       "      <td>6.842460e-03</td>\n",
       "      <td>6.771451e-05</td>\n",
       "      <td>0.867793</td>\n",
       "      <td>0.017258</td>\n",
       "      <td>0.000387</td>\n",
       "      <td>0.460780</td>\n",
       "      <td>8.228883e-03</td>\n",
       "      <td>0.867793</td>\n",
       "    </tr>\n",
       "    <tr>\n",
       "      <th>3</th>\n",
       "      <td>RandomForestRegressor(n_estimators=42)</td>\n",
       "      <td>fingerprint</td>\n",
       "      <td>6.449841e-03</td>\n",
       "      <td>7.506317e-05</td>\n",
       "      <td>0.865029</td>\n",
       "      <td>0.017392</td>\n",
       "      <td>0.000505</td>\n",
       "      <td>0.195141</td>\n",
       "      <td>8.663900e-03</td>\n",
       "      <td>0.865029</td>\n",
       "    </tr>\n",
       "    <tr>\n",
       "      <th>1</th>\n",
       "      <td>GradientBoostingRegressor</td>\n",
       "      <td>fingerprint</td>\n",
       "      <td>2.671001e-05</td>\n",
       "      <td>1.166332e-09</td>\n",
       "      <td>0.999998</td>\n",
       "      <td>0.023758</td>\n",
       "      <td>0.000720</td>\n",
       "      <td>-0.053477</td>\n",
       "      <td>3.415160e-05</td>\n",
       "      <td>0.999998</td>\n",
       "    </tr>\n",
       "    <tr>\n",
       "      <th>2</th>\n",
       "      <td>MLPRegressor</td>\n",
       "      <td>fingerprint</td>\n",
       "      <td>1.098190e-02</td>\n",
       "      <td>3.301839e-04</td>\n",
       "      <td>0.342321</td>\n",
       "      <td>0.127482</td>\n",
       "      <td>0.025830</td>\n",
       "      <td>-40.854687</td>\n",
       "      <td>1.817096e-02</td>\n",
       "      <td>0.342321</td>\n",
       "    </tr>\n",
       "    <tr>\n",
       "      <th>4</th>\n",
       "      <td>GaussianProcessRegressor</td>\n",
       "      <td>rdkit</td>\n",
       "      <td>2.454666e-11</td>\n",
       "      <td>6.083801e-22</td>\n",
       "      <td>1.000000</td>\n",
       "      <td>0.240820</td>\n",
       "      <td>0.058603</td>\n",
       "      <td>-95.205928</td>\n",
       "      <td>2.466536e-11</td>\n",
       "      <td>1.000000</td>\n",
       "    </tr>\n",
       "    <tr>\n",
       "      <th>0</th>\n",
       "      <td>GaussianProcessRegressor</td>\n",
       "      <td>fingerprint</td>\n",
       "      <td>2.430966e-11</td>\n",
       "      <td>5.976370e-22</td>\n",
       "      <td>1.000000</td>\n",
       "      <td>0.244375</td>\n",
       "      <td>0.060215</td>\n",
       "      <td>-120.478037</td>\n",
       "      <td>2.444662e-11</td>\n",
       "      <td>1.000000</td>\n",
       "    </tr>\n",
       "    <tr>\n",
       "      <th>6</th>\n",
       "      <td>MLPRegressor</td>\n",
       "      <td>rdkit</td>\n",
       "      <td>1.874486e-02</td>\n",
       "      <td>5.319233e-04</td>\n",
       "      <td>0.101358</td>\n",
       "      <td>2.921080</td>\n",
       "      <td>14.380272</td>\n",
       "      <td>-23910.275454</td>\n",
       "      <td>2.306346e-02</td>\n",
       "      <td>0.101358</td>\n",
       "    </tr>\n",
       "  </tbody>\n",
       "</table>\n",
       "</div>"
      ],
      "text/plain": [
       "                                    model      feature  training_mae  \\\n",
       "5               GradientBoostingRegressor        rdkit  4.072944e-06   \n",
       "7  RandomForestRegressor(n_estimators=42)        rdkit  6.842460e-03   \n",
       "3  RandomForestRegressor(n_estimators=42)  fingerprint  6.449841e-03   \n",
       "1               GradientBoostingRegressor  fingerprint  2.671001e-05   \n",
       "2                            MLPRegressor  fingerprint  1.098190e-02   \n",
       "4                GaussianProcessRegressor        rdkit  2.454666e-11   \n",
       "0                GaussianProcessRegressor  fingerprint  2.430966e-11   \n",
       "6                            MLPRegressor        rdkit  1.874486e-02   \n",
       "\n",
       "   training_mse  training_r2_score  test_mae   test_mse  test_r2_score  \\\n",
       "5  2.523260e-11           1.000000  0.013094   0.000270       0.591307   \n",
       "7  6.771451e-05           0.867793  0.017258   0.000387       0.460780   \n",
       "3  7.506317e-05           0.865029  0.017392   0.000505       0.195141   \n",
       "1  1.166332e-09           0.999998  0.023758   0.000720      -0.053477   \n",
       "2  3.301839e-04           0.342321  0.127482   0.025830     -40.854687   \n",
       "4  6.083801e-22           1.000000  0.240820   0.058603     -95.205928   \n",
       "0  5.976370e-22           1.000000  0.244375   0.060215    -120.478037   \n",
       "6  5.319233e-04           0.101358  2.921080  14.380272  -23910.275454   \n",
       "\n",
       "   training_rmse  training_score  \n",
       "5   5.023206e-06        1.000000  \n",
       "7   8.228883e-03        0.867793  \n",
       "3   8.663900e-03        0.865029  \n",
       "1   3.415160e-05        0.999998  \n",
       "2   1.817096e-02        0.342321  \n",
       "4   2.466536e-11        1.000000  \n",
       "0   2.444662e-11        1.000000  \n",
       "6   2.306346e-02        0.101358  "
      ]
     },
     "execution_count": 5,
     "metadata": {},
     "output_type": "execute_result"
    }
   ],
   "source": [
    "pipeline.get_statistics().sort_values(by='test_mae', ascending=True)"
   ]
  }
 ],
 "metadata": {
  "kernelspec": {
   "display_name": "automol",
   "language": "python",
   "name": "automol"
  },
  "language_info": {
   "codemirror_mode": {
    "name": "ipython",
    "version": 3
   },
   "file_extension": ".py",
   "mimetype": "text/x-python",
   "name": "python",
   "nbconvert_exporter": "python",
   "pygments_lexer": "ipython3",
   "version": "3.8.5"
  }
 },
 "nbformat": 4,
 "nbformat_minor": 4
}
