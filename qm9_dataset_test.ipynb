{
 "cells": [
  {
   "cell_type": "code",
   "execution_count": 1,
   "metadata": {},
   "outputs": [],
   "source": [
    "from automol.pipeline import Pipeline"
   ]
  },
  {
   "cell_type": "code",
   "execution_count": 2,
   "metadata": {},
   "outputs": [
    {
     "name": "stdout",
     "output_type": "stream",
     "text": [
      "amount: 10\n",
      "dataset_class: QM9\n",
      "dataset_location: dsgdb9nsd.xyz\n",
      "labels:\n",
      "- homo\n",
      "models_to_exclude: []\n",
      "problem: classification\n",
      "\n"
     ]
    }
   ],
   "source": [
    "config_yaml = 'qm9_dataset_test_config.yaml'\n",
    "pipeline = Pipeline(config_yaml)\n",
    "pipeline.print_spec()"
   ]
  },
  {
   "cell_type": "code",
   "execution_count": 3,
   "metadata": {
    "scrolled": true
   },
   "outputs": [
    {
     "data": {
      "text/plain": [
       "0    O=C([O-])C12C[NH2+]C1C2\n",
       "1                CN1CC1C#CCO\n",
       "2               OCC1COCOC=N1\n",
       "3              COCCC(C#N)C=O\n",
       "4            C1CC2OC2C2CN2C1\n",
       "5           CC12C3OC1C2NC3=O\n",
       "6                C#CCN(C)C=O\n",
       "7            CC1OC2CC1C2(C)C\n",
       "8              O=C1NC2CCC2O1\n",
       "9          CC1(C(=O)C=O)CCC1\n",
       "Name: smiles, dtype: object"
      ]
     },
     "execution_count": 3,
     "metadata": {},
     "output_type": "execute_result"
    }
   ],
   "source": [
    "pipeline.data_set.data['smiles'][0:10]"
   ]
  },
  {
   "cell_type": "code",
   "execution_count": 4,
   "metadata": {},
   "outputs": [
    {
     "data": {
      "text/plain": [
       "0   -0.1795\n",
       "1   -0.2284\n",
       "2   -0.2521\n",
       "3   -0.2701\n",
       "4   -0.2201\n",
       "5   -0.2270\n",
       "6   -0.2516\n",
       "7   -0.2310\n",
       "8   -0.2575\n",
       "9   -0.2452\n",
       "Name: homo, dtype: float64"
      ]
     },
     "execution_count": 4,
     "metadata": {},
     "output_type": "execute_result"
    }
   ],
   "source": [
    "pipeline.data_set.data['homo'][0:10]"
   ]
  },
  {
   "cell_type": "code",
   "execution_count": null,
   "metadata": {},
   "outputs": [],
   "source": [
    "from rdkit.Chem import Descriptors\n",
    "from rdkit import Chem\n",
    "from collections import OrderedDict\n",
    "import inspect\n",
    "import pandas as pd\n",
    "import numbers\n",
    "\n",
    "calc_props = OrderedDict(inspect.getmembers(Descriptors, inspect.isfunction))\n",
    "smiles = pipeline.data_set.data['smiles']\n",
    "sanitize = True\n",
    "axis = 0\n",
    "\n",
    "for key in list(calc_props.keys()):\n",
    "    if key.startswith('_'):\n",
    "        del calc_props[key]\n",
    "        continue\n",
    "    if key == 'setupAUTOCorrDescriptors':\n",
    "        del calc_props[key]\n",
    "        continue\n",
    "\n",
    "df = pd.DataFrame(columns=list(calc_props.keys()), index=range(len(smiles)))\n",
    "\n",
    "for i, s in enumerate(smiles):\n",
    "    mol = Chem.MolFromSmiles(s)\n",
    "    features = [val(mol) for key, val in calc_props.items()]\n",
    "    non_number_features = [f for f in features if not isinstance(f, numbers.Number)]\n",
    "    df.loc[i, :] = features\n",
    "\n",
    "if sanitize:\n",
    "    df.dropna(axis=axis, how='any', inplace=True)\n",
    "    \n",
    "non_number_features"
   ]
  },
  {
   "cell_type": "code",
   "execution_count": null,
   "metadata": {},
   "outputs": [],
   "source": [
    "features"
   ]
  },
  {
   "cell_type": "code",
   "execution_count": null,
   "metadata": {},
   "outputs": [],
   "source": [
    "pipeline.feature_generator.get_feature('fingerprint')"
   ]
  },
  {
   "cell_type": "code",
   "execution_count": null,
   "metadata": {},
   "outputs": [],
   "source": [
    "pipeline.train()"
   ]
  }
 ],
 "metadata": {
  "kernelspec": {
   "display_name": "automol",
   "language": "python",
   "name": "automol"
  },
  "language_info": {
   "codemirror_mode": {
    "name": "ipython",
    "version": 3
   },
   "file_extension": ".py",
   "mimetype": "text/x-python",
   "name": "python",
   "nbconvert_exporter": "python",
   "pygments_lexer": "ipython3",
   "version": "3.8.5"
  }
 },
 "nbformat": 4,
 "nbformat_minor": 4
}
