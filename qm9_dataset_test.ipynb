{
 "cells": [
  {
   "cell_type": "code",
   "execution_count": 1,
   "metadata": {},
   "outputs": [],
   "source": [
    "from automol.datasets import *\n",
    "config_yaml = 'qm9_dataset_test_config.yaml'"
   ]
  },
  {
   "cell_type": "code",
   "execution_count": 4,
   "metadata": {
    "scrolled": true
   },
   "outputs": [],
   "source": [
    "d = Dataset.from_input(config_yaml)"
   ]
  },
  {
   "cell_type": "code",
   "execution_count": 15,
   "metadata": {
    "scrolled": true
   },
   "outputs": [
    {
     "data": {
      "text/plain": [
       "['O=C([O-])C12C[NH2+]C1C2',\n",
       " 'CN1CC1C#CCO',\n",
       " 'OCC1COCOC=N1',\n",
       " 'COCCC(C#N)C=O',\n",
       " 'C1CC2OC2C2CN2C1',\n",
       " 'CC12C3OC1C2NC3=O',\n",
       " 'C#CCN(C)C=O',\n",
       " 'CC1OC2CC1C2(C)C',\n",
       " 'O=C1NC2CCC2O1',\n",
       " 'CC1(C(=O)C=O)CCC1']"
      ]
     },
     "execution_count": 15,
     "metadata": {},
     "output_type": "execute_result"
    }
   ],
   "source": [
    "d.data['smiles'][0:10]"
   ]
  },
  {
   "cell_type": "code",
   "execution_count": 16,
   "metadata": {},
   "outputs": [
    {
     "data": {
      "text/plain": [
       "[-0.1795,\n",
       " -0.2284,\n",
       " -0.2521,\n",
       " -0.2701,\n",
       " -0.2201,\n",
       " -0.227,\n",
       " -0.2516,\n",
       " -0.231,\n",
       " -0.2575,\n",
       " -0.2452]"
      ]
     },
     "execution_count": 16,
     "metadata": {},
     "output_type": "execute_result"
    }
   ],
   "source": [
    "d.data['homo'][0:10]"
   ]
  },
  {
   "cell_type": "code",
   "execution_count": 17,
   "metadata": {},
   "outputs": [
    {
     "data": {
      "text/plain": [
       "True"
      ]
     },
     "execution_count": 17,
     "metadata": {},
     "output_type": "execute_result"
    }
   ],
   "source": [
    "'smiles' in d.data"
   ]
  }
 ],
 "metadata": {
  "kernelspec": {
   "display_name": "automol",
   "language": "python",
   "name": "automol"
  },
  "language_info": {
   "codemirror_mode": {
    "name": "ipython",
    "version": 3
   },
   "file_extension": ".py",
   "mimetype": "text/x-python",
   "name": "python",
   "nbconvert_exporter": "python",
   "pygments_lexer": "ipython3",
   "version": "3.8.5"
  }
 },
 "nbformat": 4,
 "nbformat_minor": 4
}
