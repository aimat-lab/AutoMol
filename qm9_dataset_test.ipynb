{
 "cells": [
  {
   "cell_type": "code",
   "execution_count": 1,
   "metadata": {},
   "outputs": [],
   "source": [
    "from automol.datasets import *\n",
    "from automol.features import *\n",
    "from automol.models import *\n",
    "from automol.pipeline import *"
   ]
  },
  {
   "cell_type": "code",
   "execution_count": 2,
   "metadata": {},
   "outputs": [],
   "source": [
    "config_yaml = 'qm9_dataset_test_config.yaml'\n",
    "pipeline = Pipeline(config_yaml)"
   ]
  },
  {
   "cell_type": "code",
   "execution_count": 3,
   "metadata": {
    "scrolled": true
   },
   "outputs": [
    {
     "data": {
      "text/plain": [
       "0    O=C([O-])C12C[NH2+]C1C2\n",
       "1                CN1CC1C#CCO\n",
       "2               OCC1COCOC=N1\n",
       "3              COCCC(C#N)C=O\n",
       "4            C1CC2OC2C2CN2C1\n",
       "5           CC12C3OC1C2NC3=O\n",
       "6                C#CCN(C)C=O\n",
       "7            CC1OC2CC1C2(C)C\n",
       "8              O=C1NC2CCC2O1\n",
       "9          CC1(C(=O)C=O)CCC1\n",
       "Name: smiles, dtype: object"
      ]
     },
     "execution_count": 3,
     "metadata": {},
     "output_type": "execute_result"
    }
   ],
   "source": [
    "pipeline.data_set.data['smiles'][0:10]"
   ]
  },
  {
   "cell_type": "code",
   "execution_count": 4,
   "metadata": {},
   "outputs": [
    {
     "data": {
      "text/plain": [
       "0   -0.1795\n",
       "1   -0.2284\n",
       "2   -0.2521\n",
       "3   -0.2701\n",
       "4   -0.2201\n",
       "5   -0.2270\n",
       "6   -0.2516\n",
       "7   -0.2310\n",
       "8   -0.2575\n",
       "9   -0.2452\n",
       "Name: homo, dtype: float64"
      ]
     },
     "execution_count": 4,
     "metadata": {},
     "output_type": "execute_result"
    }
   ],
   "source": [
    "pipeline.data_set.data['homo'][0:10]"
   ]
  },
  {
   "cell_type": "code",
   "execution_count": 5,
   "metadata": {},
   "outputs": [
    {
     "data": {
      "text/plain": [
       "array([[0, 0, 0, ..., 0, 0, 1],\n",
       "       [0, 0, 0, ..., 0, 1, 1],\n",
       "       [0, 0, 0, ..., 0, 0, 1],\n",
       "       ...,\n",
       "       [0, 0, 0, ..., 0, 0, 0],\n",
       "       [0, 0, 0, ..., 0, 0, 1],\n",
       "       [0, 0, 0, ..., 0, 0, 0]])"
      ]
     },
     "execution_count": 5,
     "metadata": {},
     "output_type": "execute_result"
    }
   ],
   "source": [
    "pipeline.feature_generator.get_feature('fingerprint')"
   ]
  },
  {
   "cell_type": "code",
   "execution_count": 6,
   "metadata": {},
   "outputs": [
    {
     "name": "stdout",
     "output_type": "stream",
     "text": [
      "Training model RandomForestRegressor(n_estimators=42) with X = fingerprint and y = homo\n"
     ]
    }
   ],
   "source": [
    "pipeline.train()"
   ]
  }
 ],
 "metadata": {
  "kernelspec": {
   "display_name": "automol",
   "language": "python",
   "name": "automol"
  },
  "language_info": {
   "codemirror_mode": {
    "name": "ipython",
    "version": 3
   },
   "file_extension": ".py",
   "mimetype": "text/x-python",
   "name": "python",
   "nbconvert_exporter": "python",
   "pygments_lexer": "ipython3",
   "version": "3.8.5"
  }
 },
 "nbformat": 4,
 "nbformat_minor": 4
}
