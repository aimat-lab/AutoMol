{
 "cells": [
  {
   "cell_type": "markdown",
   "metadata": {},
   "source": [
    "This is an example of using AutoMol:\n",
    "- Training dataset: QM9\n",
    "- Training features: fingerprints\n",
    "- Feature to learn: HOMO energy\n",
    "- Model: RandomForest, GradientBoosting, GaussianProcess\n",
    "- Problem: regression\n",
    "- Dataset location: local\n",
    "- Train_test_splits: 10\n",
    "- No CV\n",
    "- No custom features"
   ]
  },
  {
   "cell_type": "code",
   "execution_count": 1,
   "metadata": {},
   "outputs": [],
   "source": [
    "if'automol'in globals(): import importlib; importlib.reload(automol)"
   ]
  },
  {
   "cell_type": "code",
   "execution_count": 2,
   "metadata": {},
   "outputs": [],
   "source": [
    "from automol.pipeline import Pipeline"
   ]
  },
  {
   "cell_type": "code",
   "execution_count": 3,
   "metadata": {
    "scrolled": false
   },
   "outputs": [
    {
     "name": "stderr",
     "output_type": "stream",
     "text": [
      "/home/erik/miniconda2/envs/automol/lib/python3.8/site-packages/ipykernel/ipkernel.py:283: DeprecationWarning: `should_run_async` will not call `transform_cell` automatically in the future. Please pass the result to `transformed_cell` argument and any exception that happen during thetransform in `preprocessing_exc_tuple` in IPython 7.17 and above.\n",
      "  and should_run_async(code)\n"
     ]
    },
    {
     "name": "stdout",
     "output_type": "stream",
     "text": [
      "amount: 200\n",
      "dataset_class: QM9\n",
      "dataset_location: data/dsgdb9nsd\n",
      "dataset_split_test_size: 0.1\n",
      "features:\n",
      "- fingerprint\n",
      "label: homo\n",
      "mlflow_experiment: qm9_dataset_automol_demo\n",
      "models_filter:\n",
      "- git_uri: sklearn\n",
      "  model_names:\n",
      "  - RandomForestRegressor\n",
      "  - GradientBoostingRegressor\n",
      "  - GaussianProcessRegressor\n",
      "  whitelist: 1\n",
      "problem: regression\n",
      "train_test_splits: 10\n",
      "\n"
     ]
    }
   ],
   "source": [
    "config_yaml = 'qm9_dataset_example_6.yaml'\n",
    "pipeline = Pipeline(config_yaml)\n",
    "pipeline.print_spec()"
   ]
  },
  {
   "cell_type": "code",
   "execution_count": 4,
   "metadata": {
    "scrolled": false
   },
   "outputs": [
    {
     "name": "stdout",
     "output_type": "stream",
     "text": [
      "Got the feature homo from the current dataset.\n",
      "Checking if the feature fingerprint can be generated.\n",
      "Got the generated feature fingerprint.\n",
      "Running model GradientBoostingRegressor with feature fingerprint.\n"
     ]
    },
    {
     "name": "stderr",
     "output_type": "stream",
     "text": [
      "2021/03/17 01:31:10 WARNING mlflow.models.model: Logging model metadata to the tracking server has failed, possibly due older server version. The model artifacts have been logged successfully under sftp://lsdf/kit/iti/projects/aimat-mlflow/artifacts/24/9da966bdad36402aba0ed6aa86ee00b8/artifacts. In addition to exporting model artifacts, MLflow clients 1.7.0 and above attempt to record model metadata to the  tracking store. If logging to a mlflow server via REST, consider  upgrading the server version to MLflow 1.7.0 or above.\n"
     ]
    },
    {
     "name": "stdout",
     "output_type": "stream",
     "text": [
      "Running model GaussianProcessRegressor with feature fingerprint.\n"
     ]
    },
    {
     "name": "stderr",
     "output_type": "stream",
     "text": [
      "2021/03/17 01:31:18 WARNING mlflow.models.model: Logging model metadata to the tracking server has failed, possibly due older server version. The model artifacts have been logged successfully under sftp://lsdf/kit/iti/projects/aimat-mlflow/artifacts/24/9f4c2f770b214757b145514ffc0e0991/artifacts. In addition to exporting model artifacts, MLflow clients 1.7.0 and above attempt to record model metadata to the  tracking store. If logging to a mlflow server via REST, consider  upgrading the server version to MLflow 1.7.0 or above.\n"
     ]
    },
    {
     "name": "stdout",
     "output_type": "stream",
     "text": [
      "Running model RandomForestRegressor with feature fingerprint.\n"
     ]
    },
    {
     "name": "stderr",
     "output_type": "stream",
     "text": [
      "2021/03/17 01:31:30 WARNING mlflow.models.model: Logging model metadata to the tracking server has failed, possibly due older server version. The model artifacts have been logged successfully under sftp://lsdf/kit/iti/projects/aimat-mlflow/artifacts/24/27497342aa79425c88407430f09fe63e/artifacts. In addition to exporting model artifacts, MLflow clients 1.7.0 and above attempt to record model metadata to the  tracking store. If logging to a mlflow server via REST, consider  upgrading the server version to MLflow 1.7.0 or above.\n"
     ]
    },
    {
     "name": "stdout",
     "output_type": "stream",
     "text": [
      "Running model GradientBoostingRegressor with feature fingerprint.\n"
     ]
    },
    {
     "name": "stderr",
     "output_type": "stream",
     "text": [
      "2021/03/17 01:31:38 WARNING mlflow.models.model: Logging model metadata to the tracking server has failed, possibly due older server version. The model artifacts have been logged successfully under sftp://lsdf/kit/iti/projects/aimat-mlflow/artifacts/24/10144eacfd4442d4a80dffb3ee8fd45a/artifacts. In addition to exporting model artifacts, MLflow clients 1.7.0 and above attempt to record model metadata to the  tracking store. If logging to a mlflow server via REST, consider  upgrading the server version to MLflow 1.7.0 or above.\n"
     ]
    },
    {
     "name": "stdout",
     "output_type": "stream",
     "text": [
      "Running model GaussianProcessRegressor with feature fingerprint.\n"
     ]
    },
    {
     "name": "stderr",
     "output_type": "stream",
     "text": [
      "2021/03/17 01:31:46 WARNING mlflow.models.model: Logging model metadata to the tracking server has failed, possibly due older server version. The model artifacts have been logged successfully under sftp://lsdf/kit/iti/projects/aimat-mlflow/artifacts/24/ebbde134dbab4d489f8c9afbf59b29a2/artifacts. In addition to exporting model artifacts, MLflow clients 1.7.0 and above attempt to record model metadata to the  tracking store. If logging to a mlflow server via REST, consider  upgrading the server version to MLflow 1.7.0 or above.\n"
     ]
    },
    {
     "name": "stdout",
     "output_type": "stream",
     "text": [
      "Running model RandomForestRegressor with feature fingerprint.\n"
     ]
    },
    {
     "name": "stderr",
     "output_type": "stream",
     "text": [
      "2021/03/17 01:31:58 WARNING mlflow.models.model: Logging model metadata to the tracking server has failed, possibly due older server version. The model artifacts have been logged successfully under sftp://lsdf/kit/iti/projects/aimat-mlflow/artifacts/24/9e55e8c915d84014b502a15b1899052c/artifacts. In addition to exporting model artifacts, MLflow clients 1.7.0 and above attempt to record model metadata to the  tracking store. If logging to a mlflow server via REST, consider  upgrading the server version to MLflow 1.7.0 or above.\n"
     ]
    },
    {
     "name": "stdout",
     "output_type": "stream",
     "text": [
      "Running model GradientBoostingRegressor with feature fingerprint.\n"
     ]
    },
    {
     "name": "stderr",
     "output_type": "stream",
     "text": [
      "2021/03/17 01:32:05 WARNING mlflow.models.model: Logging model metadata to the tracking server has failed, possibly due older server version. The model artifacts have been logged successfully under sftp://lsdf/kit/iti/projects/aimat-mlflow/artifacts/24/4b6eb96e4021430aa89a92f431567776/artifacts. In addition to exporting model artifacts, MLflow clients 1.7.0 and above attempt to record model metadata to the  tracking store. If logging to a mlflow server via REST, consider  upgrading the server version to MLflow 1.7.0 or above.\n"
     ]
    },
    {
     "name": "stdout",
     "output_type": "stream",
     "text": [
      "Running model GaussianProcessRegressor with feature fingerprint.\n"
     ]
    },
    {
     "name": "stderr",
     "output_type": "stream",
     "text": [
      "2021/03/17 01:32:14 WARNING mlflow.models.model: Logging model metadata to the tracking server has failed, possibly due older server version. The model artifacts have been logged successfully under sftp://lsdf/kit/iti/projects/aimat-mlflow/artifacts/24/48c2683a8264475dbe1ad2cd1c01556b/artifacts. In addition to exporting model artifacts, MLflow clients 1.7.0 and above attempt to record model metadata to the  tracking store. If logging to a mlflow server via REST, consider  upgrading the server version to MLflow 1.7.0 or above.\n"
     ]
    },
    {
     "name": "stdout",
     "output_type": "stream",
     "text": [
      "Running model RandomForestRegressor with feature fingerprint.\n"
     ]
    },
    {
     "name": "stderr",
     "output_type": "stream",
     "text": [
      "2021/03/17 01:32:25 WARNING mlflow.models.model: Logging model metadata to the tracking server has failed, possibly due older server version. The model artifacts have been logged successfully under sftp://lsdf/kit/iti/projects/aimat-mlflow/artifacts/24/542f07982596451caa42122b2ab68774/artifacts. In addition to exporting model artifacts, MLflow clients 1.7.0 and above attempt to record model metadata to the  tracking store. If logging to a mlflow server via REST, consider  upgrading the server version to MLflow 1.7.0 or above.\n"
     ]
    },
    {
     "name": "stdout",
     "output_type": "stream",
     "text": [
      "Running model GradientBoostingRegressor with feature fingerprint.\n"
     ]
    },
    {
     "name": "stderr",
     "output_type": "stream",
     "text": [
      "2021/03/17 01:32:33 WARNING mlflow.models.model: Logging model metadata to the tracking server has failed, possibly due older server version. The model artifacts have been logged successfully under sftp://lsdf/kit/iti/projects/aimat-mlflow/artifacts/24/feb7fd96757146aca4a1d3848f1a44d8/artifacts. In addition to exporting model artifacts, MLflow clients 1.7.0 and above attempt to record model metadata to the  tracking store. If logging to a mlflow server via REST, consider  upgrading the server version to MLflow 1.7.0 or above.\n"
     ]
    },
    {
     "name": "stdout",
     "output_type": "stream",
     "text": [
      "Running model GaussianProcessRegressor with feature fingerprint.\n"
     ]
    },
    {
     "name": "stderr",
     "output_type": "stream",
     "text": [
      "2021/03/17 01:32:41 WARNING mlflow.models.model: Logging model metadata to the tracking server has failed, possibly due older server version. The model artifacts have been logged successfully under sftp://lsdf/kit/iti/projects/aimat-mlflow/artifacts/24/2b09709c43ad404eae0907ee9ba6f100/artifacts. In addition to exporting model artifacts, MLflow clients 1.7.0 and above attempt to record model metadata to the  tracking store. If logging to a mlflow server via REST, consider  upgrading the server version to MLflow 1.7.0 or above.\n"
     ]
    },
    {
     "name": "stdout",
     "output_type": "stream",
     "text": [
      "Running model RandomForestRegressor with feature fingerprint.\n"
     ]
    },
    {
     "name": "stderr",
     "output_type": "stream",
     "text": [
      "2021/03/17 01:32:53 WARNING mlflow.models.model: Logging model metadata to the tracking server has failed, possibly due older server version. The model artifacts have been logged successfully under sftp://lsdf/kit/iti/projects/aimat-mlflow/artifacts/24/834397d6adad404490d2857cb35f1183/artifacts. In addition to exporting model artifacts, MLflow clients 1.7.0 and above attempt to record model metadata to the  tracking store. If logging to a mlflow server via REST, consider  upgrading the server version to MLflow 1.7.0 or above.\n"
     ]
    },
    {
     "name": "stdout",
     "output_type": "stream",
     "text": [
      "Running model GradientBoostingRegressor with feature fingerprint.\n"
     ]
    },
    {
     "name": "stderr",
     "output_type": "stream",
     "text": [
      "2021/03/17 01:33:01 WARNING mlflow.models.model: Logging model metadata to the tracking server has failed, possibly due older server version. The model artifacts have been logged successfully under sftp://lsdf/kit/iti/projects/aimat-mlflow/artifacts/24/ef59155fa8c3423a8851bd6a1b0460e0/artifacts. In addition to exporting model artifacts, MLflow clients 1.7.0 and above attempt to record model metadata to the  tracking store. If logging to a mlflow server via REST, consider  upgrading the server version to MLflow 1.7.0 or above.\n"
     ]
    },
    {
     "name": "stdout",
     "output_type": "stream",
     "text": [
      "Running model GaussianProcessRegressor with feature fingerprint.\n"
     ]
    },
    {
     "name": "stderr",
     "output_type": "stream",
     "text": [
      "2021/03/17 01:33:09 WARNING mlflow.models.model: Logging model metadata to the tracking server has failed, possibly due older server version. The model artifacts have been logged successfully under sftp://lsdf/kit/iti/projects/aimat-mlflow/artifacts/24/54affcbcc7e548e1aab715e07de717f0/artifacts. In addition to exporting model artifacts, MLflow clients 1.7.0 and above attempt to record model metadata to the  tracking store. If logging to a mlflow server via REST, consider  upgrading the server version to MLflow 1.7.0 or above.\n"
     ]
    },
    {
     "name": "stdout",
     "output_type": "stream",
     "text": [
      "Running model RandomForestRegressor with feature fingerprint.\n"
     ]
    },
    {
     "name": "stderr",
     "output_type": "stream",
     "text": [
      "2021/03/17 01:33:20 WARNING mlflow.models.model: Logging model metadata to the tracking server has failed, possibly due older server version. The model artifacts have been logged successfully under sftp://lsdf/kit/iti/projects/aimat-mlflow/artifacts/24/0e99132f6e14410e93ee57f076d261fd/artifacts. In addition to exporting model artifacts, MLflow clients 1.7.0 and above attempt to record model metadata to the  tracking store. If logging to a mlflow server via REST, consider  upgrading the server version to MLflow 1.7.0 or above.\n"
     ]
    },
    {
     "name": "stdout",
     "output_type": "stream",
     "text": [
      "Running model GradientBoostingRegressor with feature fingerprint.\n"
     ]
    },
    {
     "name": "stderr",
     "output_type": "stream",
     "text": [
      "2021/03/17 01:33:30 WARNING mlflow.models.model: Logging model metadata to the tracking server has failed, possibly due older server version. The model artifacts have been logged successfully under sftp://lsdf/kit/iti/projects/aimat-mlflow/artifacts/24/7501ac4a162d4e38b63fad121885c9b5/artifacts. In addition to exporting model artifacts, MLflow clients 1.7.0 and above attempt to record model metadata to the  tracking store. If logging to a mlflow server via REST, consider  upgrading the server version to MLflow 1.7.0 or above.\n"
     ]
    },
    {
     "name": "stdout",
     "output_type": "stream",
     "text": [
      "Running model GaussianProcessRegressor with feature fingerprint.\n"
     ]
    },
    {
     "name": "stderr",
     "output_type": "stream",
     "text": [
      "2021/03/17 01:33:39 WARNING mlflow.models.model: Logging model metadata to the tracking server has failed, possibly due older server version. The model artifacts have been logged successfully under sftp://lsdf/kit/iti/projects/aimat-mlflow/artifacts/24/1c772744dc0843e0bde4f0c4cdf682c5/artifacts. In addition to exporting model artifacts, MLflow clients 1.7.0 and above attempt to record model metadata to the  tracking store. If logging to a mlflow server via REST, consider  upgrading the server version to MLflow 1.7.0 or above.\n"
     ]
    },
    {
     "name": "stdout",
     "output_type": "stream",
     "text": [
      "Running model RandomForestRegressor with feature fingerprint.\n"
     ]
    },
    {
     "name": "stderr",
     "output_type": "stream",
     "text": [
      "2021/03/17 01:33:50 WARNING mlflow.models.model: Logging model metadata to the tracking server has failed, possibly due older server version. The model artifacts have been logged successfully under sftp://lsdf/kit/iti/projects/aimat-mlflow/artifacts/24/269bbd2055444e0bba865d6292e8caa6/artifacts. In addition to exporting model artifacts, MLflow clients 1.7.0 and above attempt to record model metadata to the  tracking store. If logging to a mlflow server via REST, consider  upgrading the server version to MLflow 1.7.0 or above.\n"
     ]
    },
    {
     "name": "stdout",
     "output_type": "stream",
     "text": [
      "Running model GradientBoostingRegressor with feature fingerprint.\n"
     ]
    },
    {
     "name": "stderr",
     "output_type": "stream",
     "text": [
      "2021/03/17 01:33:58 WARNING mlflow.models.model: Logging model metadata to the tracking server has failed, possibly due older server version. The model artifacts have been logged successfully under sftp://lsdf/kit/iti/projects/aimat-mlflow/artifacts/24/71fa51428b39418db1624db8acc5cd9c/artifacts. In addition to exporting model artifacts, MLflow clients 1.7.0 and above attempt to record model metadata to the  tracking store. If logging to a mlflow server via REST, consider  upgrading the server version to MLflow 1.7.0 or above.\n"
     ]
    },
    {
     "name": "stdout",
     "output_type": "stream",
     "text": [
      "Running model GaussianProcessRegressor with feature fingerprint.\n"
     ]
    },
    {
     "name": "stderr",
     "output_type": "stream",
     "text": [
      "2021/03/17 01:34:06 WARNING mlflow.models.model: Logging model metadata to the tracking server has failed, possibly due older server version. The model artifacts have been logged successfully under sftp://lsdf/kit/iti/projects/aimat-mlflow/artifacts/24/d3ffc1667b774a7192990c778c64d0aa/artifacts. In addition to exporting model artifacts, MLflow clients 1.7.0 and above attempt to record model metadata to the  tracking store. If logging to a mlflow server via REST, consider  upgrading the server version to MLflow 1.7.0 or above.\n"
     ]
    },
    {
     "name": "stdout",
     "output_type": "stream",
     "text": [
      "Running model RandomForestRegressor with feature fingerprint.\n"
     ]
    },
    {
     "name": "stderr",
     "output_type": "stream",
     "text": [
      "2021/03/17 01:34:17 WARNING mlflow.models.model: Logging model metadata to the tracking server has failed, possibly due older server version. The model artifacts have been logged successfully under sftp://lsdf/kit/iti/projects/aimat-mlflow/artifacts/24/551143814698407f925f30fc088b3334/artifacts. In addition to exporting model artifacts, MLflow clients 1.7.0 and above attempt to record model metadata to the  tracking store. If logging to a mlflow server via REST, consider  upgrading the server version to MLflow 1.7.0 or above.\n"
     ]
    },
    {
     "name": "stdout",
     "output_type": "stream",
     "text": [
      "Running model GradientBoostingRegressor with feature fingerprint.\n"
     ]
    },
    {
     "name": "stderr",
     "output_type": "stream",
     "text": [
      "2021/03/17 01:34:25 WARNING mlflow.models.model: Logging model metadata to the tracking server has failed, possibly due older server version. The model artifacts have been logged successfully under sftp://lsdf/kit/iti/projects/aimat-mlflow/artifacts/24/067a91b93c514bca9bfda0e02cc1cc5a/artifacts. In addition to exporting model artifacts, MLflow clients 1.7.0 and above attempt to record model metadata to the  tracking store. If logging to a mlflow server via REST, consider  upgrading the server version to MLflow 1.7.0 or above.\n"
     ]
    },
    {
     "name": "stdout",
     "output_type": "stream",
     "text": [
      "Running model GaussianProcessRegressor with feature fingerprint.\n"
     ]
    },
    {
     "name": "stderr",
     "output_type": "stream",
     "text": [
      "2021/03/17 01:34:33 WARNING mlflow.models.model: Logging model metadata to the tracking server has failed, possibly due older server version. The model artifacts have been logged successfully under sftp://lsdf/kit/iti/projects/aimat-mlflow/artifacts/24/21701da8406c4c7cb83fb7ac04bda70b/artifacts. In addition to exporting model artifacts, MLflow clients 1.7.0 and above attempt to record model metadata to the  tracking store. If logging to a mlflow server via REST, consider  upgrading the server version to MLflow 1.7.0 or above.\n"
     ]
    },
    {
     "name": "stdout",
     "output_type": "stream",
     "text": [
      "Running model RandomForestRegressor with feature fingerprint.\n"
     ]
    },
    {
     "name": "stderr",
     "output_type": "stream",
     "text": [
      "2021/03/17 01:34:44 WARNING mlflow.models.model: Logging model metadata to the tracking server has failed, possibly due older server version. The model artifacts have been logged successfully under sftp://lsdf/kit/iti/projects/aimat-mlflow/artifacts/24/6ea83db8b202401a80f34772c81bb345/artifacts. In addition to exporting model artifacts, MLflow clients 1.7.0 and above attempt to record model metadata to the  tracking store. If logging to a mlflow server via REST, consider  upgrading the server version to MLflow 1.7.0 or above.\n"
     ]
    },
    {
     "name": "stdout",
     "output_type": "stream",
     "text": [
      "Running model GradientBoostingRegressor with feature fingerprint.\n"
     ]
    },
    {
     "name": "stderr",
     "output_type": "stream",
     "text": [
      "2021/03/17 01:34:52 WARNING mlflow.models.model: Logging model metadata to the tracking server has failed, possibly due older server version. The model artifacts have been logged successfully under sftp://lsdf/kit/iti/projects/aimat-mlflow/artifacts/24/b12ae5d96bb64c7ab7dc5d50a09ee12d/artifacts. In addition to exporting model artifacts, MLflow clients 1.7.0 and above attempt to record model metadata to the  tracking store. If logging to a mlflow server via REST, consider  upgrading the server version to MLflow 1.7.0 or above.\n"
     ]
    },
    {
     "name": "stdout",
     "output_type": "stream",
     "text": [
      "Running model GaussianProcessRegressor with feature fingerprint.\n"
     ]
    },
    {
     "name": "stderr",
     "output_type": "stream",
     "text": [
      "2021/03/17 01:35:00 WARNING mlflow.models.model: Logging model metadata to the tracking server has failed, possibly due older server version. The model artifacts have been logged successfully under sftp://lsdf/kit/iti/projects/aimat-mlflow/artifacts/24/036f880e1e344e5591b29aaf45196fa6/artifacts. In addition to exporting model artifacts, MLflow clients 1.7.0 and above attempt to record model metadata to the  tracking store. If logging to a mlflow server via REST, consider  upgrading the server version to MLflow 1.7.0 or above.\n"
     ]
    },
    {
     "name": "stdout",
     "output_type": "stream",
     "text": [
      "Running model RandomForestRegressor with feature fingerprint.\n"
     ]
    },
    {
     "name": "stderr",
     "output_type": "stream",
     "text": [
      "2021/03/17 01:35:12 WARNING mlflow.models.model: Logging model metadata to the tracking server has failed, possibly due older server version. The model artifacts have been logged successfully under sftp://lsdf/kit/iti/projects/aimat-mlflow/artifacts/24/dd04cc49f934452eaaf1238b2c32b777/artifacts. In addition to exporting model artifacts, MLflow clients 1.7.0 and above attempt to record model metadata to the  tracking store. If logging to a mlflow server via REST, consider  upgrading the server version to MLflow 1.7.0 or above.\n"
     ]
    },
    {
     "name": "stdout",
     "output_type": "stream",
     "text": [
      "Running model GradientBoostingRegressor with feature fingerprint.\n"
     ]
    },
    {
     "name": "stderr",
     "output_type": "stream",
     "text": [
      "2021/03/17 01:35:20 WARNING mlflow.models.model: Logging model metadata to the tracking server has failed, possibly due older server version. The model artifacts have been logged successfully under sftp://lsdf/kit/iti/projects/aimat-mlflow/artifacts/24/a5cb5909223f4ab6beacb5075fc1b3ca/artifacts. In addition to exporting model artifacts, MLflow clients 1.7.0 and above attempt to record model metadata to the  tracking store. If logging to a mlflow server via REST, consider  upgrading the server version to MLflow 1.7.0 or above.\n"
     ]
    },
    {
     "name": "stdout",
     "output_type": "stream",
     "text": [
      "Running model GaussianProcessRegressor with feature fingerprint.\n"
     ]
    },
    {
     "name": "stderr",
     "output_type": "stream",
     "text": [
      "2021/03/17 01:35:28 WARNING mlflow.models.model: Logging model metadata to the tracking server has failed, possibly due older server version. The model artifacts have been logged successfully under sftp://lsdf/kit/iti/projects/aimat-mlflow/artifacts/24/2d4d1c5bc4b34cf6b53453d56de6f182/artifacts. In addition to exporting model artifacts, MLflow clients 1.7.0 and above attempt to record model metadata to the  tracking store. If logging to a mlflow server via REST, consider  upgrading the server version to MLflow 1.7.0 or above.\n"
     ]
    },
    {
     "name": "stdout",
     "output_type": "stream",
     "text": [
      "Running model RandomForestRegressor with feature fingerprint.\n"
     ]
    },
    {
     "name": "stderr",
     "output_type": "stream",
     "text": [
      "2021/03/17 01:35:39 WARNING mlflow.models.model: Logging model metadata to the tracking server has failed, possibly due older server version. The model artifacts have been logged successfully under sftp://lsdf/kit/iti/projects/aimat-mlflow/artifacts/24/57857c5890614f2f83f93e0791dbf705/artifacts. In addition to exporting model artifacts, MLflow clients 1.7.0 and above attempt to record model metadata to the  tracking store. If logging to a mlflow server via REST, consider  upgrading the server version to MLflow 1.7.0 or above.\n"
     ]
    }
   ],
   "source": [
    "pipeline.train()"
   ]
  },
  {
   "cell_type": "code",
   "execution_count": 5,
   "metadata": {
    "scrolled": false
   },
   "outputs": [
    {
     "name": "stderr",
     "output_type": "stream",
     "text": [
      "/home/erik/miniconda2/envs/automol/lib/python3.8/site-packages/ipykernel/ipkernel.py:283: DeprecationWarning: `should_run_async` will not call `transform_cell` automatically in the future. Please pass the result to `transformed_cell` argument and any exception that happen during thetransform in `preprocessing_exc_tuple` in IPython 7.17 and above.\n",
      "  and should_run_async(code)\n"
     ]
    },
    {
     "data": {
      "text/html": [
       "<div>\n",
       "<style scoped>\n",
       "    .dataframe tbody tr th:only-of-type {\n",
       "        vertical-align: middle;\n",
       "    }\n",
       "\n",
       "    .dataframe tbody tr th {\n",
       "        vertical-align: top;\n",
       "    }\n",
       "\n",
       "    .dataframe thead th {\n",
       "        text-align: right;\n",
       "    }\n",
       "</style>\n",
       "<table border=\"1\" class=\"dataframe\">\n",
       "  <thead>\n",
       "    <tr style=\"text-align: right;\">\n",
       "      <th></th>\n",
       "      <th>model</th>\n",
       "      <th>feature</th>\n",
       "      <th>split_index</th>\n",
       "      <th>training_mae</th>\n",
       "      <th>training_mse</th>\n",
       "      <th>training_r2_score</th>\n",
       "      <th>test_mae</th>\n",
       "      <th>test_mse</th>\n",
       "      <th>test_r2_score</th>\n",
       "      <th>training_rmse</th>\n",
       "      <th>training_score</th>\n",
       "    </tr>\n",
       "  </thead>\n",
       "  <tbody>\n",
       "    <tr>\n",
       "      <th>0</th>\n",
       "      <td>GradientBoostingRegressor</td>\n",
       "      <td>fingerprint</td>\n",
       "      <td>0</td>\n",
       "      <td>2.467345e-03</td>\n",
       "      <td>1.303795e-05</td>\n",
       "      <td>0.976216</td>\n",
       "      <td>0.016907</td>\n",
       "      <td>0.000586</td>\n",
       "      <td>-0.750273</td>\n",
       "      <td>3.610810e-03</td>\n",
       "      <td>0.976216</td>\n",
       "    </tr>\n",
       "    <tr>\n",
       "      <th>1</th>\n",
       "      <td>GaussianProcessRegressor</td>\n",
       "      <td>fingerprint</td>\n",
       "      <td>0</td>\n",
       "      <td>2.392734e-11</td>\n",
       "      <td>5.779991e-22</td>\n",
       "      <td>1.000000</td>\n",
       "      <td>0.231440</td>\n",
       "      <td>0.053899</td>\n",
       "      <td>-159.948668</td>\n",
       "      <td>2.404161e-11</td>\n",
       "      <td>1.000000</td>\n",
       "    </tr>\n",
       "    <tr>\n",
       "      <th>2</th>\n",
       "      <td>RandomForestRegressor</td>\n",
       "      <td>fingerprint</td>\n",
       "      <td>0</td>\n",
       "      <td>4.939750e-03</td>\n",
       "      <td>6.227880e-05</td>\n",
       "      <td>0.886388</td>\n",
       "      <td>0.013398</td>\n",
       "      <td>0.000296</td>\n",
       "      <td>0.116752</td>\n",
       "      <td>7.891692e-03</td>\n",
       "      <td>0.886388</td>\n",
       "    </tr>\n",
       "    <tr>\n",
       "      <th>3</th>\n",
       "      <td>GradientBoostingRegressor</td>\n",
       "      <td>fingerprint</td>\n",
       "      <td>1</td>\n",
       "      <td>2.487674e-03</td>\n",
       "      <td>1.435419e-05</td>\n",
       "      <td>0.974171</td>\n",
       "      <td>0.013619</td>\n",
       "      <td>0.000242</td>\n",
       "      <td>0.243816</td>\n",
       "      <td>3.788693e-03</td>\n",
       "      <td>0.974171</td>\n",
       "    </tr>\n",
       "    <tr>\n",
       "      <th>4</th>\n",
       "      <td>GaussianProcessRegressor</td>\n",
       "      <td>fingerprint</td>\n",
       "      <td>1</td>\n",
       "      <td>2.386245e-11</td>\n",
       "      <td>5.749737e-22</td>\n",
       "      <td>1.000000</td>\n",
       "      <td>0.237280</td>\n",
       "      <td>0.056622</td>\n",
       "      <td>-175.723685</td>\n",
       "      <td>2.397861e-11</td>\n",
       "      <td>1.000000</td>\n",
       "    </tr>\n",
       "    <tr>\n",
       "      <th>5</th>\n",
       "      <td>RandomForestRegressor</td>\n",
       "      <td>fingerprint</td>\n",
       "      <td>1</td>\n",
       "      <td>5.413856e-03</td>\n",
       "      <td>6.552966e-05</td>\n",
       "      <td>0.882085</td>\n",
       "      <td>0.012373</td>\n",
       "      <td>0.000246</td>\n",
       "      <td>0.232472</td>\n",
       "      <td>8.095039e-03</td>\n",
       "      <td>0.882085</td>\n",
       "    </tr>\n",
       "    <tr>\n",
       "      <th>6</th>\n",
       "      <td>GradientBoostingRegressor</td>\n",
       "      <td>fingerprint</td>\n",
       "      <td>2</td>\n",
       "      <td>2.506807e-03</td>\n",
       "      <td>1.593605e-05</td>\n",
       "      <td>0.970040</td>\n",
       "      <td>0.014278</td>\n",
       "      <td>0.000497</td>\n",
       "      <td>0.054278</td>\n",
       "      <td>3.991998e-03</td>\n",
       "      <td>0.970040</td>\n",
       "    </tr>\n",
       "    <tr>\n",
       "      <th>7</th>\n",
       "      <td>GaussianProcessRegressor</td>\n",
       "      <td>fingerprint</td>\n",
       "      <td>2</td>\n",
       "      <td>2.381345e-11</td>\n",
       "      <td>5.723994e-22</td>\n",
       "      <td>1.000000</td>\n",
       "      <td>0.241690</td>\n",
       "      <td>0.058939</td>\n",
       "      <td>-111.261488</td>\n",
       "      <td>2.392487e-11</td>\n",
       "      <td>1.000000</td>\n",
       "    </tr>\n",
       "    <tr>\n",
       "      <th>8</th>\n",
       "      <td>RandomForestRegressor</td>\n",
       "      <td>fingerprint</td>\n",
       "      <td>2</td>\n",
       "      <td>5.158456e-03</td>\n",
       "      <td>6.004177e-05</td>\n",
       "      <td>0.887122</td>\n",
       "      <td>0.014626</td>\n",
       "      <td>0.000477</td>\n",
       "      <td>0.092314</td>\n",
       "      <td>7.748663e-03</td>\n",
       "      <td>0.887122</td>\n",
       "    </tr>\n",
       "    <tr>\n",
       "      <th>9</th>\n",
       "      <td>GradientBoostingRegressor</td>\n",
       "      <td>fingerprint</td>\n",
       "      <td>3</td>\n",
       "      <td>2.327684e-03</td>\n",
       "      <td>1.334408e-05</td>\n",
       "      <td>0.971837</td>\n",
       "      <td>0.014672</td>\n",
       "      <td>0.000622</td>\n",
       "      <td>0.412464</td>\n",
       "      <td>3.652955e-03</td>\n",
       "      <td>0.971837</td>\n",
       "    </tr>\n",
       "    <tr>\n",
       "      <th>10</th>\n",
       "      <td>GaussianProcessRegressor</td>\n",
       "      <td>fingerprint</td>\n",
       "      <td>3</td>\n",
       "      <td>2.384350e-11</td>\n",
       "      <td>5.732508e-22</td>\n",
       "      <td>1.000000</td>\n",
       "      <td>0.238985</td>\n",
       "      <td>0.058173</td>\n",
       "      <td>-53.934027</td>\n",
       "      <td>2.394266e-11</td>\n",
       "      <td>1.000000</td>\n",
       "    </tr>\n",
       "    <tr>\n",
       "      <th>11</th>\n",
       "      <td>RandomForestRegressor</td>\n",
       "      <td>fingerprint</td>\n",
       "      <td>3</td>\n",
       "      <td>4.857367e-03</td>\n",
       "      <td>5.374393e-05</td>\n",
       "      <td>0.886574</td>\n",
       "      <td>0.015698</td>\n",
       "      <td>0.000715</td>\n",
       "      <td>0.325244</td>\n",
       "      <td>7.331025e-03</td>\n",
       "      <td>0.886574</td>\n",
       "    </tr>\n",
       "    <tr>\n",
       "      <th>12</th>\n",
       "      <td>GradientBoostingRegressor</td>\n",
       "      <td>fingerprint</td>\n",
       "      <td>4</td>\n",
       "      <td>2.607947e-03</td>\n",
       "      <td>1.724151e-05</td>\n",
       "      <td>0.969863</td>\n",
       "      <td>0.007490</td>\n",
       "      <td>0.000106</td>\n",
       "      <td>0.393606</td>\n",
       "      <td>4.152290e-03</td>\n",
       "      <td>0.969863</td>\n",
       "    </tr>\n",
       "    <tr>\n",
       "      <th>13</th>\n",
       "      <td>GaussianProcessRegressor</td>\n",
       "      <td>fingerprint</td>\n",
       "      <td>4</td>\n",
       "      <td>2.385417e-11</td>\n",
       "      <td>5.747425e-22</td>\n",
       "      <td>1.000000</td>\n",
       "      <td>0.238025</td>\n",
       "      <td>0.056830</td>\n",
       "      <td>-324.858323</td>\n",
       "      <td>2.397379e-11</td>\n",
       "      <td>1.000000</td>\n",
       "    </tr>\n",
       "    <tr>\n",
       "      <th>14</th>\n",
       "      <td>RandomForestRegressor</td>\n",
       "      <td>fingerprint</td>\n",
       "      <td>4</td>\n",
       "      <td>5.397511e-03</td>\n",
       "      <td>6.790658e-05</td>\n",
       "      <td>0.881305</td>\n",
       "      <td>0.006500</td>\n",
       "      <td>0.000076</td>\n",
       "      <td>0.562638</td>\n",
       "      <td>8.240545e-03</td>\n",
       "      <td>0.881305</td>\n",
       "    </tr>\n",
       "    <tr>\n",
       "      <th>15</th>\n",
       "      <td>GradientBoostingRegressor</td>\n",
       "      <td>fingerprint</td>\n",
       "      <td>5</td>\n",
       "      <td>2.335689e-03</td>\n",
       "      <td>1.428474e-05</td>\n",
       "      <td>0.974692</td>\n",
       "      <td>0.010207</td>\n",
       "      <td>0.000191</td>\n",
       "      <td>0.019136</td>\n",
       "      <td>3.779516e-03</td>\n",
       "      <td>0.974692</td>\n",
       "    </tr>\n",
       "    <tr>\n",
       "      <th>16</th>\n",
       "      <td>GaussianProcessRegressor</td>\n",
       "      <td>fingerprint</td>\n",
       "      <td>5</td>\n",
       "      <td>2.392317e-11</td>\n",
       "      <td>5.779623e-22</td>\n",
       "      <td>1.000000</td>\n",
       "      <td>0.231815</td>\n",
       "      <td>0.053932</td>\n",
       "      <td>-276.638412</td>\n",
       "      <td>2.404085e-11</td>\n",
       "      <td>1.000000</td>\n",
       "    </tr>\n",
       "    <tr>\n",
       "      <th>17</th>\n",
       "      <td>RandomForestRegressor</td>\n",
       "      <td>fingerprint</td>\n",
       "      <td>5</td>\n",
       "      <td>5.262900e-03</td>\n",
       "      <td>7.151542e-05</td>\n",
       "      <td>0.873297</td>\n",
       "      <td>0.010308</td>\n",
       "      <td>0.000152</td>\n",
       "      <td>0.216978</td>\n",
       "      <td>8.456679e-03</td>\n",
       "      <td>0.873297</td>\n",
       "    </tr>\n",
       "    <tr>\n",
       "      <th>18</th>\n",
       "      <td>GradientBoostingRegressor</td>\n",
       "      <td>fingerprint</td>\n",
       "      <td>6</td>\n",
       "      <td>2.385251e-03</td>\n",
       "      <td>1.377971e-05</td>\n",
       "      <td>0.973932</td>\n",
       "      <td>0.013457</td>\n",
       "      <td>0.000362</td>\n",
       "      <td>0.284467</td>\n",
       "      <td>3.712103e-03</td>\n",
       "      <td>0.973932</td>\n",
       "    </tr>\n",
       "    <tr>\n",
       "      <th>19</th>\n",
       "      <td>GaussianProcessRegressor</td>\n",
       "      <td>fingerprint</td>\n",
       "      <td>6</td>\n",
       "      <td>2.393034e-11</td>\n",
       "      <td>5.779471e-22</td>\n",
       "      <td>1.000000</td>\n",
       "      <td>0.231170</td>\n",
       "      <td>0.053946</td>\n",
       "      <td>-105.485015</td>\n",
       "      <td>2.404053e-11</td>\n",
       "      <td>1.000000</td>\n",
       "    </tr>\n",
       "    <tr>\n",
       "      <th>20</th>\n",
       "      <td>RandomForestRegressor</td>\n",
       "      <td>fingerprint</td>\n",
       "      <td>6</td>\n",
       "      <td>5.094717e-03</td>\n",
       "      <td>6.927536e-05</td>\n",
       "      <td>0.868948</td>\n",
       "      <td>0.014358</td>\n",
       "      <td>0.000347</td>\n",
       "      <td>0.314098</td>\n",
       "      <td>8.323182e-03</td>\n",
       "      <td>0.868948</td>\n",
       "    </tr>\n",
       "    <tr>\n",
       "      <th>21</th>\n",
       "      <td>GradientBoostingRegressor</td>\n",
       "      <td>fingerprint</td>\n",
       "      <td>7</td>\n",
       "      <td>2.330055e-03</td>\n",
       "      <td>1.216429e-05</td>\n",
       "      <td>0.976605</td>\n",
       "      <td>0.018708</td>\n",
       "      <td>0.000667</td>\n",
       "      <td>-0.042803</td>\n",
       "      <td>3.487735e-03</td>\n",
       "      <td>0.976605</td>\n",
       "    </tr>\n",
       "    <tr>\n",
       "      <th>22</th>\n",
       "      <td>GaussianProcessRegressor</td>\n",
       "      <td>fingerprint</td>\n",
       "      <td>7</td>\n",
       "      <td>2.387189e-11</td>\n",
       "      <td>5.750667e-22</td>\n",
       "      <td>1.000000</td>\n",
       "      <td>0.236430</td>\n",
       "      <td>0.056539</td>\n",
       "      <td>-87.419165</td>\n",
       "      <td>2.398055e-11</td>\n",
       "      <td>1.000000</td>\n",
       "    </tr>\n",
       "    <tr>\n",
       "      <th>23</th>\n",
       "      <td>RandomForestRegressor</td>\n",
       "      <td>fingerprint</td>\n",
       "      <td>7</td>\n",
       "      <td>4.791028e-03</td>\n",
       "      <td>5.817072e-05</td>\n",
       "      <td>0.888121</td>\n",
       "      <td>0.015624</td>\n",
       "      <td>0.000466</td>\n",
       "      <td>0.271353</td>\n",
       "      <td>7.626973e-03</td>\n",
       "      <td>0.888121</td>\n",
       "    </tr>\n",
       "    <tr>\n",
       "      <th>24</th>\n",
       "      <td>GradientBoostingRegressor</td>\n",
       "      <td>fingerprint</td>\n",
       "      <td>8</td>\n",
       "      <td>2.522634e-03</td>\n",
       "      <td>1.592559e-05</td>\n",
       "      <td>0.971245</td>\n",
       "      <td>0.010565</td>\n",
       "      <td>0.000549</td>\n",
       "      <td>-0.623529</td>\n",
       "      <td>3.990688e-03</td>\n",
       "      <td>0.971245</td>\n",
       "    </tr>\n",
       "    <tr>\n",
       "      <th>25</th>\n",
       "      <td>GaussianProcessRegressor</td>\n",
       "      <td>fingerprint</td>\n",
       "      <td>8</td>\n",
       "      <td>2.386072e-11</td>\n",
       "      <td>5.748726e-22</td>\n",
       "      <td>1.000000</td>\n",
       "      <td>0.237435</td>\n",
       "      <td>0.056713</td>\n",
       "      <td>-166.864980</td>\n",
       "      <td>2.397650e-11</td>\n",
       "      <td>1.000000</td>\n",
       "    </tr>\n",
       "    <tr>\n",
       "      <th>26</th>\n",
       "      <td>RandomForestRegressor</td>\n",
       "      <td>fingerprint</td>\n",
       "      <td>8</td>\n",
       "      <td>5.026733e-03</td>\n",
       "      <td>5.759820e-05</td>\n",
       "      <td>0.896002</td>\n",
       "      <td>0.011397</td>\n",
       "      <td>0.000441</td>\n",
       "      <td>-0.306735</td>\n",
       "      <td>7.589348e-03</td>\n",
       "      <td>0.896002</td>\n",
       "    </tr>\n",
       "    <tr>\n",
       "      <th>27</th>\n",
       "      <td>GradientBoostingRegressor</td>\n",
       "      <td>fingerprint</td>\n",
       "      <td>9</td>\n",
       "      <td>2.196383e-03</td>\n",
       "      <td>1.221417e-05</td>\n",
       "      <td>0.976946</td>\n",
       "      <td>0.015005</td>\n",
       "      <td>0.000410</td>\n",
       "      <td>0.233809</td>\n",
       "      <td>3.494877e-03</td>\n",
       "      <td>0.976946</td>\n",
       "    </tr>\n",
       "    <tr>\n",
       "      <th>28</th>\n",
       "      <td>GaussianProcessRegressor</td>\n",
       "      <td>fingerprint</td>\n",
       "      <td>9</td>\n",
       "      <td>2.389689e-11</td>\n",
       "      <td>5.763597e-22</td>\n",
       "      <td>1.000000</td>\n",
       "      <td>0.234180</td>\n",
       "      <td>0.055375</td>\n",
       "      <td>-102.571019</td>\n",
       "      <td>2.400749e-11</td>\n",
       "      <td>1.000000</td>\n",
       "    </tr>\n",
       "    <tr>\n",
       "      <th>29</th>\n",
       "      <td>RandomForestRegressor</td>\n",
       "      <td>fingerprint</td>\n",
       "      <td>9</td>\n",
       "      <td>4.964839e-03</td>\n",
       "      <td>6.200290e-05</td>\n",
       "      <td>0.882973</td>\n",
       "      <td>0.014805</td>\n",
       "      <td>0.000412</td>\n",
       "      <td>0.229684</td>\n",
       "      <td>7.874192e-03</td>\n",
       "      <td>0.882973</td>\n",
       "    </tr>\n",
       "  </tbody>\n",
       "</table>\n",
       "</div>"
      ],
      "text/plain": [
       "                        model      feature split_index  training_mae  \\\n",
       "0   GradientBoostingRegressor  fingerprint           0  2.467345e-03   \n",
       "1    GaussianProcessRegressor  fingerprint           0  2.392734e-11   \n",
       "2       RandomForestRegressor  fingerprint           0  4.939750e-03   \n",
       "3   GradientBoostingRegressor  fingerprint           1  2.487674e-03   \n",
       "4    GaussianProcessRegressor  fingerprint           1  2.386245e-11   \n",
       "5       RandomForestRegressor  fingerprint           1  5.413856e-03   \n",
       "6   GradientBoostingRegressor  fingerprint           2  2.506807e-03   \n",
       "7    GaussianProcessRegressor  fingerprint           2  2.381345e-11   \n",
       "8       RandomForestRegressor  fingerprint           2  5.158456e-03   \n",
       "9   GradientBoostingRegressor  fingerprint           3  2.327684e-03   \n",
       "10   GaussianProcessRegressor  fingerprint           3  2.384350e-11   \n",
       "11      RandomForestRegressor  fingerprint           3  4.857367e-03   \n",
       "12  GradientBoostingRegressor  fingerprint           4  2.607947e-03   \n",
       "13   GaussianProcessRegressor  fingerprint           4  2.385417e-11   \n",
       "14      RandomForestRegressor  fingerprint           4  5.397511e-03   \n",
       "15  GradientBoostingRegressor  fingerprint           5  2.335689e-03   \n",
       "16   GaussianProcessRegressor  fingerprint           5  2.392317e-11   \n",
       "17      RandomForestRegressor  fingerprint           5  5.262900e-03   \n",
       "18  GradientBoostingRegressor  fingerprint           6  2.385251e-03   \n",
       "19   GaussianProcessRegressor  fingerprint           6  2.393034e-11   \n",
       "20      RandomForestRegressor  fingerprint           6  5.094717e-03   \n",
       "21  GradientBoostingRegressor  fingerprint           7  2.330055e-03   \n",
       "22   GaussianProcessRegressor  fingerprint           7  2.387189e-11   \n",
       "23      RandomForestRegressor  fingerprint           7  4.791028e-03   \n",
       "24  GradientBoostingRegressor  fingerprint           8  2.522634e-03   \n",
       "25   GaussianProcessRegressor  fingerprint           8  2.386072e-11   \n",
       "26      RandomForestRegressor  fingerprint           8  5.026733e-03   \n",
       "27  GradientBoostingRegressor  fingerprint           9  2.196383e-03   \n",
       "28   GaussianProcessRegressor  fingerprint           9  2.389689e-11   \n",
       "29      RandomForestRegressor  fingerprint           9  4.964839e-03   \n",
       "\n",
       "    training_mse  training_r2_score  test_mae  test_mse  test_r2_score  \\\n",
       "0   1.303795e-05           0.976216  0.016907  0.000586      -0.750273   \n",
       "1   5.779991e-22           1.000000  0.231440  0.053899    -159.948668   \n",
       "2   6.227880e-05           0.886388  0.013398  0.000296       0.116752   \n",
       "3   1.435419e-05           0.974171  0.013619  0.000242       0.243816   \n",
       "4   5.749737e-22           1.000000  0.237280  0.056622    -175.723685   \n",
       "5   6.552966e-05           0.882085  0.012373  0.000246       0.232472   \n",
       "6   1.593605e-05           0.970040  0.014278  0.000497       0.054278   \n",
       "7   5.723994e-22           1.000000  0.241690  0.058939    -111.261488   \n",
       "8   6.004177e-05           0.887122  0.014626  0.000477       0.092314   \n",
       "9   1.334408e-05           0.971837  0.014672  0.000622       0.412464   \n",
       "10  5.732508e-22           1.000000  0.238985  0.058173     -53.934027   \n",
       "11  5.374393e-05           0.886574  0.015698  0.000715       0.325244   \n",
       "12  1.724151e-05           0.969863  0.007490  0.000106       0.393606   \n",
       "13  5.747425e-22           1.000000  0.238025  0.056830    -324.858323   \n",
       "14  6.790658e-05           0.881305  0.006500  0.000076       0.562638   \n",
       "15  1.428474e-05           0.974692  0.010207  0.000191       0.019136   \n",
       "16  5.779623e-22           1.000000  0.231815  0.053932    -276.638412   \n",
       "17  7.151542e-05           0.873297  0.010308  0.000152       0.216978   \n",
       "18  1.377971e-05           0.973932  0.013457  0.000362       0.284467   \n",
       "19  5.779471e-22           1.000000  0.231170  0.053946    -105.485015   \n",
       "20  6.927536e-05           0.868948  0.014358  0.000347       0.314098   \n",
       "21  1.216429e-05           0.976605  0.018708  0.000667      -0.042803   \n",
       "22  5.750667e-22           1.000000  0.236430  0.056539     -87.419165   \n",
       "23  5.817072e-05           0.888121  0.015624  0.000466       0.271353   \n",
       "24  1.592559e-05           0.971245  0.010565  0.000549      -0.623529   \n",
       "25  5.748726e-22           1.000000  0.237435  0.056713    -166.864980   \n",
       "26  5.759820e-05           0.896002  0.011397  0.000441      -0.306735   \n",
       "27  1.221417e-05           0.976946  0.015005  0.000410       0.233809   \n",
       "28  5.763597e-22           1.000000  0.234180  0.055375    -102.571019   \n",
       "29  6.200290e-05           0.882973  0.014805  0.000412       0.229684   \n",
       "\n",
       "    training_rmse  training_score  \n",
       "0    3.610810e-03        0.976216  \n",
       "1    2.404161e-11        1.000000  \n",
       "2    7.891692e-03        0.886388  \n",
       "3    3.788693e-03        0.974171  \n",
       "4    2.397861e-11        1.000000  \n",
       "5    8.095039e-03        0.882085  \n",
       "6    3.991998e-03        0.970040  \n",
       "7    2.392487e-11        1.000000  \n",
       "8    7.748663e-03        0.887122  \n",
       "9    3.652955e-03        0.971837  \n",
       "10   2.394266e-11        1.000000  \n",
       "11   7.331025e-03        0.886574  \n",
       "12   4.152290e-03        0.969863  \n",
       "13   2.397379e-11        1.000000  \n",
       "14   8.240545e-03        0.881305  \n",
       "15   3.779516e-03        0.974692  \n",
       "16   2.404085e-11        1.000000  \n",
       "17   8.456679e-03        0.873297  \n",
       "18   3.712103e-03        0.973932  \n",
       "19   2.404053e-11        1.000000  \n",
       "20   8.323182e-03        0.868948  \n",
       "21   3.487735e-03        0.976605  \n",
       "22   2.398055e-11        1.000000  \n",
       "23   7.626973e-03        0.888121  \n",
       "24   3.990688e-03        0.971245  \n",
       "25   2.397650e-11        1.000000  \n",
       "26   7.589348e-03        0.896002  \n",
       "27   3.494877e-03        0.976946  \n",
       "28   2.400749e-11        1.000000  \n",
       "29   7.874192e-03        0.882973  "
      ]
     },
     "execution_count": 5,
     "metadata": {},
     "output_type": "execute_result"
    }
   ],
   "source": [
    "s = pipeline.get_statistics()\n",
    "s"
   ]
  },
  {
   "cell_type": "code",
   "execution_count": 15,
   "metadata": {},
   "outputs": [
    {
     "data": {
      "image/png": "[encoded data removed]",
      "text/plain": [
       "<Figure size 432x288 with 1 Axes>"
      ]
     },
     "metadata": {
      "needs_background": "light"
     },
     "output_type": "display_data"
    }
   ],
   "source": [
    "pipeline.plot_models_performance('fingerprint')"
   ]
  }
 ],
 "metadata": {
  "kernelspec": {
   "display_name": "automol",
   "language": "python",
   "name": "automol"
  },
  "language_info": {
   "codemirror_mode": {
    "name": "ipython",
    "version": 3
   },
   "file_extension": ".py",
   "mimetype": "text/x-python",
   "name": "python",
   "nbconvert_exporter": "python",
   "pygments_lexer": "ipython3",
   "version": "3.8.5"
  }
 },
 "nbformat": 4,
 "nbformat_minor": 4
}
