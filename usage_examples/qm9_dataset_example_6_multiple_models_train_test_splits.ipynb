{
 "cells": [
  {
   "cell_type": "markdown",
   "metadata": {},
   "source": [
    "This is an example of using AutoMol:\n",
    "- Training dataset: QM9\n",
    "- Training features: fingerprints\n",
    "- Feature to learn: HOMO energy\n",
    "- Model: RandomForest, GradientBoosting, GaussianProcess\n",
    "- Problem: regression\n",
    "- Dataset location: local\n",
    "- Train_test_splits: 10\n",
    "- No CV\n",
    "- No custom features"
   ]
  },
  {
   "cell_type": "code",
   "execution_count": 1,
   "metadata": {},
   "outputs": [],
   "source": [
    "if'automol'in globals(): import importlib; importlib.reload(automol)"
   ]
  },
  {
   "cell_type": "code",
   "execution_count": 2,
   "metadata": {},
   "outputs": [],
   "source": [
    "from automol.pipeline import Pipeline"
   ]
  },
  {
   "cell_type": "code",
   "execution_count": 3,
   "metadata": {
    "scrolled": false
   },
   "outputs": [
    {
     "name": "stderr",
     "output_type": "stream",
     "text": [
      "/home/erik/miniconda2/envs/automol/lib/python3.8/site-packages/ipykernel/ipkernel.py:283: DeprecationWarning: `should_run_async` will not call `transform_cell` automatically in the future. Please pass the result to `transformed_cell` argument and any exception that happen during thetransform in `preprocessing_exc_tuple` in IPython 7.17 and above.\n",
      "  and should_run_async(code)\n"
     ]
    },
    {
     "name": "stdout",
     "output_type": "stream",
     "text": [
      "amount: 200\n",
      "dataset_class: QM9\n",
      "dataset_location: ../data/dsgdb9nsd\n",
      "dataset_split_test_size: 0.1\n",
      "features:\n",
      "- fingerprint\n",
      "label: homo\n",
      "mlflow_experiment: qm9_dataset_automol_demo\n",
      "models_filter:\n",
      "- git_uri: sklearn\n",
      "  model_names:\n",
      "  - RandomForestRegressor\n",
      "  - GradientBoostingRegressor\n",
      "  - GaussianProcessRegressor\n",
      "  whitelist: 1\n",
      "problem: regression\n",
      "train_test_splits: 10\n",
      "\n"
     ]
    }
   ],
   "source": [
    "config_yaml = 'qm9_dataset_example_6_multiple_models_train_test_splits.yaml'\n",
    "pipeline = Pipeline(config_yaml)\n",
    "pipeline.print_spec()"
   ]
  },
  {
   "cell_type": "code",
   "execution_count": 4,
   "metadata": {
    "scrolled": false
   },
   "outputs": [
    {
     "name": "stdout",
     "output_type": "stream",
     "text": [
      "Got the feature homo from the current dataset.\n",
      "Checking if the feature fingerprint can be generated.\n",
      "Got the generated feature fingerprint.\n",
      "Running model GaussianProcessRegressor with feature fingerprint.\n"
     ]
    },
    {
     "name": "stderr",
     "output_type": "stream",
     "text": [
      "2021/03/17 22:59:25 WARNING mlflow.models.model: Logging model metadata to the tracking server has failed, possibly due older server version. The model artifacts have been logged successfully under sftp://lsdf/kit/iti/projects/aimat-mlflow/artifacts/24/e8742dac59364a1b896a30c69efe537f/artifacts. In addition to exporting model artifacts, MLflow clients 1.7.0 and above attempt to record model metadata to the  tracking store. If logging to a mlflow server via REST, consider  upgrading the server version to MLflow 1.7.0 or above.\n"
     ]
    },
    {
     "name": "stdout",
     "output_type": "stream",
     "text": [
      "Running model GradientBoostingRegressor with feature fingerprint.\n"
     ]
    },
    {
     "name": "stderr",
     "output_type": "stream",
     "text": [
      "2021/03/17 22:59:35 WARNING mlflow.models.model: Logging model metadata to the tracking server has failed, possibly due older server version. The model artifacts have been logged successfully under sftp://lsdf/kit/iti/projects/aimat-mlflow/artifacts/24/814b1bfcba35407ebe80dc92827afc02/artifacts. In addition to exporting model artifacts, MLflow clients 1.7.0 and above attempt to record model metadata to the  tracking store. If logging to a mlflow server via REST, consider  upgrading the server version to MLflow 1.7.0 or above.\n"
     ]
    },
    {
     "name": "stdout",
     "output_type": "stream",
     "text": [
      "Running model RandomForestRegressor with feature fingerprint.\n"
     ]
    },
    {
     "name": "stderr",
     "output_type": "stream",
     "text": [
      "2021/03/17 22:59:44 WARNING mlflow.models.model: Logging model metadata to the tracking server has failed, possibly due older server version. The model artifacts have been logged successfully under sftp://lsdf/kit/iti/projects/aimat-mlflow/artifacts/24/2adf7a951c4f43d8b62a8c2907b86bd0/artifacts. In addition to exporting model artifacts, MLflow clients 1.7.0 and above attempt to record model metadata to the  tracking store. If logging to a mlflow server via REST, consider  upgrading the server version to MLflow 1.7.0 or above.\n"
     ]
    },
    {
     "name": "stdout",
     "output_type": "stream",
     "text": [
      "Running model GaussianProcessRegressor with feature fingerprint.\n"
     ]
    },
    {
     "name": "stderr",
     "output_type": "stream",
     "text": [
      "2021/03/17 22:59:53 WARNING mlflow.models.model: Logging model metadata to the tracking server has failed, possibly due older server version. The model artifacts have been logged successfully under sftp://lsdf/kit/iti/projects/aimat-mlflow/artifacts/24/28de98300c414b08b6bb405908dfb197/artifacts. In addition to exporting model artifacts, MLflow clients 1.7.0 and above attempt to record model metadata to the  tracking store. If logging to a mlflow server via REST, consider  upgrading the server version to MLflow 1.7.0 or above.\n"
     ]
    },
    {
     "name": "stdout",
     "output_type": "stream",
     "text": [
      "Running model GradientBoostingRegressor with feature fingerprint.\n"
     ]
    },
    {
     "name": "stderr",
     "output_type": "stream",
     "text": [
      "2021/03/17 23:00:03 WARNING mlflow.models.model: Logging model metadata to the tracking server has failed, possibly due older server version. The model artifacts have been logged successfully under sftp://lsdf/kit/iti/projects/aimat-mlflow/artifacts/24/7a6b1857c86345c28ce2f101304f6efc/artifacts. In addition to exporting model artifacts, MLflow clients 1.7.0 and above attempt to record model metadata to the  tracking store. If logging to a mlflow server via REST, consider  upgrading the server version to MLflow 1.7.0 or above.\n"
     ]
    },
    {
     "name": "stdout",
     "output_type": "stream",
     "text": [
      "Running model RandomForestRegressor with feature fingerprint.\n"
     ]
    },
    {
     "name": "stderr",
     "output_type": "stream",
     "text": [
      "2021/03/17 23:00:12 WARNING mlflow.models.model: Logging model metadata to the tracking server has failed, possibly due older server version. The model artifacts have been logged successfully under sftp://lsdf/kit/iti/projects/aimat-mlflow/artifacts/24/6938cf4747784ae08d8e61b6d7e9543d/artifacts. In addition to exporting model artifacts, MLflow clients 1.7.0 and above attempt to record model metadata to the  tracking store. If logging to a mlflow server via REST, consider  upgrading the server version to MLflow 1.7.0 or above.\n"
     ]
    },
    {
     "name": "stdout",
     "output_type": "stream",
     "text": [
      "Running model GaussianProcessRegressor with feature fingerprint.\n"
     ]
    },
    {
     "name": "stderr",
     "output_type": "stream",
     "text": [
      "2021/03/17 23:00:22 WARNING mlflow.models.model: Logging model metadata to the tracking server has failed, possibly due older server version. The model artifacts have been logged successfully under sftp://lsdf/kit/iti/projects/aimat-mlflow/artifacts/24/d5be10499d1f4d9a8e342799cb56da45/artifacts. In addition to exporting model artifacts, MLflow clients 1.7.0 and above attempt to record model metadata to the  tracking store. If logging to a mlflow server via REST, consider  upgrading the server version to MLflow 1.7.0 or above.\n"
     ]
    },
    {
     "name": "stdout",
     "output_type": "stream",
     "text": [
      "Running model GradientBoostingRegressor with feature fingerprint.\n"
     ]
    },
    {
     "name": "stderr",
     "output_type": "stream",
     "text": [
      "2021/03/17 23:00:31 WARNING mlflow.models.model: Logging model metadata to the tracking server has failed, possibly due older server version. The model artifacts have been logged successfully under sftp://lsdf/kit/iti/projects/aimat-mlflow/artifacts/24/a7c087ca0af64723b7883b89ef2c6d93/artifacts. In addition to exporting model artifacts, MLflow clients 1.7.0 and above attempt to record model metadata to the  tracking store. If logging to a mlflow server via REST, consider  upgrading the server version to MLflow 1.7.0 or above.\n"
     ]
    },
    {
     "name": "stdout",
     "output_type": "stream",
     "text": [
      "Running model RandomForestRegressor with feature fingerprint.\n"
     ]
    },
    {
     "name": "stderr",
     "output_type": "stream",
     "text": [
      "2021/03/17 23:00:41 WARNING mlflow.models.model: Logging model metadata to the tracking server has failed, possibly due older server version. The model artifacts have been logged successfully under sftp://lsdf/kit/iti/projects/aimat-mlflow/artifacts/24/ac24327126af415abc1c0c9870b0b577/artifacts. In addition to exporting model artifacts, MLflow clients 1.7.0 and above attempt to record model metadata to the  tracking store. If logging to a mlflow server via REST, consider  upgrading the server version to MLflow 1.7.0 or above.\n"
     ]
    },
    {
     "name": "stdout",
     "output_type": "stream",
     "text": [
      "Running model GaussianProcessRegressor with feature fingerprint.\n"
     ]
    },
    {
     "name": "stderr",
     "output_type": "stream",
     "text": [
      "2021/03/17 23:00:50 WARNING mlflow.models.model: Logging model metadata to the tracking server has failed, possibly due older server version. The model artifacts have been logged successfully under sftp://lsdf/kit/iti/projects/aimat-mlflow/artifacts/24/25e71747e10743938398ecce0fe165e8/artifacts. In addition to exporting model artifacts, MLflow clients 1.7.0 and above attempt to record model metadata to the  tracking store. If logging to a mlflow server via REST, consider  upgrading the server version to MLflow 1.7.0 or above.\n"
     ]
    },
    {
     "name": "stdout",
     "output_type": "stream",
     "text": [
      "Running model GradientBoostingRegressor with feature fingerprint.\n"
     ]
    },
    {
     "name": "stderr",
     "output_type": "stream",
     "text": [
      "2021/03/17 23:00:59 WARNING mlflow.models.model: Logging model metadata to the tracking server has failed, possibly due older server version. The model artifacts have been logged successfully under sftp://lsdf/kit/iti/projects/aimat-mlflow/artifacts/24/b5edda966a5b45af83883cfa4d68a71d/artifacts. In addition to exporting model artifacts, MLflow clients 1.7.0 and above attempt to record model metadata to the  tracking store. If logging to a mlflow server via REST, consider  upgrading the server version to MLflow 1.7.0 or above.\n"
     ]
    },
    {
     "name": "stdout",
     "output_type": "stream",
     "text": [
      "Running model RandomForestRegressor with feature fingerprint.\n"
     ]
    },
    {
     "name": "stderr",
     "output_type": "stream",
     "text": [
      "2021/03/17 23:01:14 WARNING mlflow.models.model: Logging model metadata to the tracking server has failed, possibly due older server version. The model artifacts have been logged successfully under sftp://lsdf/kit/iti/projects/aimat-mlflow/artifacts/24/c14b3e44b4d4460798bebbdcc07c1016/artifacts. In addition to exporting model artifacts, MLflow clients 1.7.0 and above attempt to record model metadata to the  tracking store. If logging to a mlflow server via REST, consider  upgrading the server version to MLflow 1.7.0 or above.\n"
     ]
    },
    {
     "name": "stdout",
     "output_type": "stream",
     "text": [
      "Running model GaussianProcessRegressor with feature fingerprint.\n"
     ]
    },
    {
     "name": "stderr",
     "output_type": "stream",
     "text": [
      "2021/03/17 23:01:33 WARNING mlflow.models.model: Logging model metadata to the tracking server has failed, possibly due older server version. The model artifacts have been logged successfully under sftp://lsdf/kit/iti/projects/aimat-mlflow/artifacts/24/53e73a4441434733b73927534a590b02/artifacts. In addition to exporting model artifacts, MLflow clients 1.7.0 and above attempt to record model metadata to the  tracking store. If logging to a mlflow server via REST, consider  upgrading the server version to MLflow 1.7.0 or above.\n"
     ]
    },
    {
     "name": "stdout",
     "output_type": "stream",
     "text": [
      "Running model GradientBoostingRegressor with feature fingerprint.\n"
     ]
    },
    {
     "name": "stderr",
     "output_type": "stream",
     "text": [
      "2021/03/17 23:01:43 WARNING mlflow.models.model: Logging model metadata to the tracking server has failed, possibly due older server version. The model artifacts have been logged successfully under sftp://lsdf/kit/iti/projects/aimat-mlflow/artifacts/24/33a638ed3fc84bf0ba70914d54ea1bac/artifacts. In addition to exporting model artifacts, MLflow clients 1.7.0 and above attempt to record model metadata to the  tracking store. If logging to a mlflow server via REST, consider  upgrading the server version to MLflow 1.7.0 or above.\n"
     ]
    },
    {
     "name": "stdout",
     "output_type": "stream",
     "text": [
      "Running model RandomForestRegressor with feature fingerprint.\n"
     ]
    },
    {
     "name": "stderr",
     "output_type": "stream",
     "text": [
      "2021/03/17 23:01:52 WARNING mlflow.models.model: Logging model metadata to the tracking server has failed, possibly due older server version. The model artifacts have been logged successfully under sftp://lsdf/kit/iti/projects/aimat-mlflow/artifacts/24/d03991e1dc444ccfad612d48517da848/artifacts. In addition to exporting model artifacts, MLflow clients 1.7.0 and above attempt to record model metadata to the  tracking store. If logging to a mlflow server via REST, consider  upgrading the server version to MLflow 1.7.0 or above.\n"
     ]
    },
    {
     "name": "stdout",
     "output_type": "stream",
     "text": [
      "Running model GaussianProcessRegressor with feature fingerprint.\n"
     ]
    },
    {
     "name": "stderr",
     "output_type": "stream",
     "text": [
      "2021/03/17 23:02:01 WARNING mlflow.models.model: Logging model metadata to the tracking server has failed, possibly due older server version. The model artifacts have been logged successfully under sftp://lsdf/kit/iti/projects/aimat-mlflow/artifacts/24/79be83cce2d34da2b1305534e3fc4946/artifacts. In addition to exporting model artifacts, MLflow clients 1.7.0 and above attempt to record model metadata to the  tracking store. If logging to a mlflow server via REST, consider  upgrading the server version to MLflow 1.7.0 or above.\n"
     ]
    },
    {
     "name": "stdout",
     "output_type": "stream",
     "text": [
      "Running model GradientBoostingRegressor with feature fingerprint.\n"
     ]
    },
    {
     "name": "stderr",
     "output_type": "stream",
     "text": [
      "2021/03/17 23:02:11 WARNING mlflow.models.model: Logging model metadata to the tracking server has failed, possibly due older server version. The model artifacts have been logged successfully under sftp://lsdf/kit/iti/projects/aimat-mlflow/artifacts/24/abdf515cd3274b059bb9117f1274cee0/artifacts. In addition to exporting model artifacts, MLflow clients 1.7.0 and above attempt to record model metadata to the  tracking store. If logging to a mlflow server via REST, consider  upgrading the server version to MLflow 1.7.0 or above.\n"
     ]
    },
    {
     "name": "stdout",
     "output_type": "stream",
     "text": [
      "Running model RandomForestRegressor with feature fingerprint.\n"
     ]
    },
    {
     "name": "stderr",
     "output_type": "stream",
     "text": [
      "2021/03/17 23:02:21 WARNING mlflow.models.model: Logging model metadata to the tracking server has failed, possibly due older server version. The model artifacts have been logged successfully under sftp://lsdf/kit/iti/projects/aimat-mlflow/artifacts/24/0680816b705d48e4b662d7c7da01ae23/artifacts. In addition to exporting model artifacts, MLflow clients 1.7.0 and above attempt to record model metadata to the  tracking store. If logging to a mlflow server via REST, consider  upgrading the server version to MLflow 1.7.0 or above.\n"
     ]
    },
    {
     "name": "stdout",
     "output_type": "stream",
     "text": [
      "Running model GaussianProcessRegressor with feature fingerprint.\n"
     ]
    },
    {
     "name": "stderr",
     "output_type": "stream",
     "text": [
      "2021/03/17 23:02:30 WARNING mlflow.models.model: Logging model metadata to the tracking server has failed, possibly due older server version. The model artifacts have been logged successfully under sftp://lsdf/kit/iti/projects/aimat-mlflow/artifacts/24/75405c84e06248df96a1cc0c53f77b22/artifacts. In addition to exporting model artifacts, MLflow clients 1.7.0 and above attempt to record model metadata to the  tracking store. If logging to a mlflow server via REST, consider  upgrading the server version to MLflow 1.7.0 or above.\n"
     ]
    },
    {
     "name": "stdout",
     "output_type": "stream",
     "text": [
      "Running model GradientBoostingRegressor with feature fingerprint.\n"
     ]
    },
    {
     "name": "stderr",
     "output_type": "stream",
     "text": [
      "2021/03/17 23:02:39 WARNING mlflow.models.model: Logging model metadata to the tracking server has failed, possibly due older server version. The model artifacts have been logged successfully under sftp://lsdf/kit/iti/projects/aimat-mlflow/artifacts/24/4140fc43a58948d49fe857c5ef9d32a5/artifacts. In addition to exporting model artifacts, MLflow clients 1.7.0 and above attempt to record model metadata to the  tracking store. If logging to a mlflow server via REST, consider  upgrading the server version to MLflow 1.7.0 or above.\n"
     ]
    },
    {
     "name": "stdout",
     "output_type": "stream",
     "text": [
      "Running model RandomForestRegressor with feature fingerprint.\n"
     ]
    },
    {
     "name": "stderr",
     "output_type": "stream",
     "text": [
      "2021/03/17 23:02:49 WARNING mlflow.models.model: Logging model metadata to the tracking server has failed, possibly due older server version. The model artifacts have been logged successfully under sftp://lsdf/kit/iti/projects/aimat-mlflow/artifacts/24/849ab41e934e41028c344980eb21eea1/artifacts. In addition to exporting model artifacts, MLflow clients 1.7.0 and above attempt to record model metadata to the  tracking store. If logging to a mlflow server via REST, consider  upgrading the server version to MLflow 1.7.0 or above.\n"
     ]
    },
    {
     "name": "stdout",
     "output_type": "stream",
     "text": [
      "Running model GaussianProcessRegressor with feature fingerprint.\n"
     ]
    },
    {
     "name": "stderr",
     "output_type": "stream",
     "text": [
      "2021/03/17 23:02:58 WARNING mlflow.models.model: Logging model metadata to the tracking server has failed, possibly due older server version. The model artifacts have been logged successfully under sftp://lsdf/kit/iti/projects/aimat-mlflow/artifacts/24/10c25deac98649b1b1932176ae362cfc/artifacts. In addition to exporting model artifacts, MLflow clients 1.7.0 and above attempt to record model metadata to the  tracking store. If logging to a mlflow server via REST, consider  upgrading the server version to MLflow 1.7.0 or above.\n"
     ]
    },
    {
     "name": "stdout",
     "output_type": "stream",
     "text": [
      "Running model GradientBoostingRegressor with feature fingerprint.\n"
     ]
    },
    {
     "name": "stderr",
     "output_type": "stream",
     "text": [
      "2021/03/17 23:03:07 WARNING mlflow.models.model: Logging model metadata to the tracking server has failed, possibly due older server version. The model artifacts have been logged successfully under sftp://lsdf/kit/iti/projects/aimat-mlflow/artifacts/24/ad8b57fb5ccc48758e1c7df3aef7fbea/artifacts. In addition to exporting model artifacts, MLflow clients 1.7.0 and above attempt to record model metadata to the  tracking store. If logging to a mlflow server via REST, consider  upgrading the server version to MLflow 1.7.0 or above.\n"
     ]
    },
    {
     "name": "stdout",
     "output_type": "stream",
     "text": [
      "Running model RandomForestRegressor with feature fingerprint.\n"
     ]
    },
    {
     "name": "stderr",
     "output_type": "stream",
     "text": [
      "2021/03/17 23:03:17 WARNING mlflow.models.model: Logging model metadata to the tracking server has failed, possibly due older server version. The model artifacts have been logged successfully under sftp://lsdf/kit/iti/projects/aimat-mlflow/artifacts/24/2cdeb30db4e0413f9d877cd669f75b50/artifacts. In addition to exporting model artifacts, MLflow clients 1.7.0 and above attempt to record model metadata to the  tracking store. If logging to a mlflow server via REST, consider  upgrading the server version to MLflow 1.7.0 or above.\n"
     ]
    },
    {
     "name": "stdout",
     "output_type": "stream",
     "text": [
      "Running model GaussianProcessRegressor with feature fingerprint.\n"
     ]
    },
    {
     "name": "stderr",
     "output_type": "stream",
     "text": [
      "2021/03/17 23:03:26 WARNING mlflow.models.model: Logging model metadata to the tracking server has failed, possibly due older server version. The model artifacts have been logged successfully under sftp://lsdf/kit/iti/projects/aimat-mlflow/artifacts/24/845a75896ff2409a94b93cb1534ff066/artifacts. In addition to exporting model artifacts, MLflow clients 1.7.0 and above attempt to record model metadata to the  tracking store. If logging to a mlflow server via REST, consider  upgrading the server version to MLflow 1.7.0 or above.\n"
     ]
    },
    {
     "name": "stdout",
     "output_type": "stream",
     "text": [
      "Running model GradientBoostingRegressor with feature fingerprint.\n"
     ]
    },
    {
     "name": "stderr",
     "output_type": "stream",
     "text": [
      "2021/03/17 23:03:35 WARNING mlflow.models.model: Logging model metadata to the tracking server has failed, possibly due older server version. The model artifacts have been logged successfully under sftp://lsdf/kit/iti/projects/aimat-mlflow/artifacts/24/772db77d3dc041a88dd6bd4dc315a78f/artifacts. In addition to exporting model artifacts, MLflow clients 1.7.0 and above attempt to record model metadata to the  tracking store. If logging to a mlflow server via REST, consider  upgrading the server version to MLflow 1.7.0 or above.\n"
     ]
    },
    {
     "name": "stdout",
     "output_type": "stream",
     "text": [
      "Running model RandomForestRegressor with feature fingerprint.\n"
     ]
    },
    {
     "name": "stderr",
     "output_type": "stream",
     "text": [
      "2021/03/17 23:03:45 WARNING mlflow.models.model: Logging model metadata to the tracking server has failed, possibly due older server version. The model artifacts have been logged successfully under sftp://lsdf/kit/iti/projects/aimat-mlflow/artifacts/24/1f70df1a18f14a1ba21d9dd747685464/artifacts. In addition to exporting model artifacts, MLflow clients 1.7.0 and above attempt to record model metadata to the  tracking store. If logging to a mlflow server via REST, consider  upgrading the server version to MLflow 1.7.0 or above.\n"
     ]
    },
    {
     "name": "stdout",
     "output_type": "stream",
     "text": [
      "Running model GaussianProcessRegressor with feature fingerprint.\n"
     ]
    },
    {
     "name": "stderr",
     "output_type": "stream",
     "text": [
      "2021/03/17 23:03:55 WARNING mlflow.models.model: Logging model metadata to the tracking server has failed, possibly due older server version. The model artifacts have been logged successfully under sftp://lsdf/kit/iti/projects/aimat-mlflow/artifacts/24/ee2cbbffb4ce4073b63f3e3b71efef15/artifacts. In addition to exporting model artifacts, MLflow clients 1.7.0 and above attempt to record model metadata to the  tracking store. If logging to a mlflow server via REST, consider  upgrading the server version to MLflow 1.7.0 or above.\n"
     ]
    },
    {
     "name": "stdout",
     "output_type": "stream",
     "text": [
      "Running model GradientBoostingRegressor with feature fingerprint.\n"
     ]
    },
    {
     "name": "stderr",
     "output_type": "stream",
     "text": [
      "2021/03/17 23:04:04 WARNING mlflow.models.model: Logging model metadata to the tracking server has failed, possibly due older server version. The model artifacts have been logged successfully under sftp://lsdf/kit/iti/projects/aimat-mlflow/artifacts/24/598a9f67b48a4c44b8235f723dd67141/artifacts. In addition to exporting model artifacts, MLflow clients 1.7.0 and above attempt to record model metadata to the  tracking store. If logging to a mlflow server via REST, consider  upgrading the server version to MLflow 1.7.0 or above.\n"
     ]
    },
    {
     "name": "stdout",
     "output_type": "stream",
     "text": [
      "Running model RandomForestRegressor with feature fingerprint.\n"
     ]
    },
    {
     "name": "stderr",
     "output_type": "stream",
     "text": [
      "2021/03/17 23:04:13 WARNING mlflow.models.model: Logging model metadata to the tracking server has failed, possibly due older server version. The model artifacts have been logged successfully under sftp://lsdf/kit/iti/projects/aimat-mlflow/artifacts/24/6967dda921af443c923fa284c1494b48/artifacts. In addition to exporting model artifacts, MLflow clients 1.7.0 and above attempt to record model metadata to the  tracking store. If logging to a mlflow server via REST, consider  upgrading the server version to MLflow 1.7.0 or above.\n"
     ]
    }
   ],
   "source": [
    "pipeline.train()"
   ]
  },
  {
   "cell_type": "code",
   "execution_count": 5,
   "metadata": {
    "scrolled": false
   },
   "outputs": [
    {
     "name": "stderr",
     "output_type": "stream",
     "text": [
      "/home/erik/miniconda2/envs/automol/lib/python3.8/site-packages/ipykernel/ipkernel.py:283: DeprecationWarning: `should_run_async` will not call `transform_cell` automatically in the future. Please pass the result to `transformed_cell` argument and any exception that happen during thetransform in `preprocessing_exc_tuple` in IPython 7.17 and above.\n",
      "  and should_run_async(code)\n"
     ]
    },
    {
     "data": {
      "text/html": [
       "<div>\n",
       "<style scoped>\n",
       "    .dataframe tbody tr th:only-of-type {\n",
       "        vertical-align: middle;\n",
       "    }\n",
       "\n",
       "    .dataframe tbody tr th {\n",
       "        vertical-align: top;\n",
       "    }\n",
       "\n",
       "    .dataframe thead th {\n",
       "        text-align: right;\n",
       "    }\n",
       "</style>\n",
       "<table border=\"1\" class=\"dataframe\">\n",
       "  <thead>\n",
       "    <tr style=\"text-align: right;\">\n",
       "      <th></th>\n",
       "      <th>model</th>\n",
       "      <th>feature</th>\n",
       "      <th>split_index</th>\n",
       "      <th>training_mae</th>\n",
       "      <th>training_mse</th>\n",
       "      <th>training_r2_score</th>\n",
       "      <th>test_mae</th>\n",
       "      <th>test_mse</th>\n",
       "      <th>test_r2_score</th>\n",
       "      <th>training_rmse</th>\n",
       "      <th>training_score</th>\n",
       "    </tr>\n",
       "  </thead>\n",
       "  <tbody>\n",
       "    <tr>\n",
       "      <th>0</th>\n",
       "      <td>GaussianProcessRegressor</td>\n",
       "      <td>fingerprint</td>\n",
       "      <td>0</td>\n",
       "      <td>2.380806e-11</td>\n",
       "      <td>5.716449e-22</td>\n",
       "      <td>1.000000</td>\n",
       "      <td>0.242175</td>\n",
       "      <td>0.059618</td>\n",
       "      <td>-60.504159</td>\n",
       "      <td>2.390910e-11</td>\n",
       "      <td>1.000000</td>\n",
       "    </tr>\n",
       "    <tr>\n",
       "      <th>1</th>\n",
       "      <td>GradientBoostingRegressor</td>\n",
       "      <td>fingerprint</td>\n",
       "      <td>0</td>\n",
       "      <td>2.250086e-03</td>\n",
       "      <td>1.166080e-05</td>\n",
       "      <td>0.975814</td>\n",
       "      <td>0.014718</td>\n",
       "      <td>0.000663</td>\n",
       "      <td>0.315642</td>\n",
       "      <td>3.414792e-03</td>\n",
       "      <td>0.975814</td>\n",
       "    </tr>\n",
       "    <tr>\n",
       "      <th>2</th>\n",
       "      <td>RandomForestRegressor</td>\n",
       "      <td>fingerprint</td>\n",
       "      <td>0</td>\n",
       "      <td>4.733017e-03</td>\n",
       "      <td>5.036763e-05</td>\n",
       "      <td>0.895532</td>\n",
       "      <td>0.014433</td>\n",
       "      <td>0.000627</td>\n",
       "      <td>0.353254</td>\n",
       "      <td>7.097015e-03</td>\n",
       "      <td>0.895532</td>\n",
       "    </tr>\n",
       "    <tr>\n",
       "      <th>3</th>\n",
       "      <td>GaussianProcessRegressor</td>\n",
       "      <td>fingerprint</td>\n",
       "      <td>1</td>\n",
       "      <td>2.384250e-11</td>\n",
       "      <td>5.740815e-22</td>\n",
       "      <td>1.000000</td>\n",
       "      <td>0.239075</td>\n",
       "      <td>0.057425</td>\n",
       "      <td>-213.076364</td>\n",
       "      <td>2.396000e-11</td>\n",
       "      <td>1.000000</td>\n",
       "    </tr>\n",
       "    <tr>\n",
       "      <th>4</th>\n",
       "      <td>GradientBoostingRegressor</td>\n",
       "      <td>fingerprint</td>\n",
       "      <td>1</td>\n",
       "      <td>2.314671e-03</td>\n",
       "      <td>1.393044e-05</td>\n",
       "      <td>0.975198</td>\n",
       "      <td>0.006965</td>\n",
       "      <td>0.000102</td>\n",
       "      <td>0.619148</td>\n",
       "      <td>3.732350e-03</td>\n",
       "      <td>0.975198</td>\n",
       "    </tr>\n",
       "    <tr>\n",
       "      <th>5</th>\n",
       "      <td>RandomForestRegressor</td>\n",
       "      <td>fingerprint</td>\n",
       "      <td>1</td>\n",
       "      <td>5.296594e-03</td>\n",
       "      <td>6.548465e-05</td>\n",
       "      <td>0.883411</td>\n",
       "      <td>0.007746</td>\n",
       "      <td>0.000102</td>\n",
       "      <td>0.618363</td>\n",
       "      <td>8.092259e-03</td>\n",
       "      <td>0.883411</td>\n",
       "    </tr>\n",
       "    <tr>\n",
       "      <th>6</th>\n",
       "      <td>GaussianProcessRegressor</td>\n",
       "      <td>fingerprint</td>\n",
       "      <td>2</td>\n",
       "      <td>2.377684e-11</td>\n",
       "      <td>5.699344e-22</td>\n",
       "      <td>1.000000</td>\n",
       "      <td>0.244985</td>\n",
       "      <td>0.061158</td>\n",
       "      <td>-52.645710</td>\n",
       "      <td>2.387330e-11</td>\n",
       "      <td>1.000000</td>\n",
       "    </tr>\n",
       "    <tr>\n",
       "      <th>7</th>\n",
       "      <td>GradientBoostingRegressor</td>\n",
       "      <td>fingerprint</td>\n",
       "      <td>2</td>\n",
       "      <td>2.003991e-03</td>\n",
       "      <td>6.882774e-06</td>\n",
       "      <td>0.985026</td>\n",
       "      <td>0.019472</td>\n",
       "      <td>0.000809</td>\n",
       "      <td>0.290227</td>\n",
       "      <td>2.623504e-03</td>\n",
       "      <td>0.985026</td>\n",
       "    </tr>\n",
       "    <tr>\n",
       "      <th>8</th>\n",
       "      <td>RandomForestRegressor</td>\n",
       "      <td>fingerprint</td>\n",
       "      <td>2</td>\n",
       "      <td>4.492800e-03</td>\n",
       "      <td>4.651125e-05</td>\n",
       "      <td>0.898809</td>\n",
       "      <td>0.019793</td>\n",
       "      <td>0.000847</td>\n",
       "      <td>0.257011</td>\n",
       "      <td>6.819916e-03</td>\n",
       "      <td>0.898809</td>\n",
       "    </tr>\n",
       "    <tr>\n",
       "      <th>9</th>\n",
       "      <td>GaussianProcessRegressor</td>\n",
       "      <td>fingerprint</td>\n",
       "      <td>3</td>\n",
       "      <td>2.396539e-11</td>\n",
       "      <td>5.795924e-22</td>\n",
       "      <td>1.000000</td>\n",
       "      <td>0.228015</td>\n",
       "      <td>0.052465</td>\n",
       "      <td>-109.548190</td>\n",
       "      <td>2.407472e-11</td>\n",
       "      <td>1.000000</td>\n",
       "    </tr>\n",
       "    <tr>\n",
       "      <th>10</th>\n",
       "      <td>GradientBoostingRegressor</td>\n",
       "      <td>fingerprint</td>\n",
       "      <td>3</td>\n",
       "      <td>2.310722e-03</td>\n",
       "      <td>1.213629e-05</td>\n",
       "      <td>0.976894</td>\n",
       "      <td>0.015665</td>\n",
       "      <td>0.000883</td>\n",
       "      <td>-0.860586</td>\n",
       "      <td>3.483717e-03</td>\n",
       "      <td>0.976894</td>\n",
       "    </tr>\n",
       "    <tr>\n",
       "      <th>11</th>\n",
       "      <td>RandomForestRegressor</td>\n",
       "      <td>fingerprint</td>\n",
       "      <td>3</td>\n",
       "      <td>5.183033e-03</td>\n",
       "      <td>6.370579e-05</td>\n",
       "      <td>0.878710</td>\n",
       "      <td>0.013586</td>\n",
       "      <td>0.000532</td>\n",
       "      <td>-0.121540</td>\n",
       "      <td>7.981591e-03</td>\n",
       "      <td>0.878710</td>\n",
       "    </tr>\n",
       "    <tr>\n",
       "      <th>12</th>\n",
       "      <td>GaussianProcessRegressor</td>\n",
       "      <td>fingerprint</td>\n",
       "      <td>4</td>\n",
       "      <td>2.378745e-11</td>\n",
       "      <td>5.714432e-22</td>\n",
       "      <td>1.000000</td>\n",
       "      <td>0.244030</td>\n",
       "      <td>0.059800</td>\n",
       "      <td>-239.115891</td>\n",
       "      <td>2.390488e-11</td>\n",
       "      <td>1.000000</td>\n",
       "    </tr>\n",
       "    <tr>\n",
       "      <th>13</th>\n",
       "      <td>GradientBoostingRegressor</td>\n",
       "      <td>fingerprint</td>\n",
       "      <td>4</td>\n",
       "      <td>2.306332e-03</td>\n",
       "      <td>1.456599e-05</td>\n",
       "      <td>0.973992</td>\n",
       "      <td>0.010567</td>\n",
       "      <td>0.000170</td>\n",
       "      <td>0.317979</td>\n",
       "      <td>3.816542e-03</td>\n",
       "      <td>0.973992</td>\n",
       "    </tr>\n",
       "    <tr>\n",
       "      <th>14</th>\n",
       "      <td>RandomForestRegressor</td>\n",
       "      <td>fingerprint</td>\n",
       "      <td>4</td>\n",
       "      <td>4.986617e-03</td>\n",
       "      <td>5.807730e-05</td>\n",
       "      <td>0.896301</td>\n",
       "      <td>0.010897</td>\n",
       "      <td>0.000207</td>\n",
       "      <td>0.168427</td>\n",
       "      <td>7.620847e-03</td>\n",
       "      <td>0.896301</td>\n",
       "    </tr>\n",
       "    <tr>\n",
       "      <th>15</th>\n",
       "      <td>GaussianProcessRegressor</td>\n",
       "      <td>fingerprint</td>\n",
       "      <td>5</td>\n",
       "      <td>2.389650e-11</td>\n",
       "      <td>5.765397e-22</td>\n",
       "      <td>1.000000</td>\n",
       "      <td>0.234215</td>\n",
       "      <td>0.055213</td>\n",
       "      <td>-154.039716</td>\n",
       "      <td>2.401124e-11</td>\n",
       "      <td>1.000000</td>\n",
       "    </tr>\n",
       "    <tr>\n",
       "      <th>16</th>\n",
       "      <td>GradientBoostingRegressor</td>\n",
       "      <td>fingerprint</td>\n",
       "      <td>5</td>\n",
       "      <td>2.492420e-03</td>\n",
       "      <td>1.375896e-05</td>\n",
       "      <td>0.974970</td>\n",
       "      <td>0.013904</td>\n",
       "      <td>0.000369</td>\n",
       "      <td>-0.035126</td>\n",
       "      <td>3.709307e-03</td>\n",
       "      <td>0.974970</td>\n",
       "    </tr>\n",
       "    <tr>\n",
       "      <th>17</th>\n",
       "      <td>RandomForestRegressor</td>\n",
       "      <td>fingerprint</td>\n",
       "      <td>5</td>\n",
       "      <td>5.285689e-03</td>\n",
       "      <td>6.839558e-05</td>\n",
       "      <td>0.875574</td>\n",
       "      <td>0.011951</td>\n",
       "      <td>0.000252</td>\n",
       "      <td>0.291855</td>\n",
       "      <td>8.270162e-03</td>\n",
       "      <td>0.875574</td>\n",
       "    </tr>\n",
       "    <tr>\n",
       "      <th>18</th>\n",
       "      <td>GaussianProcessRegressor</td>\n",
       "      <td>fingerprint</td>\n",
       "      <td>6</td>\n",
       "      <td>2.387889e-11</td>\n",
       "      <td>5.752942e-22</td>\n",
       "      <td>1.000000</td>\n",
       "      <td>0.235800</td>\n",
       "      <td>0.056334</td>\n",
       "      <td>-75.953959</td>\n",
       "      <td>2.398529e-11</td>\n",
       "      <td>1.000000</td>\n",
       "    </tr>\n",
       "    <tr>\n",
       "      <th>19</th>\n",
       "      <td>GradientBoostingRegressor</td>\n",
       "      <td>fingerprint</td>\n",
       "      <td>6</td>\n",
       "      <td>2.266753e-03</td>\n",
       "      <td>1.365090e-05</td>\n",
       "      <td>0.973196</td>\n",
       "      <td>0.014577</td>\n",
       "      <td>0.000372</td>\n",
       "      <td>0.491762</td>\n",
       "      <td>3.694713e-03</td>\n",
       "      <td>0.973196</td>\n",
       "    </tr>\n",
       "    <tr>\n",
       "      <th>20</th>\n",
       "      <td>RandomForestRegressor</td>\n",
       "      <td>fingerprint</td>\n",
       "      <td>6</td>\n",
       "      <td>5.043700e-03</td>\n",
       "      <td>6.587205e-05</td>\n",
       "      <td>0.870658</td>\n",
       "      <td>0.013722</td>\n",
       "      <td>0.000407</td>\n",
       "      <td>0.444637</td>\n",
       "      <td>8.116160e-03</td>\n",
       "      <td>0.870658</td>\n",
       "    </tr>\n",
       "    <tr>\n",
       "      <th>21</th>\n",
       "      <td>GaussianProcessRegressor</td>\n",
       "      <td>fingerprint</td>\n",
       "      <td>7</td>\n",
       "      <td>2.384534e-11</td>\n",
       "      <td>5.739978e-22</td>\n",
       "      <td>1.000000</td>\n",
       "      <td>0.238820</td>\n",
       "      <td>0.057501</td>\n",
       "      <td>-122.512940</td>\n",
       "      <td>2.395825e-11</td>\n",
       "      <td>1.000000</td>\n",
       "    </tr>\n",
       "    <tr>\n",
       "      <th>22</th>\n",
       "      <td>GradientBoostingRegressor</td>\n",
       "      <td>fingerprint</td>\n",
       "      <td>7</td>\n",
       "      <td>2.276428e-03</td>\n",
       "      <td>9.141590e-06</td>\n",
       "      <td>0.983064</td>\n",
       "      <td>0.015167</td>\n",
       "      <td>0.000880</td>\n",
       "      <td>-0.889282</td>\n",
       "      <td>3.023506e-03</td>\n",
       "      <td>0.983064</td>\n",
       "    </tr>\n",
       "    <tr>\n",
       "      <th>23</th>\n",
       "      <td>RandomForestRegressor</td>\n",
       "      <td>fingerprint</td>\n",
       "      <td>7</td>\n",
       "      <td>4.918350e-03</td>\n",
       "      <td>5.320502e-05</td>\n",
       "      <td>0.901431</td>\n",
       "      <td>0.013394</td>\n",
       "      <td>0.000625</td>\n",
       "      <td>-0.343328</td>\n",
       "      <td>7.294177e-03</td>\n",
       "      <td>0.901431</td>\n",
       "    </tr>\n",
       "    <tr>\n",
       "      <th>24</th>\n",
       "      <td>GaussianProcessRegressor</td>\n",
       "      <td>fingerprint</td>\n",
       "      <td>8</td>\n",
       "      <td>2.386678e-11</td>\n",
       "      <td>5.751571e-22</td>\n",
       "      <td>1.000000</td>\n",
       "      <td>0.236890</td>\n",
       "      <td>0.056457</td>\n",
       "      <td>-164.905622</td>\n",
       "      <td>2.398243e-11</td>\n",
       "      <td>1.000000</td>\n",
       "    </tr>\n",
       "    <tr>\n",
       "      <th>25</th>\n",
       "      <td>GradientBoostingRegressor</td>\n",
       "      <td>fingerprint</td>\n",
       "      <td>8</td>\n",
       "      <td>2.346747e-03</td>\n",
       "      <td>1.372861e-05</td>\n",
       "      <td>0.975192</td>\n",
       "      <td>0.008599</td>\n",
       "      <td>0.000124</td>\n",
       "      <td>0.635688</td>\n",
       "      <td>3.705214e-03</td>\n",
       "      <td>0.975192</td>\n",
       "    </tr>\n",
       "    <tr>\n",
       "      <th>26</th>\n",
       "      <td>RandomForestRegressor</td>\n",
       "      <td>fingerprint</td>\n",
       "      <td>8</td>\n",
       "      <td>5.225856e-03</td>\n",
       "      <td>6.441117e-05</td>\n",
       "      <td>0.883606</td>\n",
       "      <td>0.010072</td>\n",
       "      <td>0.000161</td>\n",
       "      <td>0.527128</td>\n",
       "      <td>8.025657e-03</td>\n",
       "      <td>0.883606</td>\n",
       "    </tr>\n",
       "    <tr>\n",
       "      <th>27</th>\n",
       "      <td>GaussianProcessRegressor</td>\n",
       "      <td>fingerprint</td>\n",
       "      <td>9</td>\n",
       "      <td>2.381995e-11</td>\n",
       "      <td>5.722759e-22</td>\n",
       "      <td>1.000000</td>\n",
       "      <td>0.241105</td>\n",
       "      <td>0.059050</td>\n",
       "      <td>-63.277990</td>\n",
       "      <td>2.392229e-11</td>\n",
       "      <td>1.000000</td>\n",
       "    </tr>\n",
       "    <tr>\n",
       "      <th>28</th>\n",
       "      <td>GradientBoostingRegressor</td>\n",
       "      <td>fingerprint</td>\n",
       "      <td>9</td>\n",
       "      <td>2.338184e-03</td>\n",
       "      <td>1.515688e-05</td>\n",
       "      <td>0.968979</td>\n",
       "      <td>0.016140</td>\n",
       "      <td>0.000551</td>\n",
       "      <td>0.400751</td>\n",
       "      <td>3.893184e-03</td>\n",
       "      <td>0.968979</td>\n",
       "    </tr>\n",
       "    <tr>\n",
       "      <th>29</th>\n",
       "      <td>RandomForestRegressor</td>\n",
       "      <td>fingerprint</td>\n",
       "      <td>9</td>\n",
       "      <td>5.139883e-03</td>\n",
       "      <td>5.746986e-05</td>\n",
       "      <td>0.882378</td>\n",
       "      <td>0.016908</td>\n",
       "      <td>0.000685</td>\n",
       "      <td>0.254330</td>\n",
       "      <td>7.580888e-03</td>\n",
       "      <td>0.882378</td>\n",
       "    </tr>\n",
       "  </tbody>\n",
       "</table>\n",
       "</div>"
      ],
      "text/plain": [
       "                        model      feature split_index  training_mae  \\\n",
       "0    GaussianProcessRegressor  fingerprint           0  2.380806e-11   \n",
       "1   GradientBoostingRegressor  fingerprint           0  2.250086e-03   \n",
       "2       RandomForestRegressor  fingerprint           0  4.733017e-03   \n",
       "3    GaussianProcessRegressor  fingerprint           1  2.384250e-11   \n",
       "4   GradientBoostingRegressor  fingerprint           1  2.314671e-03   \n",
       "5       RandomForestRegressor  fingerprint           1  5.296594e-03   \n",
       "6    GaussianProcessRegressor  fingerprint           2  2.377684e-11   \n",
       "7   GradientBoostingRegressor  fingerprint           2  2.003991e-03   \n",
       "8       RandomForestRegressor  fingerprint           2  4.492800e-03   \n",
       "9    GaussianProcessRegressor  fingerprint           3  2.396539e-11   \n",
       "10  GradientBoostingRegressor  fingerprint           3  2.310722e-03   \n",
       "11      RandomForestRegressor  fingerprint           3  5.183033e-03   \n",
       "12   GaussianProcessRegressor  fingerprint           4  2.378745e-11   \n",
       "13  GradientBoostingRegressor  fingerprint           4  2.306332e-03   \n",
       "14      RandomForestRegressor  fingerprint           4  4.986617e-03   \n",
       "15   GaussianProcessRegressor  fingerprint           5  2.389650e-11   \n",
       "16  GradientBoostingRegressor  fingerprint           5  2.492420e-03   \n",
       "17      RandomForestRegressor  fingerprint           5  5.285689e-03   \n",
       "18   GaussianProcessRegressor  fingerprint           6  2.387889e-11   \n",
       "19  GradientBoostingRegressor  fingerprint           6  2.266753e-03   \n",
       "20      RandomForestRegressor  fingerprint           6  5.043700e-03   \n",
       "21   GaussianProcessRegressor  fingerprint           7  2.384534e-11   \n",
       "22  GradientBoostingRegressor  fingerprint           7  2.276428e-03   \n",
       "23      RandomForestRegressor  fingerprint           7  4.918350e-03   \n",
       "24   GaussianProcessRegressor  fingerprint           8  2.386678e-11   \n",
       "25  GradientBoostingRegressor  fingerprint           8  2.346747e-03   \n",
       "26      RandomForestRegressor  fingerprint           8  5.225856e-03   \n",
       "27   GaussianProcessRegressor  fingerprint           9  2.381995e-11   \n",
       "28  GradientBoostingRegressor  fingerprint           9  2.338184e-03   \n",
       "29      RandomForestRegressor  fingerprint           9  5.139883e-03   \n",
       "\n",
       "    training_mse  training_r2_score  test_mae  test_mse  test_r2_score  \\\n",
       "0   5.716449e-22           1.000000  0.242175  0.059618     -60.504159   \n",
       "1   1.166080e-05           0.975814  0.014718  0.000663       0.315642   \n",
       "2   5.036763e-05           0.895532  0.014433  0.000627       0.353254   \n",
       "3   5.740815e-22           1.000000  0.239075  0.057425    -213.076364   \n",
       "4   1.393044e-05           0.975198  0.006965  0.000102       0.619148   \n",
       "5   6.548465e-05           0.883411  0.007746  0.000102       0.618363   \n",
       "6   5.699344e-22           1.000000  0.244985  0.061158     -52.645710   \n",
       "7   6.882774e-06           0.985026  0.019472  0.000809       0.290227   \n",
       "8   4.651125e-05           0.898809  0.019793  0.000847       0.257011   \n",
       "9   5.795924e-22           1.000000  0.228015  0.052465    -109.548190   \n",
       "10  1.213629e-05           0.976894  0.015665  0.000883      -0.860586   \n",
       "11  6.370579e-05           0.878710  0.013586  0.000532      -0.121540   \n",
       "12  5.714432e-22           1.000000  0.244030  0.059800    -239.115891   \n",
       "13  1.456599e-05           0.973992  0.010567  0.000170       0.317979   \n",
       "14  5.807730e-05           0.896301  0.010897  0.000207       0.168427   \n",
       "15  5.765397e-22           1.000000  0.234215  0.055213    -154.039716   \n",
       "16  1.375896e-05           0.974970  0.013904  0.000369      -0.035126   \n",
       "17  6.839558e-05           0.875574  0.011951  0.000252       0.291855   \n",
       "18  5.752942e-22           1.000000  0.235800  0.056334     -75.953959   \n",
       "19  1.365090e-05           0.973196  0.014577  0.000372       0.491762   \n",
       "20  6.587205e-05           0.870658  0.013722  0.000407       0.444637   \n",
       "21  5.739978e-22           1.000000  0.238820  0.057501    -122.512940   \n",
       "22  9.141590e-06           0.983064  0.015167  0.000880      -0.889282   \n",
       "23  5.320502e-05           0.901431  0.013394  0.000625      -0.343328   \n",
       "24  5.751571e-22           1.000000  0.236890  0.056457    -164.905622   \n",
       "25  1.372861e-05           0.975192  0.008599  0.000124       0.635688   \n",
       "26  6.441117e-05           0.883606  0.010072  0.000161       0.527128   \n",
       "27  5.722759e-22           1.000000  0.241105  0.059050     -63.277990   \n",
       "28  1.515688e-05           0.968979  0.016140  0.000551       0.400751   \n",
       "29  5.746986e-05           0.882378  0.016908  0.000685       0.254330   \n",
       "\n",
       "    training_rmse  training_score  \n",
       "0    2.390910e-11        1.000000  \n",
       "1    3.414792e-03        0.975814  \n",
       "2    7.097015e-03        0.895532  \n",
       "3    2.396000e-11        1.000000  \n",
       "4    3.732350e-03        0.975198  \n",
       "5    8.092259e-03        0.883411  \n",
       "6    2.387330e-11        1.000000  \n",
       "7    2.623504e-03        0.985026  \n",
       "8    6.819916e-03        0.898809  \n",
       "9    2.407472e-11        1.000000  \n",
       "10   3.483717e-03        0.976894  \n",
       "11   7.981591e-03        0.878710  \n",
       "12   2.390488e-11        1.000000  \n",
       "13   3.816542e-03        0.973992  \n",
       "14   7.620847e-03        0.896301  \n",
       "15   2.401124e-11        1.000000  \n",
       "16   3.709307e-03        0.974970  \n",
       "17   8.270162e-03        0.875574  \n",
       "18   2.398529e-11        1.000000  \n",
       "19   3.694713e-03        0.973196  \n",
       "20   8.116160e-03        0.870658  \n",
       "21   2.395825e-11        1.000000  \n",
       "22   3.023506e-03        0.983064  \n",
       "23   7.294177e-03        0.901431  \n",
       "24   2.398243e-11        1.000000  \n",
       "25   3.705214e-03        0.975192  \n",
       "26   8.025657e-03        0.883606  \n",
       "27   2.392229e-11        1.000000  \n",
       "28   3.893184e-03        0.968979  \n",
       "29   7.580888e-03        0.882378  "
      ]
     },
     "execution_count": 5,
     "metadata": {},
     "output_type": "execute_result"
    }
   ],
   "source": [
    "pipeline.get_statistics()"
   ]
  },
  {
   "cell_type": "code",
   "execution_count": 6,
   "metadata": {},
   "outputs": [
    {
     "name": "stderr",
     "output_type": "stream",
     "text": [
      "/home/erik/miniconda2/envs/automol/lib/python3.8/site-packages/ipykernel/ipkernel.py:283: DeprecationWarning: `should_run_async` will not call `transform_cell` automatically in the future. Please pass the result to `transformed_cell` argument and any exception that happen during thetransform in `preprocessing_exc_tuple` in IPython 7.17 and above.\n",
      "  and should_run_async(code)\n"
     ]
    },
    {
     "data": {
      "image/png": "[encoded data removed]",
      "text/plain": [
       "<Figure size 432x288 with 1 Axes>"
      ]
     },
     "metadata": {
      "needs_background": "light"
     },
     "output_type": "display_data"
    }
   ],
   "source": [
    "pipeline.plot_models_performance('fingerprint')"
   ]
  }
 ],
 "metadata": {
  "kernelspec": {
   "display_name": "automol",
   "language": "python",
   "name": "automol"
  },
  "language_info": {
   "codemirror_mode": {
    "name": "ipython",
    "version": 3
   },
   "file_extension": ".py",
   "mimetype": "text/x-python",
   "name": "python",
   "nbconvert_exporter": "python",
   "pygments_lexer": "ipython3",
   "version": "3.8.5"
  }
 },
 "nbformat": 4,
 "nbformat_minor": 4
}
