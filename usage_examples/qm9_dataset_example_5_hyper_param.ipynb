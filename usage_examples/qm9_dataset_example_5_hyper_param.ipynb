{
 "cells": [
  {
   "cell_type": "markdown",
   "metadata": {},
   "source": [
    "This is an example of using AutoMol:\n",
    "- Training dataset: QM9\n",
    "- Training features: fingerprints\n",
    "- Feature to learn: HOMO energy\n",
    "- Model: RandomForest\n",
    "- Problem: regression\n",
    "- Dataset location: local\n",
    "- Hyper parameter: GridSearchCV\n",
    "- CV: 5\n",
    "- No custom features"
   ]
  },
  {
   "cell_type": "code",
   "execution_count": 1,
   "metadata": {},
   "outputs": [],
   "source": [
    "if'automol'in globals(): import importlib; importlib.reload(automol)"
   ]
  },
  {
   "cell_type": "code",
   "execution_count": 2,
   "metadata": {},
   "outputs": [],
   "source": [
    "from automol.pipeline import Pipeline"
   ]
  },
  {
   "cell_type": "code",
   "execution_count": 3,
   "metadata": {
    "scrolled": false
   },
   "outputs": [
    {
     "name": "stderr",
     "output_type": "stream",
     "text": [
      "/home/erik/miniconda2/envs/automol/lib/python3.8/site-packages/ipykernel/ipkernel.py:283: DeprecationWarning: `should_run_async` will not call `transform_cell` automatically in the future. Please pass the result to `transformed_cell` argument and any exception that happen during thetransform in `preprocessing_exc_tuple` in IPython 7.17 and above.\n",
      "  and should_run_async(code)\n"
     ]
    },
    {
     "name": "stdout",
     "output_type": "stream",
     "text": [
      "amount: 200\n",
      "cv: 5\n",
      "dataset_class: QM9\n",
      "dataset_location: data/dsgdb9nsd\n",
      "dataset_split_test_size: 0.1\n",
      "features:\n",
      "- fingerprint\n",
      "hyper_param_grid:\n",
      "  RandomForestRegressor:\n",
      "    max_depth:\n",
      "    - 3\n",
      "    - 5\n",
      "    - 10\n",
      "label: homo\n",
      "mlflow_experiment: qm9_dataset_automol_demo\n",
      "models_filter:\n",
      "- git_uri: sklearn\n",
      "  model_names:\n",
      "  - RandomForestRegressor\n",
      "  whitelist: 1\n",
      "problem: regression\n",
      "train_test_splits: 2\n",
      "\n"
     ]
    }
   ],
   "source": [
    "config_yaml = 'qm9_dataset_example_5.yaml'\n",
    "pipeline = Pipeline(config_yaml)\n",
    "pipeline.print_spec()"
   ]
  },
  {
   "cell_type": "code",
   "execution_count": 4,
   "metadata": {
    "scrolled": false
   },
   "outputs": [
    {
     "name": "stdout",
     "output_type": "stream",
     "text": [
      "Got the feature homo from the current dataset.\n",
      "Checking if the feature fingerprint can be generated.\n",
      "Got the generated feature fingerprint.\n",
      "Running model RandomForestRegressor with feature fingerprint.\n"
     ]
    },
    {
     "name": "stderr",
     "output_type": "stream",
     "text": [
      "2021/03/16 21:27:14 WARNING mlflow.models.model: Logging model metadata to the tracking server has failed, possibly due older server version. The model artifacts have been logged successfully under sftp://lsdf/kit/iti/projects/aimat-mlflow/artifacts/24/92ce07b058d04833a5549c991fecb550/artifacts. In addition to exporting model artifacts, MLflow clients 1.7.0 and above attempt to record model metadata to the  tracking store. If logging to a mlflow server via REST, consider  upgrading the server version to MLflow 1.7.0 or above.\n",
      "2021/03/16 21:27:18 WARNING mlflow.models.model: Logging model metadata to the tracking server has failed, possibly due older server version. The model artifacts have been logged successfully under sftp://lsdf/kit/iti/projects/aimat-mlflow/artifacts/24/92ce07b058d04833a5549c991fecb550/artifacts. In addition to exporting model artifacts, MLflow clients 1.7.0 and above attempt to record model metadata to the  tracking store. If logging to a mlflow server via REST, consider  upgrading the server version to MLflow 1.7.0 or above.\n"
     ]
    },
    {
     "name": "stdout",
     "output_type": "stream",
     "text": [
      "Running model RandomForestRegressor with feature fingerprint.\n"
     ]
    },
    {
     "name": "stderr",
     "output_type": "stream",
     "text": [
      "2021/03/16 21:27:47 WARNING mlflow.models.model: Logging model metadata to the tracking server has failed, possibly due older server version. The model artifacts have been logged successfully under sftp://lsdf/kit/iti/projects/aimat-mlflow/artifacts/24/0f2171f1169b41e99b6e5bc5d18c3199/artifacts. In addition to exporting model artifacts, MLflow clients 1.7.0 and above attempt to record model metadata to the  tracking store. If logging to a mlflow server via REST, consider  upgrading the server version to MLflow 1.7.0 or above.\n",
      "2021/03/16 21:27:50 WARNING mlflow.models.model: Logging model metadata to the tracking server has failed, possibly due older server version. The model artifacts have been logged successfully under sftp://lsdf/kit/iti/projects/aimat-mlflow/artifacts/24/0f2171f1169b41e99b6e5bc5d18c3199/artifacts. In addition to exporting model artifacts, MLflow clients 1.7.0 and above attempt to record model metadata to the  tracking store. If logging to a mlflow server via REST, consider  upgrading the server version to MLflow 1.7.0 or above.\n"
     ]
    }
   ],
   "source": [
    "pipeline.train()"
   ]
  },
  {
   "cell_type": "code",
   "execution_count": 5,
   "metadata": {
    "scrolled": true
   },
   "outputs": [
    {
     "name": "stderr",
     "output_type": "stream",
     "text": [
      "/home/erik/miniconda2/envs/automol/lib/python3.8/site-packages/ipykernel/ipkernel.py:283: DeprecationWarning: `should_run_async` will not call `transform_cell` automatically in the future. Please pass the result to `transformed_cell` argument and any exception that happen during thetransform in `preprocessing_exc_tuple` in IPython 7.17 and above.\n",
      "  and should_run_async(code)\n"
     ]
    },
    {
     "data": {
      "text/html": [
       "<div>\n",
       "<style scoped>\n",
       "    .dataframe tbody tr th:only-of-type {\n",
       "        vertical-align: middle;\n",
       "    }\n",
       "\n",
       "    .dataframe tbody tr th {\n",
       "        vertical-align: top;\n",
       "    }\n",
       "\n",
       "    .dataframe thead th {\n",
       "        text-align: right;\n",
       "    }\n",
       "</style>\n",
       "<table border=\"1\" class=\"dataframe\">\n",
       "  <thead>\n",
       "    <tr style=\"text-align: right;\">\n",
       "      <th></th>\n",
       "      <th>model</th>\n",
       "      <th>feature</th>\n",
       "      <th>split_index</th>\n",
       "      <th>training_mae</th>\n",
       "      <th>training_mse</th>\n",
       "      <th>training_r2_score</th>\n",
       "      <th>test_mae</th>\n",
       "      <th>test_mse</th>\n",
       "      <th>test_r2_score</th>\n",
       "      <th>best_cv_score</th>\n",
       "      <th>training_rmse</th>\n",
       "      <th>training_score</th>\n",
       "    </tr>\n",
       "  </thead>\n",
       "  <tbody>\n",
       "    <tr>\n",
       "      <th>0</th>\n",
       "      <td>RandomForestRegressor</td>\n",
       "      <td>fingerprint</td>\n",
       "      <td>0</td>\n",
       "      <td>0.006186</td>\n",
       "      <td>0.000082</td>\n",
       "      <td>0.846003</td>\n",
       "      <td>0.015389</td>\n",
       "      <td>0.000427</td>\n",
       "      <td>0.168341</td>\n",
       "      <td>0.088496</td>\n",
       "      <td>0.009071</td>\n",
       "      <td>0.846003</td>\n",
       "    </tr>\n",
       "    <tr>\n",
       "      <th>1</th>\n",
       "      <td>RandomForestRegressor</td>\n",
       "      <td>fingerprint</td>\n",
       "      <td>1</td>\n",
       "      <td>0.006569</td>\n",
       "      <td>0.000085</td>\n",
       "      <td>0.845606</td>\n",
       "      <td>0.011206</td>\n",
       "      <td>0.000228</td>\n",
       "      <td>0.314397</td>\n",
       "      <td>0.140634</td>\n",
       "      <td>0.009238</td>\n",
       "      <td>0.845606</td>\n",
       "    </tr>\n",
       "  </tbody>\n",
       "</table>\n",
       "</div>"
      ],
      "text/plain": [
       "                   model      feature split_index  training_mae  training_mse  \\\n",
       "0  RandomForestRegressor  fingerprint           0      0.006186      0.000082   \n",
       "1  RandomForestRegressor  fingerprint           1      0.006569      0.000085   \n",
       "\n",
       "   training_r2_score  test_mae  test_mse  test_r2_score  best_cv_score  \\\n",
       "0           0.846003  0.015389  0.000427       0.168341       0.088496   \n",
       "1           0.845606  0.011206  0.000228       0.314397       0.140634   \n",
       "\n",
       "   training_rmse  training_score  \n",
       "0       0.009071        0.846003  \n",
       "1       0.009238        0.845606  "
      ]
     },
     "execution_count": 5,
     "metadata": {},
     "output_type": "execute_result"
    }
   ],
   "source": [
    "pipeline.get_statistics()"
   ]
  },
  {
   "cell_type": "code",
   "execution_count": 6,
   "metadata": {
    "scrolled": true
   },
   "outputs": [
    {
     "name": "stderr",
     "output_type": "stream",
     "text": [
      "/home/erik/miniconda2/envs/automol/lib/python3.8/site-packages/ipykernel/ipkernel.py:283: DeprecationWarning: `should_run_async` will not call `transform_cell` automatically in the future. Please pass the result to `transformed_cell` argument and any exception that happen during thetransform in `preprocessing_exc_tuple` in IPython 7.17 and above.\n",
      "  and should_run_async(code)\n"
     ]
    },
    {
     "data": {
      "text/html": [
       "<div>\n",
       "<style scoped>\n",
       "    .dataframe tbody tr th:only-of-type {\n",
       "        vertical-align: middle;\n",
       "    }\n",
       "\n",
       "    .dataframe tbody tr th {\n",
       "        vertical-align: top;\n",
       "    }\n",
       "\n",
       "    .dataframe thead th {\n",
       "        text-align: right;\n",
       "    }\n",
       "</style>\n",
       "<table border=\"1\" class=\"dataframe\">\n",
       "  <thead>\n",
       "    <tr style=\"text-align: right;\">\n",
       "      <th></th>\n",
       "      <th>mean_fit_time</th>\n",
       "      <th>std_fit_time</th>\n",
       "      <th>mean_score_time</th>\n",
       "      <th>std_score_time</th>\n",
       "      <th>param_max_depth</th>\n",
       "      <th>params</th>\n",
       "      <th>split0_test_score</th>\n",
       "      <th>split1_test_score</th>\n",
       "      <th>split2_test_score</th>\n",
       "      <th>split3_test_score</th>\n",
       "      <th>split4_test_score</th>\n",
       "      <th>mean_test_score</th>\n",
       "      <th>std_test_score</th>\n",
       "      <th>rank_test_score</th>\n",
       "    </tr>\n",
       "  </thead>\n",
       "  <tbody>\n",
       "    <tr>\n",
       "      <th>0</th>\n",
       "      <td>0.525036</td>\n",
       "      <td>0.003593</td>\n",
       "      <td>0.006284</td>\n",
       "      <td>0.000045</td>\n",
       "      <td>3</td>\n",
       "      <td>{'max_depth': 3}</td>\n",
       "      <td>-0.464016</td>\n",
       "      <td>0.021514</td>\n",
       "      <td>-0.030583</td>\n",
       "      <td>0.228916</td>\n",
       "      <td>0.004184</td>\n",
       "      <td>-0.047997</td>\n",
       "      <td>0.226985</td>\n",
       "      <td>3</td>\n",
       "    </tr>\n",
       "    <tr>\n",
       "      <th>1</th>\n",
       "      <td>0.833126</td>\n",
       "      <td>0.006953</td>\n",
       "      <td>0.006298</td>\n",
       "      <td>0.000121</td>\n",
       "      <td>5</td>\n",
       "      <td>{'max_depth': 5}</td>\n",
       "      <td>-0.325525</td>\n",
       "      <td>0.004255</td>\n",
       "      <td>0.086558</td>\n",
       "      <td>0.258540</td>\n",
       "      <td>0.154776</td>\n",
       "      <td>0.035721</td>\n",
       "      <td>0.198945</td>\n",
       "      <td>2</td>\n",
       "    </tr>\n",
       "    <tr>\n",
       "      <th>2</th>\n",
       "      <td>1.542243</td>\n",
       "      <td>0.073026</td>\n",
       "      <td>0.007811</td>\n",
       "      <td>0.001408</td>\n",
       "      <td>10</td>\n",
       "      <td>{'max_depth': 10}</td>\n",
       "      <td>-0.325432</td>\n",
       "      <td>0.028571</td>\n",
       "      <td>0.257484</td>\n",
       "      <td>0.281611</td>\n",
       "      <td>0.200248</td>\n",
       "      <td>0.088496</td>\n",
       "      <td>0.225063</td>\n",
       "      <td>1</td>\n",
       "    </tr>\n",
       "  </tbody>\n",
       "</table>\n",
       "</div>"
      ],
      "text/plain": [
       "   mean_fit_time  std_fit_time  mean_score_time  std_score_time  \\\n",
       "0       0.525036      0.003593         0.006284        0.000045   \n",
       "1       0.833126      0.006953         0.006298        0.000121   \n",
       "2       1.542243      0.073026         0.007811        0.001408   \n",
       "\n",
       "  param_max_depth             params  split0_test_score  split1_test_score  \\\n",
       "0               3   {'max_depth': 3}          -0.464016           0.021514   \n",
       "1               5   {'max_depth': 5}          -0.325525           0.004255   \n",
       "2              10  {'max_depth': 10}          -0.325432           0.028571   \n",
       "\n",
       "   split2_test_score  split3_test_score  split4_test_score  mean_test_score  \\\n",
       "0          -0.030583           0.228916           0.004184        -0.047997   \n",
       "1           0.086558           0.258540           0.154776         0.035721   \n",
       "2           0.257484           0.281611           0.200248         0.088496   \n",
       "\n",
       "   std_test_score  rank_test_score  \n",
       "0        0.226985                3  \n",
       "1        0.198945                2  \n",
       "2        0.225063                1  "
      ]
     },
     "execution_count": 6,
     "metadata": {},
     "output_type": "execute_result"
    }
   ],
   "source": [
    "pipeline.get_cv_results('RandomForestRegressor', 'fingerprint', split_index=0)"
   ]
  },
  {
   "cell_type": "code",
   "execution_count": 8,
   "metadata": {},
   "outputs": [
    {
     "name": "stderr",
     "output_type": "stream",
     "text": [
      "/home/erik/miniconda2/envs/automol/lib/python3.8/site-packages/ipykernel/ipkernel.py:283: DeprecationWarning: `should_run_async` will not call `transform_cell` automatically in the future. Please pass the result to `transformed_cell` argument and any exception that happen during thetransform in `preprocessing_exc_tuple` in IPython 7.17 and above.\n",
      "  and should_run_async(code)\n"
     ]
    },
    {
     "data": {
      "image/png": "[encoded data removed]",
      "text/plain": [
       "<Figure size 432x288 with 1 Axes>"
      ]
     },
     "metadata": {
      "needs_background": "light"
     },
     "output_type": "display_data"
    }
   ],
   "source": [
    "pipeline.plot_grid_search('RandomForestRegressor', 'fingerprint', 'max_depth')"
   ]
  }
 ],
 "metadata": {
  "kernelspec": {
   "display_name": "automol",
   "language": "python",
   "name": "automol"
  },
  "language_info": {
   "codemirror_mode": {
    "name": "ipython",
    "version": 3
   },
   "file_extension": ".py",
   "mimetype": "text/x-python",
   "name": "python",
   "nbconvert_exporter": "python",
   "pygments_lexer": "ipython3",
   "version": "3.8.5"
  }
 },
 "nbformat": 4,
 "nbformat_minor": 4
}
