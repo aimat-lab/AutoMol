{
 "cells": [
  {
   "cell_type": "markdown",
   "metadata": {},
   "source": [
    "This is a minimal example of using AutoMol:\n",
    "- Training dataset: QM9\n",
    "- Training features: fingerprints\n",
    "- Feature to learn: HOMO energy\n",
    "- Models: RandomForest, GradientBoosting, GaussianProcess\n",
    "- Problem: regression\n",
    "- Dataset location: local\n",
    "- No CV\n",
    "- No custom features"
   ]
  },
  {
   "cell_type": "code",
   "execution_count": 1,
   "metadata": {},
   "outputs": [],
   "source": [
    "if'automol'in globals(): import importlib; importlib.reload(automol)"
   ]
  },
  {
   "cell_type": "code",
   "execution_count": 2,
   "metadata": {},
   "outputs": [],
   "source": [
    "from automol.pipeline import Pipeline\n",
    "import warnings\n",
    "warnings.filterwarnings('ignore')"
   ]
  },
  {
   "cell_type": "code",
   "execution_count": 3,
   "metadata": {
    "scrolled": false
   },
   "outputs": [
    {
     "name": "stdout",
     "output_type": "stream",
     "text": [
      "amount: 50\n",
      "dataset_class: QM9\n",
      "dataset_location: data/dsgdb9nsd\n",
      "dataset_split_test_size: 0.1\n",
      "features:\n",
      "- fingerprint\n",
      "label: homo\n",
      "mlflow_experiment: qm9_dataset_automol_demo\n",
      "models_filter:\n",
      "- git_uri: sklearn\n",
      "  model_names:\n",
      "  - RandomForestRegressor\n",
      "  - GradientBoostingRegressor\n",
      "  - GaussianProcessRegressor\n",
      "  whitelist: 1\n",
      "problem: regression\n",
      "train_test_splits: 1\n",
      "\n"
     ]
    }
   ],
   "source": [
    "config_yaml = 'qm9_dataset_example_1.yaml'\n",
    "pipeline = Pipeline(config_yaml)\n",
    "pipeline.print_spec()"
   ]
  },
  {
   "cell_type": "code",
   "execution_count": 5,
   "metadata": {},
   "outputs": [
    {
     "name": "stdout",
     "output_type": "stream",
     "text": [
      "Got the feature homo from the current dataset.\n",
      "Checking if the feature fingerprint can be generated.\n",
      "Got the generated feature fingerprint.\n",
      "Running model GaussianProcessRegressor with feature fingerprint.\n"
     ]
    },
    {
     "name": "stderr",
     "output_type": "stream",
     "text": [
      "2021/03/16 21:59:57 WARNING mlflow.models.model: Logging model metadata to the tracking server has failed, possibly due older server version. The model artifacts have been logged successfully under sftp://lsdf/kit/iti/projects/aimat-mlflow/artifacts/24/44a5b02e682a45deb3d433425476659f/artifacts. In addition to exporting model artifacts, MLflow clients 1.7.0 and above attempt to record model metadata to the  tracking store. If logging to a mlflow server via REST, consider  upgrading the server version to MLflow 1.7.0 or above.\n"
     ]
    },
    {
     "name": "stdout",
     "output_type": "stream",
     "text": [
      "Running model GradientBoostingRegressor with feature fingerprint.\n"
     ]
    },
    {
     "name": "stderr",
     "output_type": "stream",
     "text": [
      "2021/03/16 22:00:04 WARNING mlflow.models.model: Logging model metadata to the tracking server has failed, possibly due older server version. The model artifacts have been logged successfully under sftp://lsdf/kit/iti/projects/aimat-mlflow/artifacts/24/da16141ffd2841f4afa8717c310712b4/artifacts. In addition to exporting model artifacts, MLflow clients 1.7.0 and above attempt to record model metadata to the  tracking store. If logging to a mlflow server via REST, consider  upgrading the server version to MLflow 1.7.0 or above.\n"
     ]
    },
    {
     "name": "stdout",
     "output_type": "stream",
     "text": [
      "Running model RandomForestRegressor with feature fingerprint.\n"
     ]
    },
    {
     "name": "stderr",
     "output_type": "stream",
     "text": [
      "2021/03/16 22:00:11 WARNING mlflow.models.model: Logging model metadata to the tracking server has failed, possibly due older server version. The model artifacts have been logged successfully under sftp://lsdf/kit/iti/projects/aimat-mlflow/artifacts/24/f9fe8c4f6b064ddc95116d34c6062555/artifacts. In addition to exporting model artifacts, MLflow clients 1.7.0 and above attempt to record model metadata to the  tracking store. If logging to a mlflow server via REST, consider  upgrading the server version to MLflow 1.7.0 or above.\n"
     ]
    }
   ],
   "source": [
    "pipeline.train()"
   ]
  },
  {
   "cell_type": "code",
   "execution_count": 6,
   "metadata": {
    "scrolled": true
   },
   "outputs": [
    {
     "data": {
      "text/html": [
       "<div>\n",
       "<style scoped>\n",
       "    .dataframe tbody tr th:only-of-type {\n",
       "        vertical-align: middle;\n",
       "    }\n",
       "\n",
       "    .dataframe tbody tr th {\n",
       "        vertical-align: top;\n",
       "    }\n",
       "\n",
       "    .dataframe thead th {\n",
       "        text-align: right;\n",
       "    }\n",
       "</style>\n",
       "<table border=\"1\" class=\"dataframe\">\n",
       "  <thead>\n",
       "    <tr style=\"text-align: right;\">\n",
       "      <th></th>\n",
       "      <th>model</th>\n",
       "      <th>feature</th>\n",
       "      <th>split_index</th>\n",
       "      <th>training_mae</th>\n",
       "      <th>training_mse</th>\n",
       "      <th>training_r2_score</th>\n",
       "      <th>test_mae</th>\n",
       "      <th>test_mse</th>\n",
       "      <th>test_r2_score</th>\n",
       "      <th>training_rmse</th>\n",
       "      <th>training_score</th>\n",
       "    </tr>\n",
       "  </thead>\n",
       "  <tbody>\n",
       "    <tr>\n",
       "      <th>1</th>\n",
       "      <td>GradientBoostingRegressor</td>\n",
       "      <td>fingerprint</td>\n",
       "      <td>0</td>\n",
       "      <td>3.064147e-04</td>\n",
       "      <td>1.324955e-07</td>\n",
       "      <td>0.999716</td>\n",
       "      <td>0.025745</td>\n",
       "      <td>0.001290</td>\n",
       "      <td>-0.027306</td>\n",
       "      <td>3.639993e-04</td>\n",
       "      <td>0.999716</td>\n",
       "    </tr>\n",
       "    <tr>\n",
       "      <th>2</th>\n",
       "      <td>RandomForestRegressor</td>\n",
       "      <td>fingerprint</td>\n",
       "      <td>0</td>\n",
       "      <td>5.532000e-03</td>\n",
       "      <td>5.377749e-05</td>\n",
       "      <td>0.884557</td>\n",
       "      <td>0.026262</td>\n",
       "      <td>0.001091</td>\n",
       "      <td>0.131250</td>\n",
       "      <td>7.333314e-03</td>\n",
       "      <td>0.884557</td>\n",
       "    </tr>\n",
       "    <tr>\n",
       "      <th>0</th>\n",
       "      <td>GaussianProcessRegressor</td>\n",
       "      <td>fingerprint</td>\n",
       "      <td>0</td>\n",
       "      <td>2.343223e-11</td>\n",
       "      <td>5.537276e-22</td>\n",
       "      <td>1.000000</td>\n",
       "      <td>0.226440</td>\n",
       "      <td>0.052530</td>\n",
       "      <td>-40.844838</td>\n",
       "      <td>2.353142e-11</td>\n",
       "      <td>1.000000</td>\n",
       "    </tr>\n",
       "  </tbody>\n",
       "</table>\n",
       "</div>"
      ],
      "text/plain": [
       "                       model      feature split_index  training_mae  \\\n",
       "1  GradientBoostingRegressor  fingerprint           0  3.064147e-04   \n",
       "2      RandomForestRegressor  fingerprint           0  5.532000e-03   \n",
       "0   GaussianProcessRegressor  fingerprint           0  2.343223e-11   \n",
       "\n",
       "   training_mse  training_r2_score  test_mae  test_mse  test_r2_score  \\\n",
       "1  1.324955e-07           0.999716  0.025745  0.001290      -0.027306   \n",
       "2  5.377749e-05           0.884557  0.026262  0.001091       0.131250   \n",
       "0  5.537276e-22           1.000000  0.226440  0.052530     -40.844838   \n",
       "\n",
       "   training_rmse  training_score  \n",
       "1   3.639993e-04        0.999716  \n",
       "2   7.333314e-03        0.884557  \n",
       "0   2.353142e-11        1.000000  "
      ]
     },
     "execution_count": 6,
     "metadata": {},
     "output_type": "execute_result"
    }
   ],
   "source": [
    "pipeline.get_statistics().sort_values(by='test_mae', ascending=True)"
   ]
  }
 ],
 "metadata": {
  "kernelspec": {
   "display_name": "automol",
   "language": "python",
   "name": "automol"
  },
  "language_info": {
   "codemirror_mode": {
    "name": "ipython",
    "version": 3
   },
   "file_extension": ".py",
   "mimetype": "text/x-python",
   "name": "python",
   "nbconvert_exporter": "python",
   "pygments_lexer": "ipython3",
   "version": "3.8.5"
  }
 },
 "nbformat": 4,
 "nbformat_minor": 4
}
