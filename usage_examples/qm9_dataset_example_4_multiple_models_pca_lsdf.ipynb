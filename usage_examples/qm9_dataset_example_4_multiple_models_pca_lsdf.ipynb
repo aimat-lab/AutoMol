{
 "cells": [
  {
   "cell_type": "markdown",
   "metadata": {},
   "source": [
    "This is a minimal example of using AutoMol:\n",
    "- Training dataset: QM9\n",
    "- Training features: rdkit features, fingerprints (PCA to 50 dimensions for MLP)\n",
    "- Feature to learn: HOMO energy\n",
    "- Models: RandomForest, GradientBoosting, GaussianProcess, MLP neural network\n",
    "- Problem: regression\n",
    "- Dataset location: LSDF\n",
    "- No CV\n",
    "- No custom features"
   ]
  },
  {
   "cell_type": "code",
   "execution_count": 1,
   "metadata": {},
   "outputs": [],
   "source": [
    "if'automol'in globals(): import importlib; importlib.reload(automol)"
   ]
  },
  {
   "cell_type": "code",
   "execution_count": 2,
   "metadata": {},
   "outputs": [],
   "source": [
    "from automol.pipeline import Pipeline"
   ]
  },
  {
   "cell_type": "code",
   "execution_count": 3,
   "metadata": {},
   "outputs": [
    {
     "name": "stderr",
     "output_type": "stream",
     "text": [
      "/home/erik/miniconda2/envs/automol/lib/python3.8/site-packages/ipykernel/ipkernel.py:283: DeprecationWarning: `should_run_async` will not call `transform_cell` automatically in the future. Please pass the result to `transformed_cell` argument and any exception that happen during thetransform in `preprocessing_exc_tuple` in IPython 7.17 and above.\n",
      "  and should_run_async(code)\n"
     ]
    },
    {
     "name": "stdout",
     "output_type": "stream",
     "text": [
      "amount: 50\n",
      "dataset_class: QM9\n",
      "dataset_location: lsdf:///lsdf/kit/iti/projects/aimat/datasets/dsgdb9nsd\n",
      "dataset_split_test_size: 0.1\n",
      "features:\n",
      "- fingerprint\n",
      "- rdkit\n",
      "label: homo\n",
      "mlflow_experiment: qm9_dataset_automol_demo\n",
      "models_filter:\n",
      "- git_uri: sklearn\n",
      "  model_names:\n",
      "  - RandomForestRegressor\n",
      "  - GradientBoostingRegressor\n",
      "  - GaussianProcessRegressor\n",
      "  - MLPRegressor\n",
      "  whitelist: 1\n",
      "pca_preprocessing:\n",
      "  feature: fingerprint\n",
      "  model_name: MLPRegressor\n",
      "  n_components: 50\n",
      "problem: regression\n",
      "train_test_splits: 1\n",
      "\n"
     ]
    }
   ],
   "source": [
    "config_yaml = 'qm9_dataset_example_4_multiple_models_pca_lsdf.yaml'\n",
    "pipeline = Pipeline(config_yaml)\n",
    "pipeline.print_spec()"
   ]
  },
  {
   "cell_type": "code",
   "execution_count": 4,
   "metadata": {},
   "outputs": [
    {
     "name": "stdout",
     "output_type": "stream",
     "text": [
      "Got the feature homo from the current dataset.\n",
      "Checking if the feature fingerprint can be generated.\n",
      "Got the generated feature fingerprint.\n",
      "Got the feature fingerprint from the current dataset.\n",
      "Running model MLPRegressor with feature fingerprint (PCA to 50 dimensions).\n",
      "Running model GaussianProcessRegressor with feature fingerprint.\n"
     ]
    },
    {
     "name": "stderr",
     "output_type": "stream",
     "text": [
      "2021/03/17 22:56:25 WARNING mlflow.models.model: Logging model metadata to the tracking server has failed, possibly due older server version. The model artifacts have been logged successfully under sftp://lsdf/kit/iti/projects/aimat-mlflow/artifacts/24/800f3843ddc24c76ba0eb534961aff2c/artifacts. In addition to exporting model artifacts, MLflow clients 1.7.0 and above attempt to record model metadata to the  tracking store. If logging to a mlflow server via REST, consider  upgrading the server version to MLflow 1.7.0 or above.\n"
     ]
    },
    {
     "name": "stdout",
     "output_type": "stream",
     "text": [
      "Running model GradientBoostingRegressor with feature fingerprint.\n"
     ]
    },
    {
     "name": "stderr",
     "output_type": "stream",
     "text": [
      "2021/03/17 22:56:32 WARNING mlflow.models.model: Logging model metadata to the tracking server has failed, possibly due older server version. The model artifacts have been logged successfully under sftp://lsdf/kit/iti/projects/aimat-mlflow/artifacts/24/2dd931706f0f4489951ffdc7bfaeed3c/artifacts. In addition to exporting model artifacts, MLflow clients 1.7.0 and above attempt to record model metadata to the  tracking store. If logging to a mlflow server via REST, consider  upgrading the server version to MLflow 1.7.0 or above.\n"
     ]
    },
    {
     "name": "stdout",
     "output_type": "stream",
     "text": [
      "Running model RandomForestRegressor with feature fingerprint.\n"
     ]
    },
    {
     "name": "stderr",
     "output_type": "stream",
     "text": [
      "2021/03/17 22:56:39 WARNING mlflow.models.model: Logging model metadata to the tracking server has failed, possibly due older server version. The model artifacts have been logged successfully under sftp://lsdf/kit/iti/projects/aimat-mlflow/artifacts/24/508a4639d4bb446299d08ec467ede56f/artifacts. In addition to exporting model artifacts, MLflow clients 1.7.0 and above attempt to record model metadata to the  tracking store. If logging to a mlflow server via REST, consider  upgrading the server version to MLflow 1.7.0 or above.\n"
     ]
    },
    {
     "name": "stdout",
     "output_type": "stream",
     "text": [
      "Checking if the feature rdkit can be generated.\n",
      "Got the generated feature rdkit.\n",
      "Running model MLPRegressor with feature rdkit.\n"
     ]
    },
    {
     "name": "stderr",
     "output_type": "stream",
     "text": [
      "/home/erik/miniconda2/envs/automol/lib/python3.8/site-packages/sklearn/neural_network/_multilayer_perceptron.py:582: ConvergenceWarning: Stochastic Optimizer: Maximum iterations (200) reached and the optimization hasn't converged yet.\n",
      "  warnings.warn(\n",
      "2021/03/17 22:56:47 WARNING mlflow.models.model: Logging model metadata to the tracking server has failed, possibly due older server version. The model artifacts have been logged successfully under sftp://lsdf/kit/iti/projects/aimat-mlflow/artifacts/24/8efb7cc5707646f08ff161dfa3b97bbb/artifacts. In addition to exporting model artifacts, MLflow clients 1.7.0 and above attempt to record model metadata to the  tracking store. If logging to a mlflow server via REST, consider  upgrading the server version to MLflow 1.7.0 or above.\n"
     ]
    },
    {
     "name": "stdout",
     "output_type": "stream",
     "text": [
      "Running model GaussianProcessRegressor with feature rdkit.\n"
     ]
    },
    {
     "name": "stderr",
     "output_type": "stream",
     "text": [
      "2021/03/17 22:56:53 WARNING mlflow.models.model: Logging model metadata to the tracking server has failed, possibly due older server version. The model artifacts have been logged successfully under sftp://lsdf/kit/iti/projects/aimat-mlflow/artifacts/24/e2e5808a82364bd5b9cfbfead804ecb7/artifacts. In addition to exporting model artifacts, MLflow clients 1.7.0 and above attempt to record model metadata to the  tracking store. If logging to a mlflow server via REST, consider  upgrading the server version to MLflow 1.7.0 or above.\n"
     ]
    },
    {
     "name": "stdout",
     "output_type": "stream",
     "text": [
      "Running model GradientBoostingRegressor with feature rdkit.\n"
     ]
    },
    {
     "name": "stderr",
     "output_type": "stream",
     "text": [
      "2021/03/17 22:57:00 WARNING mlflow.models.model: Logging model metadata to the tracking server has failed, possibly due older server version. The model artifacts have been logged successfully under sftp://lsdf/kit/iti/projects/aimat-mlflow/artifacts/24/527be05875ec4904a882518156d33de4/artifacts. In addition to exporting model artifacts, MLflow clients 1.7.0 and above attempt to record model metadata to the  tracking store. If logging to a mlflow server via REST, consider  upgrading the server version to MLflow 1.7.0 or above.\n"
     ]
    },
    {
     "name": "stdout",
     "output_type": "stream",
     "text": [
      "Running model RandomForestRegressor with feature rdkit.\n"
     ]
    },
    {
     "name": "stderr",
     "output_type": "stream",
     "text": [
      "2021/03/17 22:57:06 WARNING mlflow.models.model: Logging model metadata to the tracking server has failed, possibly due older server version. The model artifacts have been logged successfully under sftp://lsdf/kit/iti/projects/aimat-mlflow/artifacts/24/cee5a4a884694c3a989c05ff0f048397/artifacts. In addition to exporting model artifacts, MLflow clients 1.7.0 and above attempt to record model metadata to the  tracking store. If logging to a mlflow server via REST, consider  upgrading the server version to MLflow 1.7.0 or above.\n"
     ]
    }
   ],
   "source": [
    "pipeline.train()"
   ]
  },
  {
   "cell_type": "code",
   "execution_count": 5,
   "metadata": {},
   "outputs": [
    {
     "name": "stderr",
     "output_type": "stream",
     "text": [
      "/home/erik/miniconda2/envs/automol/lib/python3.8/site-packages/ipykernel/ipkernel.py:283: DeprecationWarning: `should_run_async` will not call `transform_cell` automatically in the future. Please pass the result to `transformed_cell` argument and any exception that happen during thetransform in `preprocessing_exc_tuple` in IPython 7.17 and above.\n",
      "  and should_run_async(code)\n"
     ]
    },
    {
     "data": {
      "text/html": [
       "<div>\n",
       "<style scoped>\n",
       "    .dataframe tbody tr th:only-of-type {\n",
       "        vertical-align: middle;\n",
       "    }\n",
       "\n",
       "    .dataframe tbody tr th {\n",
       "        vertical-align: top;\n",
       "    }\n",
       "\n",
       "    .dataframe thead th {\n",
       "        text-align: right;\n",
       "    }\n",
       "</style>\n",
       "<table border=\"1\" class=\"dataframe\">\n",
       "  <thead>\n",
       "    <tr style=\"text-align: right;\">\n",
       "      <th></th>\n",
       "      <th>model</th>\n",
       "      <th>feature</th>\n",
       "      <th>split_index</th>\n",
       "      <th>training_mae</th>\n",
       "      <th>training_mse</th>\n",
       "      <th>training_r2_score</th>\n",
       "      <th>test_mae</th>\n",
       "      <th>test_mse</th>\n",
       "      <th>test_r2_score</th>\n",
       "      <th>training_rmse</th>\n",
       "      <th>training_score</th>\n",
       "    </tr>\n",
       "  </thead>\n",
       "  <tbody>\n",
       "    <tr>\n",
       "      <th>7</th>\n",
       "      <td>RandomForestRegressor</td>\n",
       "      <td>rdkit</td>\n",
       "      <td>0</td>\n",
       "      <td>5.619311e-03</td>\n",
       "      <td>4.715370e-05</td>\n",
       "      <td>0.920258</td>\n",
       "      <td>0.012659</td>\n",
       "      <td>0.000222</td>\n",
       "      <td>0.666903</td>\n",
       "      <td>6.866855e-03</td>\n",
       "      <td>0.920258</td>\n",
       "    </tr>\n",
       "    <tr>\n",
       "      <th>6</th>\n",
       "      <td>GradientBoostingRegressor</td>\n",
       "      <td>rdkit</td>\n",
       "      <td>0</td>\n",
       "      <td>2.067176e-05</td>\n",
       "      <td>6.109329e-10</td>\n",
       "      <td>0.999999</td>\n",
       "      <td>0.016044</td>\n",
       "      <td>0.000403</td>\n",
       "      <td>0.395662</td>\n",
       "      <td>2.471706e-05</td>\n",
       "      <td>0.999999</td>\n",
       "    </tr>\n",
       "    <tr>\n",
       "      <th>3</th>\n",
       "      <td>RandomForestRegressor</td>\n",
       "      <td>fingerprint</td>\n",
       "      <td>0</td>\n",
       "      <td>6.122600e-03</td>\n",
       "      <td>5.770677e-05</td>\n",
       "      <td>0.892949</td>\n",
       "      <td>0.022295</td>\n",
       "      <td>0.000659</td>\n",
       "      <td>0.276088</td>\n",
       "      <td>7.596497e-03</td>\n",
       "      <td>0.892949</td>\n",
       "    </tr>\n",
       "    <tr>\n",
       "      <th>2</th>\n",
       "      <td>GradientBoostingRegressor</td>\n",
       "      <td>fingerprint</td>\n",
       "      <td>0</td>\n",
       "      <td>2.446222e-04</td>\n",
       "      <td>7.925667e-08</td>\n",
       "      <td>0.999853</td>\n",
       "      <td>0.024600</td>\n",
       "      <td>0.000724</td>\n",
       "      <td>0.205429</td>\n",
       "      <td>2.815256e-04</td>\n",
       "      <td>0.999853</td>\n",
       "    </tr>\n",
       "    <tr>\n",
       "      <th>5</th>\n",
       "      <td>GaussianProcessRegressor</td>\n",
       "      <td>rdkit</td>\n",
       "      <td>0</td>\n",
       "      <td>2.438422e-11</td>\n",
       "      <td>6.005032e-22</td>\n",
       "      <td>1.000000</td>\n",
       "      <td>0.241500</td>\n",
       "      <td>0.058989</td>\n",
       "      <td>-87.528890</td>\n",
       "      <td>2.450517e-11</td>\n",
       "      <td>1.000000</td>\n",
       "    </tr>\n",
       "    <tr>\n",
       "      <th>1</th>\n",
       "      <td>GaussianProcessRegressor</td>\n",
       "      <td>fingerprint</td>\n",
       "      <td>0</td>\n",
       "      <td>2.420066e-11</td>\n",
       "      <td>5.910624e-22</td>\n",
       "      <td>1.000000</td>\n",
       "      <td>0.258020</td>\n",
       "      <td>0.067485</td>\n",
       "      <td>-73.084578</td>\n",
       "      <td>2.431178e-11</td>\n",
       "      <td>1.000000</td>\n",
       "    </tr>\n",
       "    <tr>\n",
       "      <th>4</th>\n",
       "      <td>MLPRegressor</td>\n",
       "      <td>rdkit</td>\n",
       "      <td>0</td>\n",
       "      <td>6.999028e-02</td>\n",
       "      <td>1.287919e-02</td>\n",
       "      <td>-20.780076</td>\n",
       "      <td>0.994589</td>\n",
       "      <td>1.253153</td>\n",
       "      <td>-1879.707101</td>\n",
       "      <td>1.134865e-01</td>\n",
       "      <td>-20.780076</td>\n",
       "    </tr>\n",
       "    <tr>\n",
       "      <th>0</th>\n",
       "      <td>MLPRegressor</td>\n",
       "      <td>fingerprint</td>\n",
       "      <td>0</td>\n",
       "      <td>1.920176e-01</td>\n",
       "      <td>6.178668e-02</td>\n",
       "      <td>-113.619923</td>\n",
       "      <td>1.470028</td>\n",
       "      <td>3.541094</td>\n",
       "      <td>-3886.375049</td>\n",
       "      <td>2.485693e-01</td>\n",
       "      <td>-113.619923</td>\n",
       "    </tr>\n",
       "  </tbody>\n",
       "</table>\n",
       "</div>"
      ],
      "text/plain": [
       "                       model      feature split_index  training_mae  \\\n",
       "7      RandomForestRegressor        rdkit           0  5.619311e-03   \n",
       "6  GradientBoostingRegressor        rdkit           0  2.067176e-05   \n",
       "3      RandomForestRegressor  fingerprint           0  6.122600e-03   \n",
       "2  GradientBoostingRegressor  fingerprint           0  2.446222e-04   \n",
       "5   GaussianProcessRegressor        rdkit           0  2.438422e-11   \n",
       "1   GaussianProcessRegressor  fingerprint           0  2.420066e-11   \n",
       "4               MLPRegressor        rdkit           0  6.999028e-02   \n",
       "0               MLPRegressor  fingerprint           0  1.920176e-01   \n",
       "\n",
       "   training_mse  training_r2_score  test_mae  test_mse  test_r2_score  \\\n",
       "7  4.715370e-05           0.920258  0.012659  0.000222       0.666903   \n",
       "6  6.109329e-10           0.999999  0.016044  0.000403       0.395662   \n",
       "3  5.770677e-05           0.892949  0.022295  0.000659       0.276088   \n",
       "2  7.925667e-08           0.999853  0.024600  0.000724       0.205429   \n",
       "5  6.005032e-22           1.000000  0.241500  0.058989     -87.528890   \n",
       "1  5.910624e-22           1.000000  0.258020  0.067485     -73.084578   \n",
       "4  1.287919e-02         -20.780076  0.994589  1.253153   -1879.707101   \n",
       "0  6.178668e-02        -113.619923  1.470028  3.541094   -3886.375049   \n",
       "\n",
       "   training_rmse  training_score  \n",
       "7   6.866855e-03        0.920258  \n",
       "6   2.471706e-05        0.999999  \n",
       "3   7.596497e-03        0.892949  \n",
       "2   2.815256e-04        0.999853  \n",
       "5   2.450517e-11        1.000000  \n",
       "1   2.431178e-11        1.000000  \n",
       "4   1.134865e-01      -20.780076  \n",
       "0   2.485693e-01     -113.619923  "
      ]
     },
     "execution_count": 5,
     "metadata": {},
     "output_type": "execute_result"
    }
   ],
   "source": [
    "pipeline.get_statistics().sort_values(by='test_mae', ascending=True)"
   ]
  }
 ],
 "metadata": {
  "kernelspec": {
   "display_name": "automol",
   "language": "python",
   "name": "automol"
  },
  "language_info": {
   "codemirror_mode": {
    "name": "ipython",
    "version": 3
   },
   "file_extension": ".py",
   "mimetype": "text/x-python",
   "name": "python",
   "nbconvert_exporter": "python",
   "pygments_lexer": "ipython3",
   "version": "3.8.5"
  }
 },
 "nbformat": 4,
 "nbformat_minor": 4
}
